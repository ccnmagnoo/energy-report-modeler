{
 "cells": [
  {
   "cell_type": "code",
   "execution_count": 1,
   "metadata": {},
   "outputs": [
    {
     "name": "stdout",
     "output_type": "stream",
     "text": [
      "Requirement already satisfied: pandas in c:\\users\\crcam\\appdata\\local\\programs\\python\\python313\\lib\\site-packages (2.2.3)\n",
      "Requirement already satisfied: numpy>=1.26.0 in c:\\users\\crcam\\appdata\\local\\programs\\python\\python313\\lib\\site-packages (from pandas) (2.1.3)\n",
      "Requirement already satisfied: python-dateutil>=2.8.2 in c:\\users\\crcam\\appdata\\roaming\\python\\python313\\site-packages (from pandas) (2.9.0.post0)\n",
      "Requirement already satisfied: pytz>=2020.1 in c:\\users\\crcam\\appdata\\local\\programs\\python\\python313\\lib\\site-packages (from pandas) (2024.2)\n",
      "Requirement already satisfied: tzdata>=2022.7 in c:\\users\\crcam\\appdata\\local\\programs\\python\\python313\\lib\\site-packages (from pandas) (2024.2)\n",
      "Requirement already satisfied: six>=1.5 in c:\\users\\crcam\\appdata\\roaming\\python\\python313\\site-packages (from python-dateutil>=2.8.2->pandas) (1.16.0)\n",
      "Note: you may need to restart the kernel to use updated packages.\n",
      "Requirement already satisfied: python-dotenv in c:\\users\\crcam\\appdata\\local\\programs\\python\\python313\\lib\\site-packages (1.0.1)\n",
      "Note: you may need to restart the kernel to use updated packages.\n",
      "Requirement already satisfied: scikit-learn in c:\\users\\crcam\\appdata\\local\\programs\\python\\python313\\lib\\site-packages (1.5.2)\n",
      "Requirement already satisfied: numpy>=1.19.5 in c:\\users\\crcam\\appdata\\local\\programs\\python\\python313\\lib\\site-packages (from scikit-learn) (2.1.3)\n",
      "Requirement already satisfied: scipy>=1.6.0 in c:\\users\\crcam\\appdata\\local\\programs\\python\\python313\\lib\\site-packages (from scikit-learn) (1.14.1)\n",
      "Requirement already satisfied: joblib>=1.2.0 in c:\\users\\crcam\\appdata\\local\\programs\\python\\python313\\lib\\site-packages (from scikit-learn) (1.4.2)\n",
      "Requirement already satisfied: threadpoolctl>=3.1.0 in c:\\users\\crcam\\appdata\\local\\programs\\python\\python313\\lib\\site-packages (from scikit-learn) (3.5.0)\n",
      "Note: you may need to restart the kernel to use updated packages.\n",
      "Requirement already satisfied: sun_position_calculator in c:\\users\\crcam\\appdata\\local\\programs\\python\\python313\\lib\\site-packages (1.0.0)\n",
      "Note: you may need to restart the kernel to use updated packages.\n",
      "Requirement already satisfied: requests in c:\\users\\crcam\\appdata\\local\\programs\\python\\python313\\lib\\site-packages (2.32.3)\n",
      "Requirement already satisfied: charset-normalizer<4,>=2 in c:\\users\\crcam\\appdata\\local\\programs\\python\\python313\\lib\\site-packages (from requests) (3.4.0)\n",
      "Requirement already satisfied: idna<4,>=2.5 in c:\\users\\crcam\\appdata\\local\\programs\\python\\python313\\lib\\site-packages (from requests) (3.10)\n",
      "Requirement already satisfied: urllib3<3,>=1.21.1 in c:\\users\\crcam\\appdata\\local\\programs\\python\\python313\\lib\\site-packages (from requests) (2.2.3)\n",
      "Requirement already satisfied: certifi>=2017.4.17 in c:\\users\\crcam\\appdata\\local\\programs\\python\\python313\\lib\\site-packages (from requests) (2024.8.30)\n",
      "Note: you may need to restart the kernel to use updated packages.\n",
      "Requirement already satisfied: docxtpl in c:\\users\\crcam\\appdata\\local\\programs\\python\\python313\\lib\\site-packages (0.19.0)\n",
      "Requirement already satisfied: python-docx>=1.1.1 in c:\\users\\crcam\\appdata\\local\\programs\\python\\python313\\lib\\site-packages (from docxtpl) (1.1.2)\n",
      "Requirement already satisfied: docxcompose in c:\\users\\crcam\\appdata\\local\\programs\\python\\python313\\lib\\site-packages (from docxtpl) (1.4.0)\n",
      "Requirement already satisfied: jinja2 in c:\\users\\crcam\\appdata\\local\\programs\\python\\python313\\lib\\site-packages (from docxtpl) (3.1.4)\n",
      "Requirement already satisfied: lxml in c:\\users\\crcam\\appdata\\local\\programs\\python\\python313\\lib\\site-packages (from docxtpl) (5.3.0)\n",
      "Requirement already satisfied: typing-extensions>=4.9.0 in c:\\users\\crcam\\appdata\\local\\programs\\python\\python313\\lib\\site-packages (from python-docx>=1.1.1->docxtpl) (4.12.2)\n",
      "Requirement already satisfied: setuptools in c:\\users\\crcam\\appdata\\local\\programs\\python\\python313\\lib\\site-packages (from docxcompose->docxtpl) (75.5.0)\n",
      "Requirement already satisfied: six in c:\\users\\crcam\\appdata\\roaming\\python\\python313\\site-packages (from docxcompose->docxtpl) (1.16.0)\n",
      "Requirement already satisfied: babel in c:\\users\\crcam\\appdata\\local\\programs\\python\\python313\\lib\\site-packages (from docxcompose->docxtpl) (2.16.0)\n",
      "Requirement already satisfied: MarkupSafe>=2.0 in c:\\users\\crcam\\appdata\\local\\programs\\python\\python313\\lib\\site-packages (from jinja2->docxtpl) (3.0.2)\n",
      "Note: you may need to restart the kernel to use updated packages.\n",
      "Requirement already satisfied: matplotlib in c:\\users\\crcam\\appdata\\local\\programs\\python\\python313\\lib\\site-packages (3.9.2)\n",
      "Requirement already satisfied: contourpy>=1.0.1 in c:\\users\\crcam\\appdata\\local\\programs\\python\\python313\\lib\\site-packages (from matplotlib) (1.3.1)\n",
      "Requirement already satisfied: cycler>=0.10 in c:\\users\\crcam\\appdata\\local\\programs\\python\\python313\\lib\\site-packages (from matplotlib) (0.12.1)\n",
      "Requirement already satisfied: fonttools>=4.22.0 in c:\\users\\crcam\\appdata\\local\\programs\\python\\python313\\lib\\site-packages (from matplotlib) (4.55.0)\n",
      "Requirement already satisfied: kiwisolver>=1.3.1 in c:\\users\\crcam\\appdata\\local\\programs\\python\\python313\\lib\\site-packages (from matplotlib) (1.4.7)\n",
      "Requirement already satisfied: numpy>=1.23 in c:\\users\\crcam\\appdata\\local\\programs\\python\\python313\\lib\\site-packages (from matplotlib) (2.1.3)\n",
      "Requirement already satisfied: packaging>=20.0 in c:\\users\\crcam\\appdata\\roaming\\python\\python313\\site-packages (from matplotlib) (24.2)\n",
      "Requirement already satisfied: pillow>=8 in c:\\users\\crcam\\appdata\\local\\programs\\python\\python313\\lib\\site-packages (from matplotlib) (11.0.0)\n",
      "Requirement already satisfied: pyparsing>=2.3.1 in c:\\users\\crcam\\appdata\\local\\programs\\python\\python313\\lib\\site-packages (from matplotlib) (3.2.0)\n",
      "Requirement already satisfied: python-dateutil>=2.7 in c:\\users\\crcam\\appdata\\roaming\\python\\python313\\site-packages (from matplotlib) (2.9.0.post0)\n",
      "Requirement already satisfied: six>=1.5 in c:\\users\\crcam\\appdata\\roaming\\python\\python313\\site-packages (from python-dateutil>=2.7->matplotlib) (1.16.0)\n",
      "Note: you may need to restart the kernel to use updated packages.\n",
      "Requirement already satisfied: tabulate in c:\\users\\crcam\\appdata\\local\\programs\\python\\python313\\lib\\site-packages (0.9.0)\n",
      "Note: you may need to restart the kernel to use updated packages.\n",
      "Requirement already satisfied: pyxirr in c:\\users\\crcam\\appdata\\local\\programs\\python\\python313\\lib\\site-packages (0.10.6)\n",
      "Note: you may need to restart the kernel to use updated packages.\n",
      "Requirement already satisfied: openpyxl in c:\\users\\crcam\\appdata\\local\\programs\\python\\python313\\lib\\site-packages (3.1.5)\n",
      "Requirement already satisfied: et-xmlfile in c:\\users\\crcam\\appdata\\local\\programs\\python\\python313\\lib\\site-packages (from openpyxl) (2.0.0)\n",
      "Note: you may need to restart the kernel to use updated packages.\n",
      "Requirement already satisfied: folium in c:\\users\\crcam\\appdata\\local\\programs\\python\\python313\\lib\\site-packages (0.18.0)\n",
      "Requirement already satisfied: branca>=0.6.0 in c:\\users\\crcam\\appdata\\local\\programs\\python\\python313\\lib\\site-packages (from folium) (0.8.0)\n",
      "Requirement already satisfied: jinja2>=2.9 in c:\\users\\crcam\\appdata\\local\\programs\\python\\python313\\lib\\site-packages (from folium) (3.1.4)\n",
      "Requirement already satisfied: numpy in c:\\users\\crcam\\appdata\\local\\programs\\python\\python313\\lib\\site-packages (from folium) (2.1.3)\n",
      "Requirement already satisfied: requests in c:\\users\\crcam\\appdata\\local\\programs\\python\\python313\\lib\\site-packages (from folium) (2.32.3)\n",
      "Requirement already satisfied: xyzservices in c:\\users\\crcam\\appdata\\local\\programs\\python\\python313\\lib\\site-packages (from folium) (2024.9.0)\n",
      "Requirement already satisfied: MarkupSafe>=2.0 in c:\\users\\crcam\\appdata\\local\\programs\\python\\python313\\lib\\site-packages (from jinja2>=2.9->folium) (3.0.2)\n",
      "Requirement already satisfied: charset-normalizer<4,>=2 in c:\\users\\crcam\\appdata\\local\\programs\\python\\python313\\lib\\site-packages (from requests->folium) (3.4.0)\n",
      "Requirement already satisfied: idna<4,>=2.5 in c:\\users\\crcam\\appdata\\local\\programs\\python\\python313\\lib\\site-packages (from requests->folium) (3.10)\n",
      "Requirement already satisfied: urllib3<3,>=1.21.1 in c:\\users\\crcam\\appdata\\local\\programs\\python\\python313\\lib\\site-packages (from requests->folium) (2.2.3)\n",
      "Requirement already satisfied: certifi>=2017.4.17 in c:\\users\\crcam\\appdata\\local\\programs\\python\\python313\\lib\\site-packages (from requests->folium) (2024.8.30)\n",
      "Note: you may need to restart the kernel to use updated packages.\n",
      "Requirement already satisfied: html2image in c:\\users\\crcam\\appdata\\local\\programs\\python\\python313\\lib\\site-packages (2.0.5)\n",
      "Requirement already satisfied: requests in c:\\users\\crcam\\appdata\\local\\programs\\python\\python313\\lib\\site-packages (from html2image) (2.32.3)\n",
      "Requirement already satisfied: websocket-client==1.* in c:\\users\\crcam\\appdata\\local\\programs\\python\\python313\\lib\\site-packages (from html2image) (1.8.0)\n",
      "Requirement already satisfied: charset-normalizer<4,>=2 in c:\\users\\crcam\\appdata\\local\\programs\\python\\python313\\lib\\site-packages (from requests->html2image) (3.4.0)\n",
      "Requirement already satisfied: idna<4,>=2.5 in c:\\users\\crcam\\appdata\\local\\programs\\python\\python313\\lib\\site-packages (from requests->html2image) (3.10)\n",
      "Requirement already satisfied: urllib3<3,>=1.21.1 in c:\\users\\crcam\\appdata\\local\\programs\\python\\python313\\lib\\site-packages (from requests->html2image) (2.2.3)\n",
      "Requirement already satisfied: certifi>=2017.4.17 in c:\\users\\crcam\\appdata\\local\\programs\\python\\python313\\lib\\site-packages (from requests->html2image) (2024.8.30)\n",
      "Note: you may need to restart the kernel to use updated packages.\n"
     ]
    }
   ],
   "source": [
    "%pip install pandas \n",
    "%pip install python-dotenv\n",
    "%pip install -U scikit-learn\n",
    "%pip install sun_position_calculator\n",
    "%pip install requests\n",
    "%pip install docxtpl\n",
    "%pip install matplotlib\n",
    "%pip install tabulate\n",
    "%pip install pyxirr\n",
    "%pip install openpyxl\n",
    "%pip install folium\n",
    "%pip install html2image"
   ]
  },
  {
   "cell_type": "code",
   "execution_count": 2,
   "metadata": {},
   "outputs": [],
   "source": [
    "#local models\n",
    "from typing import Dict\n",
    "from models.econometrics import Cost, Currency\n",
    "from models.components import Component\n",
    "from models.econometrics import Cost\n",
    "from models.geometry import Orientation\n",
    "\n",
    "#init project\n",
    "from models.components import Tech\n",
    "from models.consumption import Energetic\n",
    "from models.inventory import Building, Project\n",
    "import pandas as pd"
   ]
  },
  {
   "cell_type": "code",
   "execution_count": 3,
   "metadata": {},
   "outputs": [],
   "source": [
    "#local env variables\n",
    "from dotenv import dotenv_values\n",
    "config = dotenv_values(\".env.local\")"
   ]
  },
  {
   "cell_type": "markdown",
   "metadata": {},
   "source": [
    "# Building references"
   ]
  },
  {
   "cell_type": "markdown",
   "metadata": {},
   "source": [
    "## Address and general info🌎"
   ]
  },
  {
   "cell_type": "markdown",
   "metadata": {},
   "source": [
    "## Energy Consumptions🔌"
   ]
  },
  {
   "cell_type": "code",
   "execution_count": 4,
   "metadata": {},
   "outputs": [
    {
     "name": "stdout",
     "output_type": "stream",
     "text": [
      "getting weather data...\n",
      "api request URL https://power.larc.nasa.gov/api/temporal/hourly/point?Time=LST&parameters=T2M,ALLSKY_SFC_SW_DNI,ALLSKY_SFC_SW_DIFF,ALLSKY_SRF_ALB,SZA,WS10M&community=RE&latitude=-33.047016&longitude=-71.621509&start=20230101&end=20231231&format=JSON\n",
      "getting currencies data...\n",
      "set $1 Peso Chileno... on USD$0.00 \n",
      "set $1 UF............. on USD$39.37 \n",
      "set $1 UTM............ on USD$69.18 \n",
      "set $1 Euro........... on USD$1.05 \n",
      "set $1 Pound.......... on USD$1.27 \n",
      "set $1 Real........... on USD$0.17 \n",
      "adding consumptions data...\n"
     ]
    }
   ],
   "source": [
    "#cspell:disable\n",
    "\n",
    "\n",
    "project:Project = Project(\n",
    "    title='Sistema PV MHNV OnGrid-Mixto',\n",
    "    building = Building(\n",
    "        geolocation=(-33.047016, -71.621509),\n",
    "        name='Edificio Carlos Porter MHNV',\n",
    "        address='Calle Condell 1546',\n",
    "        city='Valparaíso'),\n",
    "    technology= [Tech.PHOTOVOLTAIC],\n",
    "    consumption= {\n",
    "        'description':'main',\n",
    "        'energetic':Energetic.ELI,\n",
    "        'cost_increment':8/100,\n",
    "        'consumption':[\n",
    "            (1051,\"01-02-2023\",97361),\n",
    "            (1123,\"02-03-2023\",104031),\n",
    "            (1157,\"03-04-2023\",107181),\n",
    "            (1220,\"04-05-2023\",137911),\n",
    "            (1299,\"01-06-2023\",146841),\n",
    "            (1549,\"04-07-2023\",175101),\n",
    "            (1353,\"02-08-2023\",152946),\n",
    "            (1420,\"01-09-2023\",160519),\n",
    "            (1283,\"03-10-2023\",145033),\n",
    "            (1275,\"03-11-2023\",144128),\n",
    "            (1346,\"03-12-2023\",152155),\n",
    "            (1438,\"03-01-2024\",162554),\n",
    "\n",
    "            ],\n",
    "        }\n",
    "    )"
   ]
  },
  {
   "cell_type": "markdown",
   "metadata": {},
   "source": [
    "# Integration "
   ]
  },
  {
   "cell_type": "markdown",
   "metadata": {},
   "source": [
    "## Machine Components 🎡"
   ]
  },
  {
   "cell_type": "code",
   "execution_count": null,
   "metadata": {},
   "outputs": [
    {
     "name": "stdout",
     "output_type": "stream",
     "text": [
      "inside cost pv :  208547.06 Currency.CLP\n",
      "inside cost pv :  208547.06 Currency.CLP\n",
      "inside cost pv :  208547.06 Currency.CLP\n"
     ]
    }
   ],
   "source": [
    "#cspell: disable\n",
    "#repository of reusable components\n",
    "from libs.repository import repoEquipment,panelRepo\n",
    "from models.components import Specs\n",
    "#clean previous load\n",
    "project.components = {}\n",
    "\n",
    "from IPython.display import clear_output\n",
    "\n",
    "from models.energy_storage import Battery\n",
    "from models.photovoltaic import PvInput\n",
    "clear_output(wait=True)\n",
    "\n",
    "# assembly projects components\n",
    "project.add_generator(\n",
    "    panelRepo['CS 655W'],# equipment\n",
    "    PvInput(\n",
    "        description='Panel 655W MODULO 01',\n",
    "        quantity=9,\n",
    "        orientation=Orientation(35,28),\n",
    "        ),\n",
    "    PvInput(\n",
    "        description='Panel 655W MODULO 02',\n",
    "        quantity=11,\n",
    "        orientation=Orientation(20,28),\n",
    "        ),\n",
    "    PvInput(\n",
    "        description='Panel 655W MODULO 03',\n",
    "        quantity=4,\n",
    "        orientation=Orientation(10,28),\n",
    "    )\n",
    "    \n",
    ")\n",
    "\n",
    "#nominal power\n",
    "pj_power = project.nominal_power\n",
    "\n",
    "# Energy process\n",
    "project.add_component(\n",
    "    'Instalación',\n",
    "    repoEquipment['Inverter']['DY 12kW H'],# ./../libs/repository.py\n",
    "    repoEquipment['Medidor']['FR 3F'],# lectura\n",
    "    Component(\n",
    "    description='eléctrica interior',\n",
    "    specification=Specs(\n",
    "        category='Obra',\n",
    "        brand='conexionado',\n",
    "        model='interiores'\n",
    "        ),\n",
    "    cost_per_unit=Cost(225_000,currency=Currency.CLP),\n",
    "    quantity=int(project.nominal_power[0])\n",
    "    ),\n",
    "Component(\n",
    "    description='estructura de montaje',\n",
    "    specification=Specs(\n",
    "        category='Montaje',\n",
    "        montaje='coplanar',\n",
    "        ),\n",
    "    cost_per_unit=Cost(45_000,Currency.CLP),\n",
    "    quantity=project.n_generator\n",
    "    ),\n",
    ")\n",
    "\n",
    "# BESS & Storage\n",
    "has_storage:bool = True\n",
    "\n",
    "if has_storage:\n",
    "    project.add_component(\n",
    "        'Almacenamiento',\n",
    "        repoEquipment['Regulator']['VT 45A'],\n",
    "        repoEquipment['Monitor']['VC 700'],#\n",
    "        Battery(\n",
    "            description='Baterías',\n",
    "            specifications=Specs(\n",
    "                category='Storage',\n",
    "                brand='MaxPower',\n",
    "                model='MP GEL12-250',\n",
    "                ref_url='https://www.tiendatecnored.cl/bateria-gel-ciclo-profundo-12v-250ah.html',\n",
    "                specs_url='https://www.tiendatecnored.cl/media/wysiwyg/ficha-tecnica/4703148.pdf',\n",
    "                clase='Ciclo Profundo',\n",
    "                tipo='GEL'\n",
    "                ),\n",
    "            cost_per_unit=Cost(305_990,Currency.CLP),\n",
    "            volt=12,\n",
    "            charge=250,\n",
    "            demand=project.building.consumption_forecast(['main'])['energy'].to_list(),\n",
    "            hours_autonomy=4,\n",
    "            use_regime='8/5',\n",
    "        ),\n",
    "    )\n",
    "\n",
    "# obras y accesorios\n",
    "project.add_component(\n",
    "    'Obras',\n",
    "    # Component(\n",
    "    #     description='Instalación eléctrica',\n",
    "    #     specification=Specs(\n",
    "    #         category='Obra',\n",
    "    #         brand='horas instaladores',\n",
    "    #         model='/HP.'\n",
    "    #         ),\n",
    "    #     cost_per_unit=Cost(1,currency=Currency.UF),\n",
    "    #     quantity=project.n_generator*5,\n",
    "    #     ),\n",
    "    Component(\n",
    "        description='Faenas',\n",
    "        specification=Specs(\n",
    "            category='Obra',\n",
    "            brand='equipamiento',\n",
    "            model='provisorio'),\n",
    "        cost_per_unit=Cost(18_750,Currency.CLP),\n",
    "        quantity=project.n_generator\n",
    "        ),\n",
    "    Component(\n",
    "        description='Capacitación',\n",
    "        specification=Specs(\n",
    "            category='Obra',\n",
    "            brand='Uso y',\n",
    "            model='mantenimiento',\n",
    "            taller='2 Hrs',\n",
    "            manual='3 u. impreso',\n",
    "            ),\n",
    "        cost_per_unit=Cost(250_000,Currency.CLP),\n",
    "        ),\n",
    "    Component(\n",
    "        description='Letrero',\n",
    "        specification=Specs(\n",
    "            category='Obra',\n",
    "            brand='pliego',\n",
    "            model='estructura',\n",
    "            specs_url='#pliegos-técnicos',\n",
    "            dim='3.6m x 1.5m',\n",
    "            ),\n",
    "        cost_per_unit=Cost(450_000,Currency.CLP),\n",
    "        )\n",
    ")"
   ]
  },
  {
   "cell_type": "code",
   "execution_count": 14,
   "metadata": {},
   "outputs": [
    {
     "data": {
      "text/plain": [
       "{'bucket':              gloss                    description  \\\n",
       " 0       generación           Panel 655W MODULO 01   \n",
       " 1       generación           Panel 655W MODULO 02   \n",
       " 2       generación           Panel 655W MODULO 03   \n",
       " 3      Instalación      Inversor Híbrido 3/F 12kW   \n",
       " 4      Instalación  Medidor Trifásico 3x50kA 400V   \n",
       " 5      Instalación             eléctrica interior   \n",
       " 6      Instalación          estructura de montaje   \n",
       " 7   almacenamiento                      Regulador   \n",
       " 8   almacenamiento               Monitor de carga   \n",
       " 9   almacenamiento                       Baterías   \n",
       " 10           obras                         Faenas   \n",
       " 11           obras                   Capacitación   \n",
       " 12           obras                        Letrero   \n",
       " \n",
       "                                          details  quantity  cost_after_tax  \\\n",
       " 0           Photovoltaic Canadian solar CS7N-655         9      1876923.45   \n",
       " 1           Photovoltaic Canadian solar CS7N-655        11      2294017.55   \n",
       " 2           Photovoltaic Canadian solar CS7N-655         4       834188.20   \n",
       " 3              Inverter Deye SUN-12K-SG04L P3-EU         1      3262339.55   \n",
       " 4                 Medidor Fronius SMMT-TRIF-50kA         1       353050.00   \n",
       " 5                    Obra conexionado interiores        15      3375000.00   \n",
       " 6                            Montaje generic n/i        24      1080000.00   \n",
       " 7   Charge Regulator Victron Bluesolar 150/45-Tr         1       310924.35   \n",
       " 8                        Storage Victron BMV-700         1         7894.70   \n",
       " 9                  Storage MaxPower MP GEL12-250        10      3059900.00   \n",
       " 10                  Obra equipamiento provisorio        24       450000.00   \n",
       " 11                      Obra Uso y mantenimiento         1       250000.00   \n",
       " 12                        Obra pliego estructura         1       450000.00   \n",
       " \n",
       "         currency  \n",
       " 0   Peso Chileno  \n",
       " 1   Peso Chileno  \n",
       " 2   Peso Chileno  \n",
       " 3   Peso Chileno  \n",
       " 4   Peso Chileno  \n",
       " 5   Peso Chileno  \n",
       " 6   Peso Chileno  \n",
       " 7   Peso Chileno  \n",
       " 8   Peso Chileno  \n",
       " 9   Peso Chileno  \n",
       " 10  Peso Chileno  \n",
       " 11  Peso Chileno  \n",
       " 12  Peso Chileno  ,\n",
       " 'sub-total': 17604238.0,\n",
       " 'gastos_gral (15%)': 2640636.0,\n",
       " 'utilidad (2%)': 352085.0,\n",
       " 'total net': 20596959.0,\n",
       " 'Imp(19%)': 3913422.0,\n",
       " 'total': 24510381.0}"
      ]
     },
     "execution_count": 14,
     "metadata": {},
     "output_type": "execute_result"
    }
   ],
   "source": [
    "#calculate bucket\n",
    "project.bucket_list(currency=Currency.CLP,gastos_gral=15,utilidad=2)\n"
   ]
  },
  {
   "cell_type": "code",
   "execution_count": 10,
   "metadata": {},
   "outputs": [
    {
     "data": {
      "text/plain": [
       "'Photovoltaic Canadian solar CS7N-655\\ndetails     : power:655 W|cell:monocristalino|Vmp:38.1V|Imp:17.2A|Vsc:45.2V|Isc:18.4A|ef:21.20%\\nmarket link : https://www.tiendatecnored.cl/modulo-fotovoltaico-650w-canadian-solar.html\\ntech link   : https://static.csisolar.com/wp-content/uploads/sites/3/2021/07/28105634/CS-BiHiKu7_CS7N-MB-AG_v1.7_F43M_J1_NA.pdf'"
      ]
     },
     "execution_count": 10,
     "metadata": {},
     "output_type": "execute_result"
    }
   ],
   "source": [
    "str(f'{project.components['generación'][1].specification:f}')"
   ]
  },
  {
   "cell_type": "markdown",
   "metadata": {},
   "source": [
    "# Write Document 📒\n"
   ]
  },
  {
   "cell_type": "code",
   "execution_count": null,
   "metadata": {},
   "outputs": [],
   "source": [
    "import os\n",
    "PATH = 'build/'+f'r_{project.building.city.lower()[:3]}_{project.building.name}/'\n",
    "\n",
    "if not os.path.exists(PATH):\n",
    "    #create\n",
    "    os.makedirs(PATH)"
   ]
  },
  {
   "cell_type": "markdown",
   "metadata": {},
   "source": [
    "### Saving results on EXCEL ❎"
   ]
  },
  {
   "cell_type": "code",
   "execution_count": null,
   "metadata": {},
   "outputs": [],
   "source": [
    "from models.plotter import toTable\n",
    "toTable(project,PATH)"
   ]
  },
  {
   "cell_type": "markdown",
   "metadata": {},
   "source": [
    "### Generate Context->Doc📄✍️"
   ]
  },
  {
   "cell_type": "code",
   "execution_count": null,
   "metadata": {},
   "outputs": [],
   "source": [
    "from docxtpl import DocxTemplate # type: ignore\n",
    "#init doc\n",
    "#assembly proxy object \n",
    "memory_report = DocxTemplate(\"templates/memory_template.docx\")\n",
    "bidding_report = DocxTemplate(\"templates/bidding_template.docx\")"
   ]
  },
  {
   "cell_type": "markdown",
   "metadata": {},
   "source": [
    "## Write params and tables"
   ]
  },
  {
   "cell_type": "code",
   "execution_count": null,
   "metadata": {},
   "outputs": [],
   "source": [
    "#loading context\n",
    "#cspell: disable\n",
    "memory_report.render(project.context(template=memory_report))\n",
    "bidding_report.render(project.context(template=bidding_report))\n"
   ]
  },
  {
   "cell_type": "markdown",
   "metadata": {},
   "source": [
    "## Insert Plots 📊"
   ]
  },
  {
   "cell_type": "code",
   "execution_count": null,
   "metadata": {},
   "outputs": [],
   "source": [
    "bucket_df = project.bucket_list(Currency.CLP)['bucket']\n",
    "#cspell: disable\n",
    "bucket_df[['description','details','quantity','cost_after_tax']]\\\n",
    "    .rename(columns={\n",
    "                        'description':'descripción',\n",
    "                        'details':'técnico',\n",
    "                        'quantity':'cantidad',\n",
    "                        'cost_after_tax':'costo neto'\n",
    "                    }).to_markdown(index=False,floatfmt=',.0f')"
   ]
  },
  {
   "cell_type": "code",
   "execution_count": null,
   "metadata": {},
   "outputs": [],
   "source": [
    "#dep\n",
    "from models.plotter import plotter\n",
    "plotter(project,PATH)"
   ]
  },
  {
   "cell_type": "code",
   "execution_count": null,
   "metadata": {},
   "outputs": [],
   "source": [
    "#set into doc\n",
    "plot_list = [\n",
    "    'plot_consumption_forecast',\n",
    "    'plot_irradiance',\n",
    "    'plot_temperature',\n",
    "    'plot_components',\n",
    "    'plot_components_irr',\n",
    "    'plot_components_production',\n",
    "    'plot_production_performance',\n",
    "    'plot_performance_frequency',\n",
    "    'plot_flux',\n",
    "    'map_location'\n",
    "]\n",
    "\n",
    "for plot in plot_list:\n",
    "    memory_report.replace_pic(plot,PATH+f'{plot}.png')\n",
    "    print('replaced plot:',plot)"
   ]
  },
  {
   "cell_type": "code",
   "execution_count": null,
   "metadata": {},
   "outputs": [],
   "source": [
    "from datetime import datetime\n",
    "memory_report.save(PATH+f\"reporte_memoria_calculo.docx\")\n",
    "bidding_report.save(PATH+f\"reporte_pliegos_técnicos.docx\")\n",
    "print('work',project,'finish at: ',datetime.now())"
   ]
  },
  {
   "cell_type": "markdown",
   "metadata": {},
   "source": []
  }
 ],
 "metadata": {
  "kernelspec": {
   "display_name": "Python 3",
   "language": "python",
   "name": "python3"
  },
  "language_info": {
   "codemirror_mode": {
    "name": "ipython",
    "version": 3
   },
   "file_extension": ".py",
   "mimetype": "text/x-python",
   "name": "python",
   "nbconvert_exporter": "python",
   "pygments_lexer": "ipython3",
   "version": "3.13.0"
  }
 },
 "nbformat": 4,
 "nbformat_minor": 2
}
