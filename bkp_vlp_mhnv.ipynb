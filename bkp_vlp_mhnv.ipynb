{
 "cells": [
  {
   "cell_type": "code",
   "execution_count": null,
   "metadata": {},
   "outputs": [],
   "source": [
    "%pip install pandas \n",
    "%pip install python-dotenv\n",
    "%pip install -U scikit-learn\n",
    "%pip install sun_position_calculator\n",
    "%pip install requests\n",
    "%pip install docxtpl\n",
    "%pip install matplotlib\n",
    "%pip install tabulate\n",
    "%pip install pyxirr\n",
    "%pip install openpyxl\n",
    "%pip install folium\n",
    "%pip install html2image"
   ]
  },
  {
   "cell_type": "code",
   "execution_count": 1,
   "metadata": {},
   "outputs": [],
   "source": [
    "#local env variables\n",
    "from dotenv import dotenv_values\n",
    "config = dotenv_values(\".env.local\")"
   ]
  },
  {
   "cell_type": "markdown",
   "metadata": {},
   "source": [
    "# Building references"
   ]
  },
  {
   "cell_type": "markdown",
   "metadata": {},
   "source": [
    "## Energy Consumptions🔌"
   ]
  },
  {
   "cell_type": "code",
   "execution_count": 1,
   "metadata": {},
   "outputs": [
    {
     "name": "stdout",
     "output_type": "stream",
     "text": [
      "getting weather data...\n",
      "api request URL https://power.larc.nasa.gov/api/temporal/hourly/point?Time=LST&parameters=T2M,ALLSKY_SFC_SW_DNI,ALLSKY_SFC_SW_DIFF,ALLSKY_SRF_ALB,SZA,WS10M&community=RE&latitude=-33.047016&longitude=-71.621509&start=20230101&end=20231231&format=JSON\n",
      "getting currencies data...\n",
      "set $1 Pesos chileno.. on USD$0.00 \n",
      "set $1 UF............. on USD$38.84 \n",
      "set $1 UTM............ on USD$68.08 \n",
      "set $1 Euro........... on USD$1.04 \n",
      "set $1 Pound.......... on USD$1.26 \n",
      "set $1 Real........... on USD$0.16 \n",
      "adding consumptions data...\n"
     ]
    }
   ],
   "source": [
    "#cspell:disable\n",
    "from models.components import Tech,Component\n",
    "from models.consumption import Energetic\n",
    "from models.inventory import Building, Project\n",
    "\n",
    "\n",
    "project:Project = Project(\n",
    "    title='Sistema PV MHNV OnGrid',\n",
    "    building = Building(\n",
    "        geolocation=(-33.047016, -71.621509),\n",
    "        name='Edificio C_Porter MHNV',\n",
    "        address='Calle Condell 1546',\n",
    "        city='Valparaíso'),\n",
    "    technology= [Tech.PHOTOVOLTAIC],\n",
    "    consumption= {\n",
    "        'description':'main',\n",
    "        'energetic':Energetic.ELI,\n",
    "        'cost_increment':8/100,\n",
    "        'consumption':[\n",
    "            (1051,\"01-02-2023\",97361),\n",
    "            (1123,\"02-03-2023\",104031),\n",
    "            (1157,\"03-04-2023\",107181),\n",
    "            (1220,\"04-05-2023\",137911),\n",
    "            (1299,\"01-06-2023\",146841),\n",
    "            (1549,\"04-07-2023\",175101),\n",
    "            (1353,\"02-08-2023\",152946),\n",
    "            (1420,\"01-09-2023\",160519),\n",
    "            (1283,\"03-10-2023\",145033),\n",
    "            (1275,\"03-11-2023\",144128),\n",
    "            (1346,\"03-12-2023\",152155),\n",
    "            (1438,\"03-01-2024\",162554),\n",
    "\n",
    "            ],\n",
    "        }\n",
    "    )"
   ]
  },
  {
   "cell_type": "code",
   "execution_count": 7,
   "metadata": {},
   "outputs": [
    {
     "name": "stdout",
     "output_type": "stream",
     "text": [
      "2023-02-01 00:00:00\n",
      "2023-03-02 00:00:00\n",
      "2023-04-03 00:00:00\n",
      "2023-05-04 00:00:00\n",
      "2023-06-01 00:00:00\n",
      "2023-07-04 00:00:00\n",
      "2023-08-02 00:00:00\n",
      "2023-09-01 00:00:00\n",
      "2023-10-03 00:00:00\n",
      "2023-11-03 00:00:00\n",
      "2023-12-03 00:00:00\n",
      "2024-01-03 00:00:00\n"
     ]
    }
   ],
   "source": [
    "for bill in project.building.consumptions['main']:\n",
    "    print(bill.date_billing)"
   ]
  },
  {
   "cell_type": "markdown",
   "metadata": {},
   "source": [
    "# Integration "
   ]
  },
  {
   "cell_type": "markdown",
   "metadata": {},
   "source": [
    "### Machine Components 🎡"
   ]
  },
  {
   "cell_type": "code",
   "execution_count": null,
   "metadata": {},
   "outputs": [],
   "source": [
    "#cspell: disable\n",
    "#repository of reusable components\n",
    "from libs.repository import repoEquipment,panelRepo\n",
    "from models.components import Specs\n",
    "from models.econometrics import Currency,Cost\n",
    "from models.geometry import Orientation\n",
    "#clean previous load\n",
    "project.components = {}\n",
    "\n",
    "from IPython.display import clear_output\n",
    "\n",
    "from models.photovoltaic import PvInput\n",
    "clear_output(wait=True)\n",
    "\n",
    "# assembly projects components\n",
    "project.add_generator(\n",
    "    panelRepo['CS 655W'],# equipment\n",
    "    PvInput(\n",
    "        description='FV 655W MOD 01',\n",
    "        quantity=9,\n",
    "        orientation=Orientation(35,28),\n",
    "        ),\n",
    "    PvInput(\n",
    "        description='FV 655W MOD 02',\n",
    "        quantity=11,\n",
    "        orientation=Orientation(20,28),\n",
    "        ),\n",
    "    # PvInput(\n",
    "    #     description='FV 655W MOD 03',\n",
    "    #     quantity=4,\n",
    "    #     orientation=Orientation(10,28),\n",
    "    # )\n",
    "    \n",
    ")\n",
    "\n",
    "#nominal power\n",
    "pj_power = project.nominal_power\n",
    "\n",
    "# Energy process\n",
    "project.add_component(\n",
    "    'instalación',\n",
    "    repoEquipment['Inverter']['DY 12kW H'],# inverter\n",
    "    repoEquipment['Medidor']['FR 3F'],# lectura\n",
    "    Component(\n",
    "    description='eléctrica interior',\n",
    "    specification=Specs(\n",
    "        category='Obra',\n",
    "        brand='conexionado',\n",
    "        model='interiores'\n",
    "        ),\n",
    "    cost_per_unit=Cost(225_000,currency=Currency.CLP),\n",
    "    quantity=int(project.nominal_power[0])\n",
    "    ),\n",
    "Component(\n",
    "    description='est. de montaje',\n",
    "    specification=Specs(\n",
    "        category='Montaje',\n",
    "        montaje='coplanar',\n",
    "        ),\n",
    "    cost_per_unit=Cost(45_000,Currency.CLP),\n",
    "    quantity=project.n_generator\n",
    "    ),\n",
    ")\n",
    "\n",
    "# BESS & Storage\n",
    "project.add_storage(\n",
    "    'almacenamiento',4,'8/5',\n",
    "    repoEquipment['Monitor']['VC 700'],\n",
    "    repoEquipment['Regulator']['VT 45A']\n",
    "    )\n",
    "\n",
    "# obras y accesorios\n",
    "project.add_component(\n",
    "    'Obras',\n",
    "    Component(\n",
    "        description='Faenas',\n",
    "        specification=Specs(\n",
    "            category='Obra',\n",
    "            brand='equipamiento',\n",
    "            model='provisorio'),\n",
    "        cost_per_unit=Cost(18_750,Currency.CLP),\n",
    "        quantity=project.n_generator\n",
    "        ),\n",
    "    Component(\n",
    "        description='Capacitación',\n",
    "        specification=Specs(\n",
    "            category='Obra',\n",
    "            brand='Uso y',\n",
    "            model='mantenimiento',\n",
    "            taller='2 Hrs',\n",
    "            manual='3 u. impreso',\n",
    "            ),\n",
    "        cost_per_unit=Cost(250_000,Currency.CLP),\n",
    "        ),\n",
    "    Component(\n",
    "        description='Letrero',\n",
    "        specification=Specs(\n",
    "            category='Obra',\n",
    "            brand='pliego',\n",
    "            model='estructura',\n",
    "            specs_url='#pliegos-técnicos',\n",
    "            dim='3.6m x 1.5m',\n",
    "            ),\n",
    "        cost_per_unit=Cost(450_000,Currency.CLP),\n",
    "        )\n",
    ")"
   ]
  },
  {
   "cell_type": "code",
   "execution_count": 4,
   "metadata": {},
   "outputs": [],
   "source": [
    "#Define bucket overloads\n",
    "project.bucket.set_overloads(gastos_gral=15,utilidad=10)\n"
   ]
  },
  {
   "cell_type": "markdown",
   "metadata": {},
   "source": [
    "# Write Document 📒\n"
   ]
  },
  {
   "cell_type": "code",
   "execution_count": null,
   "metadata": {},
   "outputs": [],
   "source": [
    "from models.plotter import generate_docs\n",
    "generate_docs(project)"
   ]
  },
  {
   "cell_type": "markdown",
   "metadata": {},
   "source": []
  }
 ],
 "metadata": {
  "kernelspec": {
   "display_name": "Python 3",
   "language": "python",
   "name": "python3"
  },
  "language_info": {
   "codemirror_mode": {
    "name": "ipython",
    "version": 3
   },
   "file_extension": ".py",
   "mimetype": "text/x-python",
   "name": "python",
   "nbconvert_exporter": "python",
   "pygments_lexer": "ipython3",
   "version": "3.13.0"
  }
 },
 "nbformat": 4,
 "nbformat_minor": 2
}
