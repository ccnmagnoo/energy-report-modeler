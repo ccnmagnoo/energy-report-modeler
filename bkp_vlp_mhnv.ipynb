{
 "cells": [
  {
   "cell_type": "code",
   "execution_count": null,
   "metadata": {},
   "outputs": [],
   "source": [
    "%pip install pandas \n",
    "%pip install python-dotenv\n",
    "%pip install -U scikit-learn\n",
    "%pip install sun_position_calculator\n",
    "%pip install requests\n",
    "%pip install docxtpl\n",
    "%pip install matplotlib\n",
    "%pip install tabulate\n",
    "%pip install pyxirr\n",
    "%pip install openpyxl\n",
    "%pip install folium\n",
    "%pip install html2image"
   ]
  },
  {
   "cell_type": "code",
   "execution_count": null,
   "metadata": {},
   "outputs": [],
   "source": [
    "#local models\n",
    "from typing import Dict\n",
    "from models.econometrics import Cost, Currency\n",
    "from models.components import Component\n",
    "from models.econometrics import Cost\n",
    "from models.geometry import Orientation\n",
    "from models.photovoltaic import Photovoltaic\n",
    "\n",
    "\n",
    "#init project\n",
    "from models.components import Tech\n",
    "from models.consumption import Energetic\n",
    "from models.inventory import Building, Project\n",
    "import pandas as pd"
   ]
  },
  {
   "cell_type": "code",
   "execution_count": null,
   "metadata": {},
   "outputs": [],
   "source": [
    "#local env variables\n",
    "from dotenv import dotenv_values\n",
    "config = dotenv_values(\".env.local\")"
   ]
  },
  {
   "cell_type": "markdown",
   "metadata": {},
   "source": [
    "# Building references"
   ]
  },
  {
   "cell_type": "markdown",
   "metadata": {},
   "source": [
    "## Address and general info🌎"
   ]
  },
  {
   "cell_type": "markdown",
   "metadata": {},
   "source": [
    "## Energy Consumptions🔌"
   ]
  },
  {
   "cell_type": "code",
   "execution_count": null,
   "metadata": {},
   "outputs": [],
   "source": [
    "#cspell:disable\n",
    "\n",
    "\n",
    "project:Project = Project(\n",
    "    title='Sistema PV MHNV OnGrid-Mixto',\n",
    "    building = Building(\n",
    "        geolocation=(-33.047016, -71.621509),\n",
    "        name='Edificio Carlos Porter MHNV',\n",
    "        address='Calle Condell 1546',\n",
    "        city='Valparaíso'),\n",
    "    technology= [Tech.PHOTOVOLTAIC],\n",
    "    consumption= {\n",
    "        'description':'main',\n",
    "        'energetic':Energetic.ELI,\n",
    "        'cost_increment':8/100,\n",
    "        'consumption':[\n",
    "            (1051,\"01-02-2023\",97361),\n",
    "            (1123,\"02-03-2023\",104031),\n",
    "            (1157,\"03-04-2023\",107181),\n",
    "            (1220,\"04-05-2023\",137911),\n",
    "            (1299,\"01-06-2023\",146841),\n",
    "            (1549,\"04-07-2023\",175101),\n",
    "            (1353,\"02-08-2023\",152946),\n",
    "            (1420,\"01-09-2023\",160519),\n",
    "            (1283,\"03-10-2023\",145033),\n",
    "            (1275,\"03-11-2023\",144128),\n",
    "            (1346,\"03-12-2023\",152155),\n",
    "            (1438,\"03-01-2024\",162554),\n",
    "\n",
    "            ],\n",
    "        }\n",
    "    )"
   ]
  },
  {
   "cell_type": "markdown",
   "metadata": {},
   "source": [
    "# Integration "
   ]
  },
  {
   "cell_type": "markdown",
   "metadata": {},
   "source": [
    "## Machine Components 🎡"
   ]
  },
  {
   "cell_type": "code",
   "execution_count": null,
   "metadata": {},
   "outputs": [],
   "source": [
    "#cspell: disable\n",
    "#repository of reusable components\n",
    "from libs.repository import repo,panelRepo\n",
    "from models.components import Specs\n",
    "#clean previous load\n",
    "project.components = {}\n",
    "\n",
    "from IPython.display import clear_output\n",
    "\n",
    "from models.energy_storage import Battery\n",
    "from models.photovoltaic import PvInput\n",
    "clear_output(wait=True)\n",
    "\n",
    "# assembly projects components\n",
    "project.add_generator(\n",
    "    panelRepo['CS 655W'],\n",
    "    PvInput(\n",
    "        description='Panel 655W MODULO 01-PV',\n",
    "        quantity=9,\n",
    "        orientation=Orientation(35,28),\n",
    "        ),\n",
    "    PvInput(\n",
    "        description='Panel 655W MODULO 02-PV',\n",
    "        quantity=11,\n",
    "        orientation=Orientation(20,28),\n",
    "        ),\n",
    "    PvInput(\n",
    "        description='Panel 655W MODULO 03-PV',\n",
    "        quantity=4,\n",
    "        orientation=Orientation(10,28),\n",
    "    )\n",
    "    \n",
    ")\n",
    "\n",
    "#gen number of panels\n",
    "pv_quantity = sum(list(map(lambda it:it.quantity,project.components['generación'])))\n",
    "#nominal power\n",
    "pv_power = project.nominal_power\n",
    "\n",
    "\n",
    "project.add_component(\n",
    "    'Instalación',\n",
    "    repo['inverter']['Deye 12kW'],# ./../libs/repository.py\n",
    "    Component(\n",
    "        description='Medidor',\n",
    "        specification='Trifasico',\n",
    "        cost_per_unit=Cost(306_990,Currency.CLP)),\n",
    ")\n",
    "\n",
    "#BESS\n",
    "project.add_component(\n",
    "    'almacenamiento',\n",
    "    Component(\n",
    "        description='Regulador',\n",
    "        specification=Specs(\n",
    "        category='Charge Regulator'\n",
    "        ),\n",
    "        cost_per_unit=Cost(320_000,Currency.CLP)),\n",
    "    Component(\n",
    "        description='Monitor de carga',\n",
    "        specification=Specs(\n",
    "        category='Control y operación',\n",
    "        model='Monitor'\n",
    "        ),\n",
    "        cost_per_unit=Cost(150_000,Currency.CLP)\n",
    "        ),\n",
    "    # Battery('almacenamiento',\n",
    "    #             model='MP GEL12-250',\n",
    "    #             reference='https://www.tiendatecnored.cl/bateria-gel-ciclo-profundo-12v-250ah.html',\n",
    "    #             cost_per_unit=Cost(305990,Currency.CLP),\n",
    "    #             volt=12,\n",
    "    #             charge=250,\n",
    "    #             demand=project.building.consumption_forecast(['main'])['energy'].to_list(),\n",
    "    #             hours_autonomy=4,\n",
    "    #             use_regime='8/5',\n",
    "                # )\n",
    ")\n",
    "\n",
    "\n",
    "\n",
    "\n",
    "project.add_component(\n",
    "    'obras',\n",
    "    Component(\n",
    "            description='instalación eléctrica',\n",
    "            specification='H/P eléctrico',\n",
    "            cost_per_unit=Cost(1,currency=Currency.UF),\n",
    "            quantity=pv_quantity*5,\n",
    "            ),\n",
    "    Component(\n",
    "            description='estructura de montaje',\n",
    "            specification=Specs(\n",
    "                category='Montaje',\n",
    "                montaje='coplanar',\n",
    "                barras='03u /pv',\n",
    "                anclas='06u /pv',\n",
    "                anclas='10u /pv',\n",
    "                ),\n",
    "            cost_per_unit=Cost(45_000,Currency.CLP),\n",
    "            quantity=pv_quantity\n",
    "            ),\n",
    "    Component(\n",
    "            description='Instalación Faenas',\n",
    "            specification=Specs(),\n",
    "            cost_per_unit=Cost(500_000,Currency.CLP),\n",
    "            ),\n",
    "    Component(\n",
    "            description=' Manual y capacitación',\n",
    "            specification=Specs(\n",
    "                taller='2 Hrs',\n",
    "                manual='2 copias'\n",
    "                ),\n",
    "            cost_per_unit=Cost(250_000,Currency.CLP),\n",
    "            ),\n",
    "    Component(\n",
    "            description='Letro',\n",
    "            specification=Specs(),\n",
    "            cost_per_unit=Cost(450_000,Currency.CLP),\n",
    "            )\n",
    ")\n"
   ]
  },
  {
   "cell_type": "markdown",
   "metadata": {},
   "source": [
    "# Write Document 📒\n"
   ]
  },
  {
   "cell_type": "code",
   "execution_count": null,
   "metadata": {},
   "outputs": [],
   "source": [
    "import os\n",
    "PATH = 'build/'+f'r_{project.building.city.lower()[:3]}_{project.building.name}/'\n",
    "\n",
    "if not os.path.exists(PATH):\n",
    "    #create\n",
    "    os.makedirs(PATH)"
   ]
  },
  {
   "cell_type": "code",
   "execution_count": 1,
   "metadata": {},
   "outputs": [
    {
     "name": "stdout",
     "output_type": "stream",
     "text": [
      "foo: 10, bar: 20,\n",
      "\n",
      "            Charge Regulator Solar SOl SUN9000K\n",
      "            details     : serial:IP C 4459IC/volt:220V\n",
      "            market link : no data\n",
      "            tech link   : no data\n",
      "            \n",
      "Charge Regulator Generic N/A model serial:IP C 4459IC/volt:220V\n",
      "Charge Regulator Solar SOl SUN9000K\n",
      "no data\n"
     ]
    }
   ],
   "source": [
    "from models.components import Specs\n",
    "\n",
    "data = {'foo':'10','bar':'20'}\n",
    "print(\" \".join([f\"{it[0]}: {it[1]},\" for it in data.items()]))\n",
    "\n",
    "specs = Specs(category='Charge Regulator',brand='Solar SOl',model='SUN9000K',serial='IP C 4459IC',volt='220V')\n",
    "print(f'{specs:full}')\n",
    "print(f'{specs:agnostic}')\n",
    "print(specs)\n",
    "print(None or 'no data')"
   ]
  },
  {
   "cell_type": "markdown",
   "metadata": {},
   "source": [
    "### Saving results on EXCEL ❎"
   ]
  },
  {
   "cell_type": "code",
   "execution_count": null,
   "metadata": {},
   "outputs": [],
   "source": [
    "from models.plotter import toTable\n",
    "toTable(project,PATH)"
   ]
  },
  {
   "cell_type": "markdown",
   "metadata": {},
   "source": [
    "### Generate Context->Doc📄✍️"
   ]
  },
  {
   "cell_type": "code",
   "execution_count": null,
   "metadata": {},
   "outputs": [],
   "source": [
    "from docxtpl import DocxTemplate # type: ignore\n",
    "#init doc\n",
    "#assembly proxy object \n",
    "memory_report = DocxTemplate(\"templates/memory_template.docx\")\n",
    "bidding_report = DocxTemplate(\"templates/bidding_template.docx\")"
   ]
  },
  {
   "cell_type": "markdown",
   "metadata": {},
   "source": [
    "## Write params and tables"
   ]
  },
  {
   "cell_type": "code",
   "execution_count": null,
   "metadata": {},
   "outputs": [],
   "source": [
    "#loading context\n",
    "#cspell: disable\n",
    "memory_report.render(project.context(template=memory_report))\n",
    "bidding_report.render(project.context(template=bidding_report))\n"
   ]
  },
  {
   "cell_type": "markdown",
   "metadata": {},
   "source": [
    "## Insert Plots 📊"
   ]
  },
  {
   "cell_type": "code",
   "execution_count": null,
   "metadata": {},
   "outputs": [],
   "source": [
    "bucket_df = project.bucket_list(Currency.CLP)['bucket']\n",
    "#cspell: disable\n",
    "bucket_df[['description','details','quantity','cost_after_tax']]\\\n",
    "    .rename(columns={\n",
    "                        'description':'descripción',\n",
    "                        'details':'técnico',\n",
    "                        'quantity':'cantidad',\n",
    "                        'cost_after_tax':'costo bruto'\n",
    "                    }).to_markdown(index=False,floatfmt=',.0f')"
   ]
  },
  {
   "cell_type": "code",
   "execution_count": null,
   "metadata": {},
   "outputs": [],
   "source": [
    "#dep\n",
    "from models.plotter import plotter\n",
    "plotter(project,PATH)"
   ]
  },
  {
   "cell_type": "code",
   "execution_count": null,
   "metadata": {},
   "outputs": [],
   "source": [
    "#set into doc\n",
    "plot_list = [\n",
    "    'plot_consumption_forecast',\n",
    "    'plot_irradiance',\n",
    "    'plot_temperature',\n",
    "    'plot_components',\n",
    "    'plot_components_irr',\n",
    "    'plot_components_production',\n",
    "    'plot_production_performance',\n",
    "    'plot_performance_frequency',\n",
    "    'plot_flux',\n",
    "    'map_location'\n",
    "]\n",
    "\n",
    "for plot in plot_list:\n",
    "    memory_report.replace_pic(plot,PATH+f'{plot}.png')\n",
    "    print('replaced plot:',plot)"
   ]
  },
  {
   "cell_type": "code",
   "execution_count": null,
   "metadata": {},
   "outputs": [],
   "source": [
    "from datetime import datetime\n",
    "memory_report.save(PATH+f\"reporte_memoria_calculo.docx\")\n",
    "bidding_report.save(PATH+f\"reporte_pliegos_técnicos.docx\")\n",
    "print('work',project,'finish at: ',datetime.now())"
   ]
  },
  {
   "cell_type": "markdown",
   "metadata": {},
   "source": []
  }
 ],
 "metadata": {
  "kernelspec": {
   "display_name": "Python 3",
   "language": "python",
   "name": "python3"
  },
  "language_info": {
   "codemirror_mode": {
    "name": "ipython",
    "version": 3
   },
   "file_extension": ".py",
   "mimetype": "text/x-python",
   "name": "python",
   "nbconvert_exporter": "python",
   "pygments_lexer": "ipython3",
   "version": "3.13.0"
  }
 },
 "nbformat": 4,
 "nbformat_minor": 2
}
