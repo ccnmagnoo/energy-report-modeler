{
 "cells": [
  {
   "cell_type": "code",
   "execution_count": 1,
   "metadata": {},
   "outputs": [
    {
     "name": "stdout",
     "output_type": "stream",
     "text": [
      "Requirement already satisfied: pandas in c:\\users\\crcam\\appdata\\local\\programs\\python\\python313\\lib\\site-packages (2.2.3)\n",
      "Requirement already satisfied: numpy>=1.26.0 in c:\\users\\crcam\\appdata\\local\\programs\\python\\python313\\lib\\site-packages (from pandas) (2.1.3)\n",
      "Requirement already satisfied: python-dateutil>=2.8.2 in c:\\users\\crcam\\appdata\\roaming\\python\\python313\\site-packages (from pandas) (2.9.0.post0)\n",
      "Requirement already satisfied: pytz>=2020.1 in c:\\users\\crcam\\appdata\\local\\programs\\python\\python313\\lib\\site-packages (from pandas) (2024.2)\n",
      "Requirement already satisfied: tzdata>=2022.7 in c:\\users\\crcam\\appdata\\local\\programs\\python\\python313\\lib\\site-packages (from pandas) (2024.2)\n",
      "Requirement already satisfied: six>=1.5 in c:\\users\\crcam\\appdata\\roaming\\python\\python313\\site-packages (from python-dateutil>=2.8.2->pandas) (1.16.0)\n",
      "Note: you may need to restart the kernel to use updated packages.\n",
      "Requirement already satisfied: python-dotenv in c:\\users\\crcam\\appdata\\local\\programs\\python\\python313\\lib\\site-packages (1.0.1)\n",
      "Note: you may need to restart the kernel to use updated packages.\n",
      "Requirement already satisfied: scikit-learn in c:\\users\\crcam\\appdata\\local\\programs\\python\\python313\\lib\\site-packages (1.5.2)\n",
      "Requirement already satisfied: numpy>=1.19.5 in c:\\users\\crcam\\appdata\\local\\programs\\python\\python313\\lib\\site-packages (from scikit-learn) (2.1.3)\n",
      "Requirement already satisfied: scipy>=1.6.0 in c:\\users\\crcam\\appdata\\local\\programs\\python\\python313\\lib\\site-packages (from scikit-learn) (1.14.1)\n",
      "Requirement already satisfied: joblib>=1.2.0 in c:\\users\\crcam\\appdata\\local\\programs\\python\\python313\\lib\\site-packages (from scikit-learn) (1.4.2)\n",
      "Requirement already satisfied: threadpoolctl>=3.1.0 in c:\\users\\crcam\\appdata\\local\\programs\\python\\python313\\lib\\site-packages (from scikit-learn) (3.5.0)\n",
      "Note: you may need to restart the kernel to use updated packages.\n",
      "Requirement already satisfied: sun_position_calculator in c:\\users\\crcam\\appdata\\local\\programs\\python\\python313\\lib\\site-packages (1.0.0)\n",
      "Note: you may need to restart the kernel to use updated packages.\n",
      "Requirement already satisfied: requests in c:\\users\\crcam\\appdata\\local\\programs\\python\\python313\\lib\\site-packages (2.32.3)\n",
      "Requirement already satisfied: charset-normalizer<4,>=2 in c:\\users\\crcam\\appdata\\local\\programs\\python\\python313\\lib\\site-packages (from requests) (3.4.0)\n",
      "Requirement already satisfied: idna<4,>=2.5 in c:\\users\\crcam\\appdata\\local\\programs\\python\\python313\\lib\\site-packages (from requests) (3.10)\n",
      "Requirement already satisfied: urllib3<3,>=1.21.1 in c:\\users\\crcam\\appdata\\local\\programs\\python\\python313\\lib\\site-packages (from requests) (2.2.3)\n",
      "Requirement already satisfied: certifi>=2017.4.17 in c:\\users\\crcam\\appdata\\local\\programs\\python\\python313\\lib\\site-packages (from requests) (2024.8.30)\n",
      "Note: you may need to restart the kernel to use updated packages.\n",
      "Requirement already satisfied: docxtpl in c:\\users\\crcam\\appdata\\local\\programs\\python\\python313\\lib\\site-packages (0.19.0)\n",
      "Requirement already satisfied: python-docx>=1.1.1 in c:\\users\\crcam\\appdata\\local\\programs\\python\\python313\\lib\\site-packages (from docxtpl) (1.1.2)\n",
      "Requirement already satisfied: docxcompose in c:\\users\\crcam\\appdata\\local\\programs\\python\\python313\\lib\\site-packages (from docxtpl) (1.4.0)\n",
      "Requirement already satisfied: jinja2 in c:\\users\\crcam\\appdata\\local\\programs\\python\\python313\\lib\\site-packages (from docxtpl) (3.1.4)\n",
      "Requirement already satisfied: lxml in c:\\users\\crcam\\appdata\\local\\programs\\python\\python313\\lib\\site-packages (from docxtpl) (5.3.0)\n",
      "Requirement already satisfied: typing-extensions>=4.9.0 in c:\\users\\crcam\\appdata\\local\\programs\\python\\python313\\lib\\site-packages (from python-docx>=1.1.1->docxtpl) (4.12.2)\n",
      "Requirement already satisfied: setuptools in c:\\users\\crcam\\appdata\\local\\programs\\python\\python313\\lib\\site-packages (from docxcompose->docxtpl) (75.5.0)\n",
      "Requirement already satisfied: six in c:\\users\\crcam\\appdata\\roaming\\python\\python313\\site-packages (from docxcompose->docxtpl) (1.16.0)\n",
      "Requirement already satisfied: babel in c:\\users\\crcam\\appdata\\local\\programs\\python\\python313\\lib\\site-packages (from docxcompose->docxtpl) (2.16.0)\n",
      "Requirement already satisfied: MarkupSafe>=2.0 in c:\\users\\crcam\\appdata\\local\\programs\\python\\python313\\lib\\site-packages (from jinja2->docxtpl) (3.0.2)\n",
      "Note: you may need to restart the kernel to use updated packages.\n",
      "Requirement already satisfied: matplotlib in c:\\users\\crcam\\appdata\\local\\programs\\python\\python313\\lib\\site-packages (3.9.2)\n",
      "Requirement already satisfied: contourpy>=1.0.1 in c:\\users\\crcam\\appdata\\local\\programs\\python\\python313\\lib\\site-packages (from matplotlib) (1.3.1)\n",
      "Requirement already satisfied: cycler>=0.10 in c:\\users\\crcam\\appdata\\local\\programs\\python\\python313\\lib\\site-packages (from matplotlib) (0.12.1)\n",
      "Requirement already satisfied: fonttools>=4.22.0 in c:\\users\\crcam\\appdata\\local\\programs\\python\\python313\\lib\\site-packages (from matplotlib) (4.55.0)\n",
      "Requirement already satisfied: kiwisolver>=1.3.1 in c:\\users\\crcam\\appdata\\local\\programs\\python\\python313\\lib\\site-packages (from matplotlib) (1.4.7)\n",
      "Requirement already satisfied: numpy>=1.23 in c:\\users\\crcam\\appdata\\local\\programs\\python\\python313\\lib\\site-packages (from matplotlib) (2.1.3)\n",
      "Requirement already satisfied: packaging>=20.0 in c:\\users\\crcam\\appdata\\roaming\\python\\python313\\site-packages (from matplotlib) (24.2)\n",
      "Requirement already satisfied: pillow>=8 in c:\\users\\crcam\\appdata\\local\\programs\\python\\python313\\lib\\site-packages (from matplotlib) (11.0.0)\n",
      "Requirement already satisfied: pyparsing>=2.3.1 in c:\\users\\crcam\\appdata\\local\\programs\\python\\python313\\lib\\site-packages (from matplotlib) (3.2.0)\n",
      "Requirement already satisfied: python-dateutil>=2.7 in c:\\users\\crcam\\appdata\\roaming\\python\\python313\\site-packages (from matplotlib) (2.9.0.post0)\n",
      "Requirement already satisfied: six>=1.5 in c:\\users\\crcam\\appdata\\roaming\\python\\python313\\site-packages (from python-dateutil>=2.7->matplotlib) (1.16.0)\n",
      "Note: you may need to restart the kernel to use updated packages.\n",
      "Requirement already satisfied: tabulate in c:\\users\\crcam\\appdata\\local\\programs\\python\\python313\\lib\\site-packages (0.9.0)\n",
      "Note: you may need to restart the kernel to use updated packages.\n",
      "Note: you may need to restart the kernel to use updated packages.Requirement already satisfied: pyxirr in c:\\users\\crcam\\appdata\\local\\programs\\python\\python313\\lib\\site-packages (0.10.6)\n",
      "\n",
      "Requirement already satisfied: openpyxl in c:\\users\\crcam\\appdata\\local\\programs\\python\\python313\\lib\\site-packages (3.1.5)\n",
      "Requirement already satisfied: et-xmlfile in c:\\users\\crcam\\appdata\\local\\programs\\python\\python313\\lib\\site-packages (from openpyxl) (2.0.0)\n",
      "Note: you may need to restart the kernel to use updated packages.\n",
      "Requirement already satisfied: folium in c:\\users\\crcam\\appdata\\local\\programs\\python\\python313\\lib\\site-packages (0.18.0)\n",
      "Requirement already satisfied: branca>=0.6.0 in c:\\users\\crcam\\appdata\\local\\programs\\python\\python313\\lib\\site-packages (from folium) (0.8.0)\n",
      "Requirement already satisfied: jinja2>=2.9 in c:\\users\\crcam\\appdata\\local\\programs\\python\\python313\\lib\\site-packages (from folium) (3.1.4)\n",
      "Requirement already satisfied: numpy in c:\\users\\crcam\\appdata\\local\\programs\\python\\python313\\lib\\site-packages (from folium) (2.1.3)\n",
      "Requirement already satisfied: requests in c:\\users\\crcam\\appdata\\local\\programs\\python\\python313\\lib\\site-packages (from folium) (2.32.3)\n",
      "Requirement already satisfied: xyzservices in c:\\users\\crcam\\appdata\\local\\programs\\python\\python313\\lib\\site-packages (from folium) (2024.9.0)\n",
      "Requirement already satisfied: MarkupSafe>=2.0 in c:\\users\\crcam\\appdata\\local\\programs\\python\\python313\\lib\\site-packages (from jinja2>=2.9->folium) (3.0.2)\n",
      "Requirement already satisfied: charset-normalizer<4,>=2 in c:\\users\\crcam\\appdata\\local\\programs\\python\\python313\\lib\\site-packages (from requests->folium) (3.4.0)\n",
      "Requirement already satisfied: idna<4,>=2.5 in c:\\users\\crcam\\appdata\\local\\programs\\python\\python313\\lib\\site-packages (from requests->folium) (3.10)\n",
      "Requirement already satisfied: urllib3<3,>=1.21.1 in c:\\users\\crcam\\appdata\\local\\programs\\python\\python313\\lib\\site-packages (from requests->folium) (2.2.3)\n",
      "Requirement already satisfied: certifi>=2017.4.17 in c:\\users\\crcam\\appdata\\local\\programs\\python\\python313\\lib\\site-packages (from requests->folium) (2024.8.30)\n",
      "Note: you may need to restart the kernel to use updated packages.\n",
      "Requirement already satisfied: html2image in c:\\users\\crcam\\appdata\\local\\programs\\python\\python313\\lib\\site-packages (2.0.5)\n",
      "Requirement already satisfied: requests in c:\\users\\crcam\\appdata\\local\\programs\\python\\python313\\lib\\site-packages (from html2image) (2.32.3)\n",
      "Requirement already satisfied: websocket-client==1.* in c:\\users\\crcam\\appdata\\local\\programs\\python\\python313\\lib\\site-packages (from html2image) (1.8.0)\n",
      "Requirement already satisfied: charset-normalizer<4,>=2 in c:\\users\\crcam\\appdata\\local\\programs\\python\\python313\\lib\\site-packages (from requests->html2image) (3.4.0)\n",
      "Requirement already satisfied: idna<4,>=2.5 in c:\\users\\crcam\\appdata\\local\\programs\\python\\python313\\lib\\site-packages (from requests->html2image) (3.10)\n",
      "Requirement already satisfied: urllib3<3,>=1.21.1 in c:\\users\\crcam\\appdata\\local\\programs\\python\\python313\\lib\\site-packages (from requests->html2image) (2.2.3)\n",
      "Requirement already satisfied: certifi>=2017.4.17 in c:\\users\\crcam\\appdata\\local\\programs\\python\\python313\\lib\\site-packages (from requests->html2image) (2024.8.30)\n",
      "Note: you may need to restart the kernel to use updated packages.\n"
     ]
    }
   ],
   "source": [
    "%pip install pandas \n",
    "%pip install python-dotenv\n",
    "%pip install -U scikit-learn\n",
    "%pip install sun_position_calculator\n",
    "%pip install requests\n",
    "%pip install docxtpl\n",
    "%pip install matplotlib\n",
    "%pip install tabulate\n",
    "%pip install pyxirr\n",
    "%pip install openpyxl\n",
    "%pip install folium\n",
    "%pip install html2image"
   ]
  },
  {
   "cell_type": "code",
   "execution_count": 2,
   "metadata": {},
   "outputs": [],
   "source": [
    "#local models\n",
    "from typing import Dict\n",
    "from models.econometrics import Cost, Currency\n",
    "from models.components import Component\n",
    "from models.econometrics import Cost\n",
    "from models.geometry import Orientation\n",
    "from models.photovoltaic import Photovoltaic\n",
    "\n",
    "\n",
    "#init project\n",
    "from models.components import Tech\n",
    "from models.consumption import Energetic\n",
    "from models.inventory import Building, Project\n",
    "import pandas as pd"
   ]
  },
  {
   "cell_type": "code",
   "execution_count": 3,
   "metadata": {},
   "outputs": [],
   "source": [
    "#local env variables\n",
    "from dotenv import dotenv_values\n",
    "config = dotenv_values(\".env.local\")"
   ]
  },
  {
   "cell_type": "markdown",
   "metadata": {},
   "source": [
    "# Building references"
   ]
  },
  {
   "cell_type": "markdown",
   "metadata": {},
   "source": [
    "## Address and general info🌎"
   ]
  },
  {
   "cell_type": "markdown",
   "metadata": {},
   "source": [
    "## Energy Consumptions🔌"
   ]
  },
  {
   "cell_type": "code",
   "execution_count": 4,
   "metadata": {},
   "outputs": [
    {
     "name": "stdout",
     "output_type": "stream",
     "text": [
      "getting weather data...\n",
      "api request URL https://power.larc.nasa.gov/api/temporal/hourly/point?Time=LST&parameters=T2M,ALLSKY_SFC_SW_DNI,ALLSKY_SFC_SW_DIFF,ALLSKY_SRF_ALB,SZA,WS10M&community=RE&latitude=-33.047016&longitude=-71.621509&start=20230101&end=20231231&format=JSON\n",
      "getting currencies data...\n",
      "set $1 Peso Chileno... on USD$0.00 \n",
      "set $1 UF............. on USD$39.21 \n",
      "set $1 UTM............ on USD$68.50 \n",
      "set $1 Euro........... on USD$1.05 \n",
      "set $1 Pound.......... on USD$1.27 \n",
      "set $1 Real........... on USD$0.17 \n",
      "adding consumptions data...\n"
     ]
    }
   ],
   "source": [
    "#cspell:disable\n",
    "\n",
    "\n",
    "project:Project = Project(\n",
    "    title='Sistema PV MHNV OnGrid-Mixto',\n",
    "    building = Building(\n",
    "        geolocation=(-33.047016, -71.621509),\n",
    "        name='Edificio Carlos Porter MHNV',\n",
    "        address='Calle Condell 1546',\n",
    "        city='Valparaíso'),\n",
    "    technology= [Tech.PHOTOVOLTAIC],\n",
    "    consumption= {\n",
    "        'description':'main',\n",
    "        'energetic':Energetic.ELI,\n",
    "        'cost_increment':8/100,\n",
    "        'consumption':[\n",
    "            (1051,\"01-02-2023\",97361),\n",
    "            (1123,\"02-03-2023\",104031),\n",
    "            (1157,\"03-04-2023\",107181),\n",
    "            (1220,\"04-05-2023\",137911),\n",
    "            (1299,\"01-06-2023\",146841),\n",
    "            (1549,\"04-07-2023\",175101),\n",
    "            (1353,\"02-08-2023\",152946),\n",
    "            (1420,\"01-09-2023\",160519),\n",
    "            (1283,\"03-10-2023\",145033),\n",
    "            (1275,\"03-11-2023\",144128),\n",
    "            (1346,\"03-12-2023\",152155),\n",
    "            (1438,\"03-01-2024\",162554),\n",
    "\n",
    "            ],\n",
    "        }\n",
    "    )"
   ]
  },
  {
   "cell_type": "markdown",
   "metadata": {},
   "source": [
    "# Integration "
   ]
  },
  {
   "cell_type": "markdown",
   "metadata": {},
   "source": [
    "## Machine Components 🎡"
   ]
  },
  {
   "cell_type": "code",
   "execution_count": 5,
   "metadata": {},
   "outputs": [
    {
     "name": "stdout",
     "output_type": "stream",
     "text": [
      "inside cost pv :  245990.0 Currency.CLP\n",
      "inside cost pv :  245990.0 Currency.CLP\n",
      "inside cost pv :  245990.0 Currency.CLP\n"
     ]
    }
   ],
   "source": [
    "#cspell: disable\n",
    "#repository of reusable components\n",
    "from libs.repository import repo\n",
    "#clean previous load\n",
    "project.components = {}\n",
    "\n",
    "from IPython.display import clear_output\n",
    "\n",
    "from models.energy_storage import Battery\n",
    "from models.photovoltaic import Length, PvTechnicalSheet\n",
    "clear_output(wait=True)\n",
    "\n",
    "# assembly projects components\n",
    "project.add_component(\n",
    "    'generación',\n",
    "    Photovoltaic(project.weather,'Modular 01-PV',\n",
    "                reference='https://www.tiendatecnored.cl/modulo-fotovoltaico-650w-canadian-solar.html',\n",
    "                specification='Solar Panel PV 650W 48V',\n",
    "                quantity=9,\n",
    "                cost=None,\n",
    "                orientation=Orientation(35,28),\n",
    "                technical_sheet=PvTechnicalSheet(power=655,area=(130.3,238.4,Length.CM),efficiency=0.06),\n",
    "                ),\n",
    "    Photovoltaic(project.weather,'Modular 02-PV',\n",
    "                reference='https://www.tiendatecnored.cl/modulo-fotovoltaico-650w-canadian-solar.html',\n",
    "                specification='Solar Panel 650W 48V',\n",
    "                quantity=11,\n",
    "                cost=None,\n",
    "                orientation=Orientation(20,28),\n",
    "                technical_sheet=PvTechnicalSheet(power=655,area=(130.3,238.4,Length.CM),efficiency=0.06),\n",
    "                ),\n",
    "    Photovoltaic(project.weather,'Modular 03-PV',\n",
    "                reference='https://www.tiendatecnored.cl/modulo-fotovoltaico-650w-canadian-solar.html',\n",
    "                specification='Solar Panel 650W 48V',\n",
    "                quantity=4,\n",
    "                cost=None,\n",
    "                orientation=Orientation(10,28),\n",
    "                technical_sheet=PvTechnicalSheet(power=655,area=(130.3,238.4,Length.CM),efficiency=0.06),\n",
    "                ),\n",
    "    generator=True\n",
    "    )\n",
    "\n",
    "project.add_component(\n",
    "    'auxiliar',\n",
    "    repo['inverter']['Deye 12kW'],\n",
    "    # Component('Controlador de Carga',\n",
    "    #             model='Enertik 80A 12/24V',\n",
    "    #             specification='1000W to 2000 24V output',\n",
    "    #             cost_per_unit=Cost(101600,Currency.CLP)),\n",
    "    Component('medidor bidireccional',\n",
    "                model='Elster AS1440',\n",
    "                specification='Trifasico',\n",
    "                cost_per_unit=Cost(306990,Currency.CLP)),\n",
    "    # Battery('almacenamiento',\n",
    "    #             model='MP GEL12-250',\n",
    "    #             reference='https://www.tiendatecnored.cl/bateria-gel-ciclo-profundo-12v-250ah.html',\n",
    "    #             cost_per_unit=Cost(305990,Currency.CLP),\n",
    "    #             volt=12,\n",
    "    #             charge=250,\n",
    "    #             demand=project.building.consumption_forecast(['main'])['energy'].to_list(),\n",
    "    #             hours_autonomy=4,\n",
    "    #             use_regime='8/5',\n",
    "                # )\n",
    "    )\n",
    "\n",
    "#gen number of panels\n",
    "pv_quantity = sum(list(map(lambda it:it.quantity,project.components['generación'])))\n",
    "\n",
    "project.add_component(\n",
    "    'obras',\n",
    "    Component(description='instalación eléctrica',\n",
    "            specification='H/P eléctrico',\n",
    "            cost_per_unit=Cost(0.75,currency=Currency.UF),\n",
    "            quantity=pv_quantity*5,\n",
    "            ),\n",
    "    Component(description='estructura de soporte',\n",
    "            specification='elementos fijación',\n",
    "            cost_per_unit=Cost((4*800+11400/4+4*700+4000+500)),\n",
    "            quantity=pv_quantity*4\n",
    "            )\n",
    ")\n"
   ]
  },
  {
   "cell_type": "markdown",
   "metadata": {},
   "source": [
    "# Write Document 📒\n"
   ]
  },
  {
   "cell_type": "code",
   "execution_count": 6,
   "metadata": {},
   "outputs": [],
   "source": [
    "import os\n",
    "PATH = 'build/'+f'r_{project.building.city.lower()[:3]}_{project.building.name}/'\n",
    "\n",
    "if not os.path.exists(PATH):\n",
    "    #create\n",
    "    os.makedirs(PATH)"
   ]
  },
  {
   "cell_type": "markdown",
   "metadata": {},
   "source": [
    "### Saving results on EXCEL ❎"
   ]
  },
  {
   "cell_type": "code",
   "execution_count": 7,
   "metadata": {},
   "outputs": [],
   "source": [
    "from models.plotter import toTable\n",
    "toTable(project,PATH)"
   ]
  },
  {
   "cell_type": "markdown",
   "metadata": {},
   "source": [
    "### Generate Context->Doc📄✍️"
   ]
  },
  {
   "cell_type": "code",
   "execution_count": 8,
   "metadata": {},
   "outputs": [],
   "source": [
    "from docxtpl import DocxTemplate # type: ignore\n",
    "#init doc\n",
    "#assembly proxy object \n",
    "memory_report = DocxTemplate(\"templates/memory_template.docx\")\n",
    "bidding_report = DocxTemplate(\"templates/bidding_template.docx\")"
   ]
  },
  {
   "cell_type": "markdown",
   "metadata": {},
   "source": [
    "## Write params and tables"
   ]
  },
  {
   "cell_type": "code",
   "execution_count": 9,
   "metadata": {},
   "outputs": [],
   "source": [
    "#loading context\n",
    "#cspell: disable\n",
    "memory_report.render(project.context(template=memory_report))\n",
    "bidding_report.render(project.context(template=bidding_report))\n"
   ]
  },
  {
   "cell_type": "markdown",
   "metadata": {},
   "source": [
    "## Insert Plots 📊"
   ]
  },
  {
   "cell_type": "code",
   "execution_count": 10,
   "metadata": {},
   "outputs": [
    {
     "data": {
      "text/plain": [
       "'| descripción                | técnico                 |   cantidad |   costo bruto |\\n|:---------------------------|:------------------------|-----------:|--------------:|\\n| Modular 01-PV              | Solar Panel PV 650W 48V |          9 |     2,634,553 |\\n| Modular 02-PV              | Solar Panel 650W 48V    |         11 |     3,220,009 |\\n| Modular 03-PV              | Solar Panel 650W 48V    |          4 |     1,170,912 |\\n| Inversor Híbrido Trifásico | Híbrido 12kW Trifásico  |          1 |     3,273,343 |\\n| medidor bidireccional      | Trifasico               |          1 |       365,318 |\\n| instalación eléctrica      | H/P eléctrico           |        120 |     3,432,060 |\\n| estructura de soporte      | elementos fijación      |         96 |     1,525,104 |'"
      ]
     },
     "execution_count": 10,
     "metadata": {},
     "output_type": "execute_result"
    }
   ],
   "source": [
    "bucket_df = project.bucket_list(Currency.CLP)['bucket']\n",
    "#cspell: disable\n",
    "bucket_df[['description','details','quantity','cost_after_tax']]\\\n",
    "    .rename(columns={\n",
    "                        'description':'descripción',\n",
    "                        'details':'técnico',\n",
    "                        'quantity':'cantidad',\n",
    "                        'cost_after_tax':'costo bruto'\n",
    "                    }).to_markdown(index=False,floatfmt=',.0f')"
   ]
  },
  {
   "cell_type": "code",
   "execution_count": null,
   "metadata": {},
   "outputs": [
    {
     "name": "stderr",
     "output_type": "stream",
     "text": [
      "c:\\Users\\crcam\\Dev\\pv-report-modeler\\models\\plotter.py:133: FutureWarning: Downcasting object dtype arrays on .fillna, .ffill, .bfill is deprecated and will change in a future version. Call result.infer_objects(copy=False) instead. To opt-in to the future behavior, set `pd.set_option('future.no_silent_downcasting', True)`\n",
      "  pivot = module.fillna(0).pivot_table(\n",
      "c:\\Users\\crcam\\Dev\\pv-report-modeler\\models\\plotter.py:133: FutureWarning: Downcasting object dtype arrays on .fillna, .ffill, .bfill is deprecated and will change in a future version. Call result.infer_objects(copy=False) instead. To opt-in to the future behavior, set `pd.set_option('future.no_silent_downcasting', True)`\n",
      "  pivot = module.fillna(0).pivot_table(\n",
      "c:\\Users\\crcam\\Dev\\pv-report-modeler\\models\\plotter.py:133: FutureWarning: Downcasting object dtype arrays on .fillna, .ffill, .bfill is deprecated and will change in a future version. Call result.infer_objects(copy=False) instead. To opt-in to the future behavior, set `pd.set_option('future.no_silent_downcasting', True)`\n",
      "  pivot = module.fillna(0).pivot_table(\n",
      "c:\\Users\\crcam\\Dev\\pv-report-modeler\\models\\plotter.py:217: UserWarning: No artists with labels found to put in legend.  Note that artists whose label start with an underscore are ignored when legend() is called with no argument.\n",
      "  fig.legend()\n"
     ]
    }
   ],
   "source": [
    "#dep\n",
    "from models.plotter import plotter\n",
    "plotter(project,PATH)"
   ]
  },
  {
   "cell_type": "code",
   "execution_count": null,
   "metadata": {},
   "outputs": [],
   "source": [
    "#set into doc\n",
    "plot_list = [\n",
    "    'plot_consumption_forecast',\n",
    "    'plot_irradiance',\n",
    "    'plot_temperature',\n",
    "    'plot_components',\n",
    "    'plot_components_irr',\n",
    "    'plot_components_production',\n",
    "    'plot_production_performance',\n",
    "    'plot_performance_frequency',\n",
    "    'plot_flux',\n",
    "    'map_location'\n",
    "]\n",
    "\n",
    "for plot in plot_list:\n",
    "    memory_report.replace_pic(plot,PATH+f'{plot}.png')\n",
    "    print('replaced plot:',plot)"
   ]
  },
  {
   "cell_type": "code",
   "execution_count": null,
   "metadata": {},
   "outputs": [],
   "source": [
    "from datetime import datetime\n",
    "memory_report.save(PATH+f\"reporte_memoria_calculo.docx\")\n",
    "bidding_report.save(PATH+f\"reporte_pliegos_técnicos.docx\")\n",
    "print('work',project,'finish at: ',datetime.now())"
   ]
  },
  {
   "cell_type": "markdown",
   "metadata": {},
   "source": []
  }
 ],
 "metadata": {
  "kernelspec": {
   "display_name": "Python 3",
   "language": "python",
   "name": "python3"
  },
  "language_info": {
   "codemirror_mode": {
    "name": "ipython",
    "version": 3
   },
   "file_extension": ".py",
   "mimetype": "text/x-python",
   "name": "python",
   "nbconvert_exporter": "python",
   "pygments_lexer": "ipython3",
   "version": "3.13.0"
  }
 },
 "nbformat": 4,
 "nbformat_minor": 2
}
