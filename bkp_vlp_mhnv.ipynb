{
 "cells": [
  {
   "cell_type": "code",
   "execution_count": null,
   "metadata": {},
   "outputs": [],
   "source": [
    "%pip install pandas \n",
    "%pip install python-dotenv\n",
    "%pip install -U scikit-learn\n",
    "%pip install sun_position_calculator\n",
    "%pip install requests\n",
    "%pip install docxtpl\n",
    "%pip install matplotlib\n",
    "%pip install tabulate\n",
    "%pip install pyxirr\n",
    "%pip install openpyxl\n",
    "%pip install folium\n",
    "%pip install html2image"
   ]
  },
  {
   "cell_type": "code",
   "execution_count": 1,
   "metadata": {},
   "outputs": [],
   "source": [
    "#local env variables\n",
    "from dotenv import dotenv_values\n",
    "config = dotenv_values(\".env.local\")"
   ]
  },
  {
   "cell_type": "markdown",
   "metadata": {},
   "source": [
    "# Building references"
   ]
  },
  {
   "cell_type": "markdown",
   "metadata": {},
   "source": [
    "### Base Config👾"
   ]
  },
  {
   "cell_type": "code",
   "execution_count": null,
   "metadata": {},
   "outputs": [],
   "source": [
    "#cspell:disable\n",
    "from models.components import Tech,Component\n",
    "from models.inventory import Building, Project\n",
    "\n",
    "\n",
    "project:Project = Project(\n",
    "    title='Sistema PV MHNV OnGrid',\n",
    "    building = Building(\n",
    "        geolocation=(-33.047016, -71.621509),\n",
    "        name='Edificio C_Porter MHNV',\n",
    "        address='Calle Condell 1546',\n",
    "        city='Valparaíso'),\n",
    "    technology= [Tech.PHOTOVOLTAIC],\n",
    "    )"
   ]
  },
  {
   "cell_type": "markdown",
   "metadata": {},
   "source": [
    "### Consumptions && bills 🔌"
   ]
  },
  {
   "cell_type": "code",
   "execution_count": 1,
   "metadata": {},
   "outputs": [
    {
     "ename": "NameError",
     "evalue": "name 'project' is not defined",
     "output_type": "error",
     "traceback": [
      "\u001b[1;31m---------------------------------------------------------------------------\u001b[0m",
      "\u001b[1;31mNameError\u001b[0m                                 Traceback (most recent call last)",
      "Cell \u001b[1;32mIn[1], line 4\u001b[0m\n\u001b[0;32m      1\u001b[0m \u001b[38;5;28;01mfrom\u001b[39;00m \u001b[38;5;21;01mmodels\u001b[39;00m\u001b[38;5;21;01m.\u001b[39;00m\u001b[38;5;21;01mconsumption\u001b[39;00m \u001b[38;5;28;01mimport\u001b[39;00m ElectricityBill \u001b[38;5;28;01mas\u001b[39;00m EB\n\u001b[0;32m      2\u001b[0m \u001b[38;5;28;01mfrom\u001b[39;00m \u001b[38;5;21;01mmodels\u001b[39;00m\u001b[38;5;21;01m.\u001b[39;00m\u001b[38;5;21;01meconometrics\u001b[39;00m \u001b[38;5;28;01mimport\u001b[39;00m Currency \u001b[38;5;28;01mas\u001b[39;00m C\n\u001b[1;32m----> 4\u001b[0m \u001b[43mproject\u001b[49m\u001b[38;5;241m.\u001b[39mbuilding\u001b[38;5;241m.\u001b[39madd_consumptions(\n\u001b[0;32m      5\u001b[0m     cost_increment\u001b[38;5;241m=\u001b[39m\u001b[38;5;241m8\u001b[39m,\n\u001b[0;32m      6\u001b[0m     client_id\u001b[38;5;241m=\u001b[39m\u001b[38;5;124m'\u001b[39m\u001b[38;5;124m642180-6\u001b[39m\u001b[38;5;124m'\u001b[39m,\n\u001b[0;32m      7\u001b[0m     measurer_id\u001b[38;5;241m=\u001b[39m\u001b[38;5;124m'\u001b[39m\u001b[38;5;124m10025437\u001b[39m\u001b[38;5;124m'\u001b[39m,\n\u001b[0;32m      8\u001b[0m     contract_id\u001b[38;5;241m=\u001b[39m\u001b[38;5;124m'\u001b[39m\u001b[38;5;124mBT-3 PPP Aéreo\u001b[39m\u001b[38;5;124m'\u001b[39m,\n\u001b[0;32m      9\u001b[0m     consumption\u001b[38;5;241m=\u001b[39m[\n\u001b[0;32m     10\u001b[0m         EB(\u001b[38;5;124m\"\u001b[39m\u001b[38;5;124m04-01-2023\u001b[39m\u001b[38;5;124m\"\u001b[39m,\u001b[38;5;124m\"\u001b[39m\u001b[38;5;124m01-02-2023\u001b[39m\u001b[38;5;124m\"\u001b[39m,\u001b[38;5;241m1051\u001b[39m,\u001b[38;5;241m97_36_1\u001b[39m,C\u001b[38;5;241m.\u001b[39mCLP,(\u001b[38;5;124m'\u001b[39m\u001b[38;5;124mBT\u001b[39m\u001b[38;5;124m'\u001b[39m,\u001b[38;5;124m'\u001b[39m\u001b[38;5;124m_3\u001b[39m\u001b[38;5;124m'\u001b[39m,\u001b[38;5;124m'\u001b[39m\u001b[38;5;124mPPP\u001b[39m\u001b[38;5;124m'\u001b[39m)),\n\u001b[0;32m     11\u001b[0m         EB(\u001b[38;5;124m\"\u001b[39m\u001b[38;5;124m02-02-2023\u001b[39m\u001b[38;5;124m\"\u001b[39m,\u001b[38;5;124m\"\u001b[39m\u001b[38;5;124m02-03-2023\u001b[39m\u001b[38;5;124m\"\u001b[39m,\u001b[38;5;241m1123\u001b[39m,\u001b[38;5;241m104_031\u001b[39m,C\u001b[38;5;241m.\u001b[39mCLP,(\u001b[38;5;124m'\u001b[39m\u001b[38;5;124mBT\u001b[39m\u001b[38;5;124m'\u001b[39m,\u001b[38;5;124m'\u001b[39m\u001b[38;5;124m_3\u001b[39m\u001b[38;5;124m'\u001b[39m,\u001b[38;5;124m'\u001b[39m\u001b[38;5;124mPPP\u001b[39m\u001b[38;5;124m'\u001b[39m)),\n\u001b[0;32m     12\u001b[0m         EB(\u001b[38;5;124m\"\u001b[39m\u001b[38;5;124m03-03-2023\u001b[39m\u001b[38;5;124m\"\u001b[39m,\u001b[38;5;124m\"\u001b[39m\u001b[38;5;124m03-04-2023\u001b[39m\u001b[38;5;124m\"\u001b[39m,\u001b[38;5;241m1157\u001b[39m,\u001b[38;5;241m107_181\u001b[39m,C\u001b[38;5;241m.\u001b[39mCLP,(\u001b[38;5;124m'\u001b[39m\u001b[38;5;124mBT\u001b[39m\u001b[38;5;124m'\u001b[39m,\u001b[38;5;124m'\u001b[39m\u001b[38;5;124m_3\u001b[39m\u001b[38;5;124m'\u001b[39m,\u001b[38;5;124m'\u001b[39m\u001b[38;5;124mPPP\u001b[39m\u001b[38;5;124m'\u001b[39m)),\n\u001b[0;32m     13\u001b[0m         EB(\u001b[38;5;124m\"\u001b[39m\u001b[38;5;124m04-04-2023\u001b[39m\u001b[38;5;124m\"\u001b[39m,\u001b[38;5;124m\"\u001b[39m\u001b[38;5;124m04-05-2023\u001b[39m\u001b[38;5;124m\"\u001b[39m,\u001b[38;5;241m1220\u001b[39m,\u001b[38;5;241m137_911\u001b[39m,C\u001b[38;5;241m.\u001b[39mCLP,(\u001b[38;5;124m'\u001b[39m\u001b[38;5;124mBT\u001b[39m\u001b[38;5;124m'\u001b[39m,\u001b[38;5;124m'\u001b[39m\u001b[38;5;124m_3\u001b[39m\u001b[38;5;124m'\u001b[39m,\u001b[38;5;124m'\u001b[39m\u001b[38;5;124mPPP\u001b[39m\u001b[38;5;124m'\u001b[39m)),\n\u001b[0;32m     14\u001b[0m         EB(\u001b[38;5;124m\"\u001b[39m\u001b[38;5;124m05-05-2023\u001b[39m\u001b[38;5;124m\"\u001b[39m,\u001b[38;5;124m\"\u001b[39m\u001b[38;5;124m01-06-2023\u001b[39m\u001b[38;5;124m\"\u001b[39m,\u001b[38;5;241m1299\u001b[39m,\u001b[38;5;241m146_841\u001b[39m,C\u001b[38;5;241m.\u001b[39mCLP,(\u001b[38;5;124m'\u001b[39m\u001b[38;5;124mBT\u001b[39m\u001b[38;5;124m'\u001b[39m,\u001b[38;5;124m'\u001b[39m\u001b[38;5;124m_3\u001b[39m\u001b[38;5;124m'\u001b[39m,\u001b[38;5;124m'\u001b[39m\u001b[38;5;124mPPP\u001b[39m\u001b[38;5;124m'\u001b[39m)),\n\u001b[0;32m     15\u001b[0m         EB(\u001b[38;5;124m\"\u001b[39m\u001b[38;5;124m02-06-2023\u001b[39m\u001b[38;5;124m\"\u001b[39m,\u001b[38;5;124m\"\u001b[39m\u001b[38;5;124m04-07-2023\u001b[39m\u001b[38;5;124m\"\u001b[39m,\u001b[38;5;241m1549\u001b[39m,\u001b[38;5;241m175_101\u001b[39m,C\u001b[38;5;241m.\u001b[39mCLP,(\u001b[38;5;124m'\u001b[39m\u001b[38;5;124mBT\u001b[39m\u001b[38;5;124m'\u001b[39m,\u001b[38;5;124m'\u001b[39m\u001b[38;5;124m_3\u001b[39m\u001b[38;5;124m'\u001b[39m,\u001b[38;5;124m'\u001b[39m\u001b[38;5;124mPPP\u001b[39m\u001b[38;5;124m'\u001b[39m)),\n\u001b[0;32m     16\u001b[0m         EB(\u001b[38;5;124m\"\u001b[39m\u001b[38;5;124m05-07-2023\u001b[39m\u001b[38;5;124m\"\u001b[39m,\u001b[38;5;124m\"\u001b[39m\u001b[38;5;124m02-08-2023\u001b[39m\u001b[38;5;124m\"\u001b[39m,\u001b[38;5;241m1353\u001b[39m,\u001b[38;5;241m152_946\u001b[39m,C\u001b[38;5;241m.\u001b[39mCLP,(\u001b[38;5;124m'\u001b[39m\u001b[38;5;124mBT\u001b[39m\u001b[38;5;124m'\u001b[39m,\u001b[38;5;124m'\u001b[39m\u001b[38;5;124m_3\u001b[39m\u001b[38;5;124m'\u001b[39m,\u001b[38;5;124m'\u001b[39m\u001b[38;5;124mPPP\u001b[39m\u001b[38;5;124m'\u001b[39m)),\n\u001b[0;32m     17\u001b[0m         EB(\u001b[38;5;124m\"\u001b[39m\u001b[38;5;124m03-08-2023\u001b[39m\u001b[38;5;124m\"\u001b[39m,\u001b[38;5;124m\"\u001b[39m\u001b[38;5;124m01-09-2023\u001b[39m\u001b[38;5;124m\"\u001b[39m,\u001b[38;5;241m1420\u001b[39m,\u001b[38;5;241m160_519\u001b[39m,C\u001b[38;5;241m.\u001b[39mCLP,(\u001b[38;5;124m'\u001b[39m\u001b[38;5;124mBT\u001b[39m\u001b[38;5;124m'\u001b[39m,\u001b[38;5;124m'\u001b[39m\u001b[38;5;124m_3\u001b[39m\u001b[38;5;124m'\u001b[39m,\u001b[38;5;124m'\u001b[39m\u001b[38;5;124mPPP\u001b[39m\u001b[38;5;124m'\u001b[39m)),\n\u001b[0;32m     18\u001b[0m         EB(\u001b[38;5;124m\"\u001b[39m\u001b[38;5;124m02-09-2023\u001b[39m\u001b[38;5;124m\"\u001b[39m,\u001b[38;5;124m\"\u001b[39m\u001b[38;5;124m03-10-2023\u001b[39m\u001b[38;5;124m\"\u001b[39m,\u001b[38;5;241m1283\u001b[39m,\u001b[38;5;241m145_033\u001b[39m,C\u001b[38;5;241m.\u001b[39mCLP,(\u001b[38;5;124m'\u001b[39m\u001b[38;5;124mBT\u001b[39m\u001b[38;5;124m'\u001b[39m,\u001b[38;5;124m'\u001b[39m\u001b[38;5;124m_3\u001b[39m\u001b[38;5;124m'\u001b[39m,\u001b[38;5;124m'\u001b[39m\u001b[38;5;124mPPP\u001b[39m\u001b[38;5;124m'\u001b[39m)),\n\u001b[0;32m     19\u001b[0m         EB(\u001b[38;5;124m\"\u001b[39m\u001b[38;5;124m04-10-2023\u001b[39m\u001b[38;5;124m\"\u001b[39m,\u001b[38;5;124m\"\u001b[39m\u001b[38;5;124m03-11-2023\u001b[39m\u001b[38;5;124m\"\u001b[39m,\u001b[38;5;241m1275\u001b[39m,\u001b[38;5;241m144_128\u001b[39m,C\u001b[38;5;241m.\u001b[39mCLP,(\u001b[38;5;124m'\u001b[39m\u001b[38;5;124mBT\u001b[39m\u001b[38;5;124m'\u001b[39m,\u001b[38;5;124m'\u001b[39m\u001b[38;5;124m_3\u001b[39m\u001b[38;5;124m'\u001b[39m,\u001b[38;5;124m'\u001b[39m\u001b[38;5;124mPPP\u001b[39m\u001b[38;5;124m'\u001b[39m)),\n\u001b[0;32m     20\u001b[0m         EB(\u001b[38;5;124m\"\u001b[39m\u001b[38;5;124m04-11-2023\u001b[39m\u001b[38;5;124m\"\u001b[39m,\u001b[38;5;124m\"\u001b[39m\u001b[38;5;124m03-12-2023\u001b[39m\u001b[38;5;124m\"\u001b[39m,\u001b[38;5;241m1346\u001b[39m,\u001b[38;5;241m152_155\u001b[39m,C\u001b[38;5;241m.\u001b[39mCLP,(\u001b[38;5;124m'\u001b[39m\u001b[38;5;124mBT\u001b[39m\u001b[38;5;124m'\u001b[39m,\u001b[38;5;124m'\u001b[39m\u001b[38;5;124m_3\u001b[39m\u001b[38;5;124m'\u001b[39m,\u001b[38;5;124m'\u001b[39m\u001b[38;5;124mPPP\u001b[39m\u001b[38;5;124m'\u001b[39m)),\n\u001b[0;32m     21\u001b[0m         EB(\u001b[38;5;124m\"\u001b[39m\u001b[38;5;124m04-12-2023\u001b[39m\u001b[38;5;124m\"\u001b[39m,\u001b[38;5;124m\"\u001b[39m\u001b[38;5;124m03-01-2024\u001b[39m\u001b[38;5;124m\"\u001b[39m,\u001b[38;5;241m1346\u001b[39m,\u001b[38;5;241m162_554\u001b[39m,C\u001b[38;5;241m.\u001b[39mCLP,(\u001b[38;5;124m'\u001b[39m\u001b[38;5;124mBT\u001b[39m\u001b[38;5;124m'\u001b[39m,\u001b[38;5;124m'\u001b[39m\u001b[38;5;124m_3\u001b[39m\u001b[38;5;124m'\u001b[39m,\u001b[38;5;124m'\u001b[39m\u001b[38;5;124mPPP\u001b[39m\u001b[38;5;124m'\u001b[39m)),\n\u001b[0;32m     22\u001b[0m     ]\n\u001b[0;32m     23\u001b[0m )\n",
      "\u001b[1;31mNameError\u001b[0m: name 'project' is not defined"
     ]
    }
   ],
   "source": [
    "from models.consumption import ElectricityBill as EB\n",
    "from models.econometrics import Currency as C\n",
    "\n",
    "project.building.add_consumptions(\n",
    "    cost_increment=8,\n",
    "    client_id='642180-6',\n",
    "    measurer_id='10025437',\n",
    "    contract_id='BT-3 PPP',\n",
    "    consumption=[\n",
    "        EB(\"04-01-2023\",\"01-02-2023\",1051,97_36_1,C.CLP,('BT','_3','PPP')),\n",
    "        EB(\"02-02-2023\",\"02-03-2023\",1123,104_031,C.CLP,('BT','_3','PPP')),\n",
    "        EB(\"03-03-2023\",\"03-04-2023\",1157,107_181,C.CLP,('BT','_3','PPP')),\n",
    "        EB(\"04-04-2023\",\"04-05-2023\",1220,137_911,C.CLP,('BT','_3','PPP')),\n",
    "        EB(\"05-05-2023\",\"01-06-2023\",1299,146_841,C.CLP,('BT','_3','PPP')),\n",
    "        EB(\"02-06-2023\",\"04-07-2023\",1549,175_101,C.CLP,('BT','_3','PPP')),\n",
    "        EB(\"05-07-2023\",\"02-08-2023\",1353,152_946,C.CLP,('BT','_3','PPP')),\n",
    "        EB(\"03-08-2023\",\"01-09-2023\",1420,160_519,C.CLP,('BT','_3','PPP')),\n",
    "        EB(\"02-09-2023\",\"03-10-2023\",1283,145_033,C.CLP,('BT','_3','PPP')),\n",
    "        EB(\"04-10-2023\",\"03-11-2023\",1275,144_128,C.CLP,('BT','_3','PPP')),\n",
    "        EB(\"04-11-2023\",\"03-12-2023\",1346,152_155,C.CLP,('BT','_3','PPP')),\n",
    "        EB(\"04-12-2023\",\"03-01-2024\",1346,162_554,C.CLP,('BT','_3','PPP')),\n",
    "    ]\n",
    ")"
   ]
  },
  {
   "cell_type": "code",
   "execution_count": null,
   "metadata": {},
   "outputs": [],
   "source": [
    "project.building.consumptions['main'].to_dataframe()"
   ]
  },
  {
   "cell_type": "markdown",
   "metadata": {},
   "source": [
    "# Integration "
   ]
  },
  {
   "cell_type": "markdown",
   "metadata": {},
   "source": [
    "### Machine Components 🎡"
   ]
  },
  {
   "cell_type": "code",
   "execution_count": null,
   "metadata": {},
   "outputs": [],
   "source": [
    "#cspell: disable\n",
    "#repository of reusable components\n",
    "from libs.repository import repoEquipment,panelRepo\n",
    "from models.components import Specs\n",
    "from models.econometrics import Currency,Cost\n",
    "from models.geometry import Orientation\n",
    "#clean previous load\n",
    "project.components = {}\n",
    "\n",
    "from IPython.display import clear_output\n",
    "\n",
    "from models.photovoltaic import PvInput\n",
    "clear_output(wait=True)\n",
    "\n",
    "# assembly projects components\n",
    "project.add_generator(\n",
    "    panelRepo['CS 655W'],# equipment\n",
    "    PvInput(\n",
    "        description='FV 655W MOD 01',\n",
    "        quantity=9,\n",
    "        orientation=Orientation(35,28),\n",
    "        ),\n",
    "    PvInput(\n",
    "        description='FV 655W MOD 02',\n",
    "        quantity=11,\n",
    "        orientation=Orientation(20,28),\n",
    "        ),\n",
    "    # PvInput(\n",
    "    #     description='FV 655W MOD 03',\n",
    "    #     quantity=4,\n",
    "    #     orientation=Orientation(10,28),\n",
    "    # )\n",
    "    \n",
    ")\n",
    "\n",
    "#nominal power\n",
    "pj_power = project.nominal_power\n",
    "\n",
    "# Energy process\n",
    "project.add_component(\n",
    "    'instalación',\n",
    "    repoEquipment['Inverter']['DY 12kW H'],# inverter\n",
    "    repoEquipment['Medidor']['FR 3F'],# lectura\n",
    "    Component(\n",
    "    description='eléctrica interior',\n",
    "    specification=Specs(\n",
    "        category='Obra',\n",
    "        brand='conexionado',\n",
    "        model='interiores'\n",
    "        ),\n",
    "    cost_per_unit=Cost(225_000,currency=Currency.CLP),\n",
    "    quantity=int(project.nominal_power[0])\n",
    "    ),\n",
    "Component(\n",
    "    description='est. de montaje',\n",
    "    specification=Specs(\n",
    "        category='Montaje',\n",
    "        montaje='coplanar',\n",
    "        ),\n",
    "    cost_per_unit=Cost(45_000,Currency.CLP),\n",
    "    quantity=project.n_generator\n",
    "    ),\n",
    ")\n",
    "\n",
    "# BESS & Storage\n",
    "project.add_storage(\n",
    "    'almacenamiento',4,'8/5',\n",
    "    repoEquipment['Monitor']['VC 700'],\n",
    "    repoEquipment['Regulator']['VT 45A']\n",
    "    )\n",
    "\n",
    "# obras y accesorios\n",
    "project.add_component(\n",
    "    'Obras',\n",
    "    Component(\n",
    "        description='Faenas',\n",
    "        specification=Specs(\n",
    "            category='Obra',\n",
    "            brand='equipamiento',\n",
    "            model='provisorio'),\n",
    "        cost_per_unit=Cost(18_750,Currency.CLP),\n",
    "        quantity=project.n_generator\n",
    "        ),\n",
    "    Component(\n",
    "        description='Capacitación',\n",
    "        specification=Specs(\n",
    "            category='Obra',\n",
    "            brand='Uso y',\n",
    "            model='mantenimiento',\n",
    "            taller='2 Hrs',\n",
    "            manual='3 u. impreso',\n",
    "            ),\n",
    "        cost_per_unit=Cost(250_000,Currency.CLP),\n",
    "        ),\n",
    "    Component(\n",
    "        description='Letrero',\n",
    "        specification=Specs(\n",
    "            category='Obra',\n",
    "            brand='pliego',\n",
    "            model='estructura',\n",
    "            specs_url='#pliegos-técnicos',\n",
    "            dim='3.6m x 1.5m',\n",
    "            ),\n",
    "        cost_per_unit=Cost(450_000,Currency.CLP),\n",
    "        )\n",
    ")"
   ]
  },
  {
   "cell_type": "code",
   "execution_count": 6,
   "metadata": {},
   "outputs": [],
   "source": [
    "#Define bucket overloads\n",
    "project.bucket.set_overloads(gastos_gral=15,utilidad=10)\n"
   ]
  },
  {
   "cell_type": "code",
   "execution_count": null,
   "metadata": {},
   "outputs": [],
   "source": [
    "project.bucket.bucket_df()[[]]"
   ]
  },
  {
   "cell_type": "markdown",
   "metadata": {},
   "source": [
    "# Write Document 📒\n"
   ]
  },
  {
   "cell_type": "code",
   "execution_count": null,
   "metadata": {},
   "outputs": [],
   "source": [
    "from models.plotter import generate_docs\n",
    "generate_docs(project)"
   ]
  },
  {
   "cell_type": "markdown",
   "metadata": {},
   "source": []
  }
 ],
 "metadata": {
  "kernelspec": {
   "display_name": "Python 3",
   "language": "python",
   "name": "python3"
  },
  "language_info": {
   "codemirror_mode": {
    "name": "ipython",
    "version": 3
   },
   "file_extension": ".py",
   "mimetype": "text/x-python",
   "name": "python",
   "nbconvert_exporter": "python",
   "pygments_lexer": "ipython3",
   "version": "3.13.0"
  }
 },
 "nbformat": 4,
 "nbformat_minor": 2
}
