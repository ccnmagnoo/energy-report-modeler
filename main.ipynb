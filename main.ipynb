{
 "cells": [
  {
   "cell_type": "code",
   "execution_count": 1,
   "metadata": {},
   "outputs": [],
   "source": [
    "from docxtpl import * \n",
    "from typing import Dict\n",
    "\n",
    "\n",
    "from models.econometrics import Cost, Currency\n",
    "\n",
    "import math\n",
    "from typing import Callable\n",
    "from models.components import Component\n",
    "from models.econometrics import Cost\n",
    "from models.geometry import Orientation\n",
    "from models.photovoltaic import Photovoltaic"
   ]
  },
  {
   "cell_type": "markdown",
   "metadata": {},
   "source": [
    "# Site references"
   ]
  },
  {
   "cell_type": "code",
   "execution_count": 2,
   "metadata": {},
   "outputs": [
    {
     "data": {
      "text/plain": [
       "(987929.1, <Currency.CLP: 'peso chileno'>)"
      ]
     },
     "execution_count": 2,
     "metadata": {},
     "output_type": "execute_result"
    }
   ],
   "source": [
    "#currency values\n",
    "\n",
    "\n",
    "#reference 1 is USD\n",
    "Cost.set_exchange(Currency.CLP,908.72)\n",
    "Cost.set_exchange(Currency.EUR,0.92)\n",
    "\n",
    "cost_inverter = Cost(1000,Currency.EUR)\n",
    "cost_inverter.cost_after_tax(Currency.CLP)\n",
    "\n",
    "# exchange rates https://app.freecurrencyapi.com/dashboard\n"
   ]
  },
  {
   "cell_type": "code",
   "execution_count": 3,
   "metadata": {},
   "outputs": [
    {
     "name": "stdout",
     "output_type": "stream",
     "text": [
      "api request URL https://power.larc.nasa.gov/api/temporal/hourly/point?Time=LST&parameters=T2M,ALLSKY_SFC_SW_DNI,ALLSKY_SFC_SW_DIFF,ALLSKY_SRF_ALB,SZA,WS10M&community=RE&latitude=-33.861702&longitude=-71.657839&start=20230101&end=20230102&format=JSON\n"
     ]
    }
   ],
   "source": [
    "#cspell:disable\n",
    "\n",
    "\n",
    "#init proyect\n",
    "from models.components import Tech\n",
    "from models.geometry import GeoPosition\n",
    "from models.inventory import Building, Project\n",
    "\n",
    "psr_bucalemu:Project = Project(\n",
    "    title='Sistema Fotovoltaico OnGrid-Mixto PSR Bucalemu,\\nSanto Domingo',\n",
    "    building = Building(\n",
    "        geolocation=GeoPosition(latitude=-33.861702,longitude=-71.657839),\n",
    "        name='Posta de Salud Rural Bucalemu',\n",
    "        address='Ruta G-80-I km 30 sn, Localidad Bucalemu,\\nSanto Domingo',\n",
    "        city='Santo Domingo'),\n",
    "    technology= [Tech.PHOTOVOLTAIC]\n",
    "    )\n",
    "\n",
    "\n",
    "# psr_sanenrique:Project = Project(\n",
    "#     title='Sistema Fotovoltaico OnGrid-Mixto PSR San Enrique, Santo Domingo',\n",
    "#     building = Building(\n",
    "#         geolocation=GeoPosition(latitude=-33.9081421,longitude=-71.7159192),\n",
    "#         name='Posta de Salud Rural de San Enrique',\n",
    "#         address='Ruta G-866 km 0 sn, Localidad San Enrique, Santo Domingo',\n",
    "#         city='Santo Domingo'),\n",
    "#     technology= [Tech.PHOTOVOLTAIC]\n",
    "#     )\n",
    "\n"
   ]
  },
  {
   "cell_type": "code",
   "execution_count": null,
   "metadata": {
    "vscode": {
     "languageId": "powershell"
    }
   },
   "outputs": [],
   "source": [
    "psr_bucalemu.weather.get_data().head(24)"
   ]
  },
  {
   "cell_type": "markdown",
   "metadata": {},
   "source": [
    "# Integration "
   ]
  },
  {
   "cell_type": "markdown",
   "metadata": {},
   "source": [
    "## Project components"
   ]
  },
  {
   "cell_type": "code",
   "execution_count": null,
   "metadata": {},
   "outputs": [],
   "source": [
    "#cspell: disable\n",
    "\n",
    "#PV COST MODEL, inscludes price clp per watt, including cost of planel, inverter, instalation and infraestructure.\n",
    "pv_log_model_on_grid:Callable[[float],float] = lambda size_w: math.floor(-152.6*math.log(size_w)+2605.9) # clp/w\n",
    "pv_log_model_off_grid:Callable[[float],float] = lambda size_w: math.floor(-414.7*math.log(size_w)+6143.9) # clp/w\n",
    "#PV linear COST MODEL, inscludes price clp per watt,just panel.\n",
    "pv_linear:Callable[[float],float] = lambda size_w: 245990/655\n",
    "\n",
    "#clean previous load\n",
    "psr_bucalemu.components = {}\n",
    "from IPython.display import clear_output\n",
    "clear_output(wait=True)\n",
    "\n",
    "# assembly projects components\n",
    "psr_bucalemu.add_component(\n",
    "    'generación',\n",
    "    Photovoltaic(psr_bucalemu.weather,'Módulo Primario A',\n",
    "                reference='https://www.tiendatecnored.cl/modulo-fotovoltaico-650w-canadian-solar.html',\n",
    "                power=655,\n",
    "                quantity=5,\n",
    "                cost=None,\n",
    "                cost_model=pv_linear,\n",
    "                orientation=Orientation(15,270-16.46)),\n",
    "    Photovoltaic(psr_bucalemu.weather,'Módulo Secundario B',\n",
    "                 reference='https://www.tiendatecnored.cl/modulo-fotovoltaico-650w-canadian-solar.html',\n",
    "                power=655,\n",
    "                quantity=5,\n",
    "                cost=None,\n",
    "                cost_model=pv_linear,\n",
    "                orientation=Orientation(15,16.46))\n",
    "    )\n",
    "psr_bucalemu.add_component(\n",
    "    'auxiliar',\n",
    "    Component('inversor de 7kW',\n",
    "                model='Voltronic 7kW 48V',\n",
    "                reference='https://solarbex.com/comprar/inversor-hibrido-7kw-48v-voltronic/',\n",
    "                specification='Híbrido 7kW Monofásico',\n",
    "                cost_per_unit=Cost(1255,Currency.EUR)),\n",
    "    Component('Controlador de Carga',\n",
    "                model='Enertik 80A 12/24V',\n",
    "                specification='1000W to 2000 24V output',\n",
    "                cost_per_unit=Cost(101600,Currency.CLP)),\n",
    "    Component('medidor bidireccional',\n",
    "                model='Elster AS1440',\n",
    "                specification='Trifasico',\n",
    "                cost_per_unit=Cost(306990,Currency.CLP)),\n",
    "    Component('almacenamiento',\n",
    "                model='MP NP12-200',\n",
    "                specification='Betería 12V 200Ah',\n",
    "                reference='https://www.tiendatecnored.cl/bateria-gel-ciclo-profundo-12v-200ah.html',\n",
    "                cost_per_unit=Cost(204889,Currency.CLP),\n",
    "                quantity=10,\n",
    "                )\n",
    "    )\n",
    "psr_bucalemu.add_component(\n",
    "    'obras',\n",
    "    Component(description='instalación eléctrica',\n",
    "            specification='H/P eléctrico',\n",
    "            cost_per_unit=Cost(1,currency=Currency.UF),\n",
    "            quantity=100,\n",
    "              ),\n",
    "    Component(description='estructura de soporte',\n",
    "            specification='elementos fijación',\n",
    "            cost_per_unit=Cost((4*800+11400/4+4*700+4000+500)),\n",
    "            quantity=24\n",
    "            )\n",
    ")"
   ]
  },
  {
   "cell_type": "code",
   "execution_count": null,
   "metadata": {},
   "outputs": [],
   "source": [
    "# psr_bucalemu.components['generación'][1].nominal_power()\n",
    "#pv_log_model(1500) #clp/w\n",
    "\n",
    "bucket_list = psr_bucalemu.bucket_list(Currency.CLP)\n",
    "cost = 0\n",
    "for item in bucket_list:\n",
    "    cost += item['amount']\n",
    "    \n",
    "#unitary price comparison\n",
    "print(\n",
    "    'estimado',cost,\n",
    "    'on grid',pv_log_model_on_grid(655*10)*655*10,\n",
    "    'off grid',pv_log_model_off_grid(655*10)*655*10,\n",
    "    'linear',pv_linear(655*10)*655*10)\n",
    "bucket_list\n"
   ]
  },
  {
   "cell_type": "code",
   "execution_count": null,
   "metadata": {},
   "outputs": [],
   "source": [
    "# psr_bucalemu.get_energy_generation('generación')\n",
    "psr_bucalemu.components['generación'][0].get_energy()\n",
    "psr_bucalemu.get_energy('generación')"
   ]
  }
 ],
 "metadata": {
  "kernelspec": {
   "display_name": "Python 3",
   "language": "python",
   "name": "python3"
  },
  "language_info": {
   "codemirror_mode": {
    "name": "ipython",
    "version": 3
   },
   "file_extension": ".py",
   "mimetype": "text/x-python",
   "name": "python",
   "nbconvert_exporter": "python",
   "pygments_lexer": "ipython3",
   "version": "3.12.0"
  }
 },
 "nbformat": 4,
 "nbformat_minor": 2
}
