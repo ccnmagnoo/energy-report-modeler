{
 "cells": [
  {
   "cell_type": "code",
   "execution_count": null,
   "metadata": {},
   "outputs": [],
   "source": [
    "%pip install python-dotenv\n",
    "%pip install -U scikit-learn"
   ]
  },
  {
   "cell_type": "code",
   "execution_count": null,
   "metadata": {},
   "outputs": [],
   "source": [
    "\n",
    "from typing import Dict\n",
    "\n",
    "\n",
    "from models.econometrics import Cost, Currency\n",
    "\n",
    "import math\n",
    "from typing import Callable\n",
    "from models.components import Component\n",
    "from models.econometrics import Cost\n",
    "from models.geometry import Orientation\n",
    "from models.photovoltaic import Photovoltaic"
   ]
  },
  {
   "cell_type": "code",
   "execution_count": null,
   "metadata": {},
   "outputs": [],
   "source": [
    "from dotenv import dotenv_values\n",
    "config = dotenv_values(\".env.local\")"
   ]
  },
  {
   "cell_type": "markdown",
   "metadata": {},
   "source": [
    "# Building references"
   ]
  },
  {
   "cell_type": "markdown",
   "metadata": {},
   "source": [
    "## Currencies values"
   ]
  },
  {
   "cell_type": "code",
   "execution_count": null,
   "metadata": {},
   "outputs": [],
   "source": [
    "import requests\n",
    "import json\n",
    "#currency values\n",
    "\n",
    "# national units https://mindicador.cl/api\n",
    "query_factor:requests.Response = requests.get('https://mindicador.cl/api',timeout=1000)\n",
    "ratios_cl = json.loads(query_factor.text)\n",
    "usd_clp:float = ratios_cl['dolar']['valor']\n",
    "Cost.set_exchange(Currency.CLP,usd_clp)\n",
    "Cost.set_exchange(Currency.UF,usd_clp/ratios_cl['uf']['valor']) # 1 dolar in UF\n",
    "Cost.set_exchange(Currency.UTM,usd_clp/ratios_cl['utm']['valor']) # 1 dolar in Utm\n",
    "\n",
    "# exchange rates https://app.freecurrencyapi.com/dashboard\n",
    "query_exchange:requests.Response = requests.get(config[\"CURRENCY_API_KEY\"],timeout=1000)\n",
    "\n",
    "currency_ratios = json.loads(query_exchange.text)\n",
    "Cost.set_exchange(Currency.EUR,currency_ratios['data']['EUR'])\n",
    "Cost.set_exchange(Currency.GBP,currency_ratios['data']['GBP'])\n",
    "Cost.set_exchange(Currency.BRL,currency_ratios['data']['BRL'])\n"
   ]
  },
  {
   "cell_type": "markdown",
   "metadata": {},
   "source": [
    "## Address and general info🌎"
   ]
  },
  {
   "cell_type": "code",
   "execution_count": null,
   "metadata": {},
   "outputs": [],
   "source": [
    "#cspell:disable\n",
    "\n",
    "\n",
    "#init proyect\n",
    "from models.components import Tech\n",
    "from models.geometry import GeoPosition\n",
    "from models.inventory import Building, Project\n",
    "\n",
    "project:Project = Project(\n",
    "    title='Sistema Fotovoltaico OnGrid-Mixto',\n",
    "    building = Building(\n",
    "        geolocation=GeoPosition(latitude=-33.861702,longitude=-71.657839),\n",
    "        name='Posta de Salud Rural Bucalemu',\n",
    "        address='Ruta G-80-I km 30 sn, Localidad Bucalemu,\\nSanto Domingo',\n",
    "        city='Santo Domingo'),\n",
    "    technology= [Tech.PHOTOVOLTAIC]\n",
    "    )\n",
    "\n",
    "# psr_sanenrique:Project = Project(\n",
    "#     title='Sistema Fotovoltaico OnGrid-Mixto PSR San Enrique, Santo Domingo',\n",
    "#     building = Building(\n",
    "#         geolocation=GeoPosition(latitude=-33.9081421,longitude=-71.7159192),\n",
    "#         name='Posta de Salud Rural de San Enrique',\n",
    "#         address='Ruta G-866 km 0 sn, Localidad San Enrique, Santo Domingo',\n",
    "#         city='Santo Domingo'),\n",
    "#     technology= [Tech.PHOTOVOLTAIC]\n",
    "#     )\n",
    "\n"
   ]
  },
  {
   "cell_type": "code",
   "execution_count": null,
   "metadata": {
    "vscode": {
     "languageId": "powershell"
    }
   },
   "outputs": [],
   "source": [
    "project.weather.get_data().head(24)"
   ]
  },
  {
   "cell_type": "markdown",
   "metadata": {},
   "source": [
    "# Integration "
   ]
  },
  {
   "cell_type": "markdown",
   "metadata": {},
   "source": [
    "## Energy Consumptions🔌"
   ]
  },
  {
   "cell_type": "code",
   "execution_count": null,
   "metadata": {},
   "outputs": [],
   "source": [
    "from models.consumption import ElectricityBill, Energetic\n",
    "project.building.add_consumptions(description=\"main\",energetic=Energetic.ELI,consumption=[\n",
    "    ElectricityBill(450,\"30-12-2022\",cost=71400),\n",
    "    ElectricityBill(497,\"30-01-2023\",cost=80800),\n",
    "    ElectricityBill(450,\"28-02-2023\",cost=71400),\n",
    "    ElectricityBill(475,\"30-03-2023\",cost=77400),\n",
    "    ElectricityBill(475,\"30-04-2023\",cost=77400),\n",
    "    ElectricityBill(520,\"30-05-2023\",cost=93400),\n",
    "    ElectricityBill(654,\"30-06-2023\",cost=122100),\n",
    "    ElectricityBill(820,\"30-07-2023\",cost=140800),\n",
    "    ElectricityBill(549,\"31-10-2023\",cost=100000),\n",
    "])"
   ]
  },
  {
   "cell_type": "code",
   "execution_count": null,
   "metadata": {},
   "outputs": [],
   "source": [
    "project.building.consumptions['main'].forecast()"
   ]
  },
  {
   "cell_type": "markdown",
   "metadata": {},
   "source": [
    "## Machine Components 🎡"
   ]
  },
  {
   "cell_type": "code",
   "execution_count": null,
   "metadata": {},
   "outputs": [],
   "source": [
    "#cspell: disable\n",
    "\n",
    "#PV COST MODEL, inscludes price clp per watt, including cost of planel, inverter, instalation and infraestructure.\n",
    "pv_log_model_on_grid:Callable[[float],float] = lambda size_w: math.floor(-152.6*math.log(size_w)+2605.9) # clp/w\n",
    "pv_log_model_off_grid:Callable[[float],float] = lambda size_w: math.floor(-414.7*math.log(size_w)+6143.9) # clp/w\n",
    "#PV linear COST MODEL, inscludes price clp per watt,just panel.\n",
    "pv_linear:Callable[[float],float] = lambda size_w: 245990/655\n",
    "\n",
    "#clean previous load\n",
    "project.components = {}\n",
    "from IPython.display import clear_output\n",
    "clear_output(wait=True)\n",
    "\n",
    "# assembly projects components\n",
    "project.add_component(\n",
    "    'generación',\n",
    "    Photovoltaic(project.weather,'Módulo Primario A',\n",
    "                reference='https://www.tiendatecnored.cl/modulo-fotovoltaico-650w-canadian-solar.html',\n",
    "                power=655,\n",
    "                quantity=5,\n",
    "                cost=None,\n",
    "                cost_model=pv_linear,\n",
    "                orientation=Orientation(15,270-16.46)),\n",
    "    Photovoltaic(project.weather,'Módulo Secundario B',\n",
    "                reference='https://www.tiendatecnored.cl/modulo-fotovoltaico-650w-canadian-solar.html',\n",
    "                power=655,\n",
    "                quantity=5,\n",
    "                cost=None,\n",
    "                cost_model=pv_linear,\n",
    "                orientation=Orientation(15,16.46))\n",
    "    )\n",
    "project.add_component(\n",
    "    'auxiliar',\n",
    "    Component('inversor de 7kW',\n",
    "                model='Voltronic 7kW 48V',\n",
    "                reference='https://solarbex.com/comprar/inversor-hibrido-7kw-48v-voltronic/',\n",
    "                specification='Híbrido 7kW Monofásico',\n",
    "                cost_per_unit=Cost(1255,Currency.EUR)),\n",
    "    Component('Controlador de Carga',\n",
    "                model='Enertik 80A 12/24V',\n",
    "                specification='1000W to 2000 24V output',\n",
    "                cost_per_unit=Cost(101600,Currency.CLP)),\n",
    "    Component('medidor bidireccional',\n",
    "                model='Elster AS1440',\n",
    "                specification='Trifasico',\n",
    "                cost_per_unit=Cost(306990,Currency.CLP)),\n",
    "    Component('almacenamiento',\n",
    "                model='MP NP12-200',\n",
    "                specification='Betería 12V 200Ah',\n",
    "                reference='https://www.tiendatecnored.cl/bateria-gel-ciclo-profundo-12v-200ah.html',\n",
    "                cost_per_unit=Cost(204889,Currency.CLP),\n",
    "                quantity=10,\n",
    "                )\n",
    "    )\n",
    "\n",
    "project.add_component(\n",
    "    'obras',\n",
    "    Component(description='instalación eléctrica',\n",
    "            specification='H/P eléctrico',\n",
    "            cost_per_unit=Cost(1,currency=Currency.UF),\n",
    "            quantity=100,\n",
    "            ),\n",
    "    Component(description='estructura de soporte',\n",
    "            specification='elementos fijación',\n",
    "            cost_per_unit=Cost((4*800+11400/4+4*700+4000+500)),\n",
    "            quantity=24\n",
    "            )\n",
    ")"
   ]
  },
  {
   "cell_type": "code",
   "execution_count": null,
   "metadata": {},
   "outputs": [],
   "source": [
    "# psr_bucalemu.components['generación'][1].nominal_power()\n",
    "#pv_log_model(1500) #clp/w\n",
    "\n",
    "bucket_list = project.bucket_list(Currency.CLP)\n",
    "    \n",
    "#unitary price comparison\n",
    "print(\n",
    "    'estimado',bucket_list['cost'],\n",
    "    'on grid',pv_log_model_on_grid(655*10)*655*10,\n",
    "    'off grid',pv_log_model_off_grid(655*10)*655*10,\n",
    "    'linear',pv_linear(655*10)*655*10)\n",
    "\n"
   ]
  },
  {
   "cell_type": "code",
   "execution_count": null,
   "metadata": {},
   "outputs": [],
   "source": [
    "# psr_bucalemu.get_energy_generation('generación')\n",
    "project.get_energy('generación').head(10)"
   ]
  },
  {
   "cell_type": "code",
   "execution_count": 1,
   "metadata": {},
   "outputs": [
    {
     "name": "stdout",
     "output_type": "stream",
     "text": [
      "   year  emission\n",
      "0  2018  0.418742\n",
      "1  2019  0.405575\n",
      "2  2020  0.383400\n",
      "3  2021  0.390708\n",
      "4  2022  0.300608\n",
      "5  2023  0.242117\n",
      "shape  (6,)\n",
      "X =>  [[2018]\n",
      " [2019]\n",
      " [2020]\n",
      " [2021]\n",
      " [2022]\n",
      " [2023]]\n"
     ]
    },
    {
     "ename": "ValueError",
     "evalue": "Expected 2D array, got scalar array instead:\narray=2024.\nReshape your data either using array.reshape(-1, 1) if your data has a single feature or array.reshape(1, -1) if it contains a single sample.",
     "output_type": "error",
     "traceback": [
      "\u001b[1;31m---------------------------------------------------------------------------\u001b[0m",
      "\u001b[1;31mValueError\u001b[0m                                Traceback (most recent call last)",
      "Cell \u001b[1;32mIn[1], line 4\u001b[0m\n\u001b[0;32m      1\u001b[0m \u001b[38;5;28;01mfrom\u001b[39;00m \u001b[38;5;21;01mmodels\u001b[39;00m\u001b[38;5;21;01m.\u001b[39;00m\u001b[38;5;21;01memission\u001b[39;00m \u001b[38;5;28;01mimport\u001b[39;00m emission\n\u001b[0;32m      3\u001b[0m \u001b[38;5;28mprint\u001b[39m(emission\u001b[38;5;241m.\u001b[39mannual_avg())\n\u001b[1;32m----> 4\u001b[0m \u001b[43memission\u001b[49m\u001b[38;5;241;43m.\u001b[39;49m\u001b[43mannual_projection\u001b[49m\u001b[43m(\u001b[49m\u001b[38;5;241;43m2024\u001b[39;49m\u001b[43m)\u001b[49m\n",
      "File \u001b[1;32mc:\\Users\\crcam\\Dev\\pv-report-modeler\\models\\emission.py:39\u001b[0m, in \u001b[0;36mEmission.annual_projection\u001b[1;34m(self, year)\u001b[0m\n\u001b[0;32m     36\u001b[0m \u001b[38;5;28mprint\u001b[39m(\u001b[38;5;124m\"\u001b[39m\u001b[38;5;124mX => \u001b[39m\u001b[38;5;124m\"\u001b[39m, \u001b[38;5;28mself\u001b[39m\u001b[38;5;241m.\u001b[39m_reshape(data\u001b[38;5;241m.\u001b[39myear)) \n\u001b[0;32m     38\u001b[0m reg\u001b[38;5;241m.\u001b[39mfit(X\u001b[38;5;241m=\u001b[39m\u001b[38;5;28mself\u001b[39m\u001b[38;5;241m.\u001b[39m_reshape(data\u001b[38;5;241m.\u001b[39myear),y\u001b[38;5;241m=\u001b[39m\u001b[38;5;28mself\u001b[39m\u001b[38;5;241m.\u001b[39m_reshape(data\u001b[38;5;241m.\u001b[39memission))\n\u001b[1;32m---> 39\u001b[0m prediction \u001b[38;5;241m=\u001b[39m \u001b[43mreg\u001b[49m\u001b[38;5;241;43m.\u001b[39;49m\u001b[43mpredict\u001b[49m\u001b[43m(\u001b[49m\u001b[43myear\u001b[49m\u001b[43m)\u001b[49m\n\u001b[0;32m     40\u001b[0m \u001b[38;5;28;01mreturn\u001b[39;00m prediction\n",
      "File \u001b[1;32mc:\\Users\\crcam\\AppData\\Local\\Programs\\Python\\Python312\\Lib\\site-packages\\sklearn\\linear_model\\_base.py:286\u001b[0m, in \u001b[0;36mLinearModel.predict\u001b[1;34m(self, X)\u001b[0m\n\u001b[0;32m    272\u001b[0m \u001b[38;5;28;01mdef\u001b[39;00m \u001b[38;5;21mpredict\u001b[39m(\u001b[38;5;28mself\u001b[39m, X):\n\u001b[0;32m    273\u001b[0m \u001b[38;5;250m    \u001b[39m\u001b[38;5;124;03m\"\"\"\u001b[39;00m\n\u001b[0;32m    274\u001b[0m \u001b[38;5;124;03m    Predict using the linear model.\u001b[39;00m\n\u001b[0;32m    275\u001b[0m \n\u001b[1;32m   (...)\u001b[0m\n\u001b[0;32m    284\u001b[0m \u001b[38;5;124;03m        Returns predicted values.\u001b[39;00m\n\u001b[0;32m    285\u001b[0m \u001b[38;5;124;03m    \"\"\"\u001b[39;00m\n\u001b[1;32m--> 286\u001b[0m     \u001b[38;5;28;01mreturn\u001b[39;00m \u001b[38;5;28;43mself\u001b[39;49m\u001b[38;5;241;43m.\u001b[39;49m\u001b[43m_decision_function\u001b[49m\u001b[43m(\u001b[49m\u001b[43mX\u001b[49m\u001b[43m)\u001b[49m\n",
      "File \u001b[1;32mc:\\Users\\crcam\\AppData\\Local\\Programs\\Python\\Python312\\Lib\\site-packages\\sklearn\\linear_model\\_base.py:269\u001b[0m, in \u001b[0;36mLinearModel._decision_function\u001b[1;34m(self, X)\u001b[0m\n\u001b[0;32m    266\u001b[0m \u001b[38;5;28;01mdef\u001b[39;00m \u001b[38;5;21m_decision_function\u001b[39m(\u001b[38;5;28mself\u001b[39m, X):\n\u001b[0;32m    267\u001b[0m     check_is_fitted(\u001b[38;5;28mself\u001b[39m)\n\u001b[1;32m--> 269\u001b[0m     X \u001b[38;5;241m=\u001b[39m \u001b[38;5;28;43mself\u001b[39;49m\u001b[38;5;241;43m.\u001b[39;49m\u001b[43m_validate_data\u001b[49m\u001b[43m(\u001b[49m\u001b[43mX\u001b[49m\u001b[43m,\u001b[49m\u001b[43m \u001b[49m\u001b[43maccept_sparse\u001b[49m\u001b[38;5;241;43m=\u001b[39;49m\u001b[43m[\u001b[49m\u001b[38;5;124;43m\"\u001b[39;49m\u001b[38;5;124;43mcsr\u001b[39;49m\u001b[38;5;124;43m\"\u001b[39;49m\u001b[43m,\u001b[49m\u001b[43m \u001b[49m\u001b[38;5;124;43m\"\u001b[39;49m\u001b[38;5;124;43mcsc\u001b[39;49m\u001b[38;5;124;43m\"\u001b[39;49m\u001b[43m,\u001b[49m\u001b[43m \u001b[49m\u001b[38;5;124;43m\"\u001b[39;49m\u001b[38;5;124;43mcoo\u001b[39;49m\u001b[38;5;124;43m\"\u001b[39;49m\u001b[43m]\u001b[49m\u001b[43m,\u001b[49m\u001b[43m \u001b[49m\u001b[43mreset\u001b[49m\u001b[38;5;241;43m=\u001b[39;49m\u001b[38;5;28;43;01mFalse\u001b[39;49;00m\u001b[43m)\u001b[49m\n\u001b[0;32m    270\u001b[0m     \u001b[38;5;28;01mreturn\u001b[39;00m safe_sparse_dot(X, \u001b[38;5;28mself\u001b[39m\u001b[38;5;241m.\u001b[39mcoef_\u001b[38;5;241m.\u001b[39mT, dense_output\u001b[38;5;241m=\u001b[39m\u001b[38;5;28;01mTrue\u001b[39;00m) \u001b[38;5;241m+\u001b[39m \u001b[38;5;28mself\u001b[39m\u001b[38;5;241m.\u001b[39mintercept_\n",
      "File \u001b[1;32mc:\\Users\\crcam\\AppData\\Local\\Programs\\Python\\Python312\\Lib\\site-packages\\sklearn\\base.py:633\u001b[0m, in \u001b[0;36mBaseEstimator._validate_data\u001b[1;34m(self, X, y, reset, validate_separately, cast_to_ndarray, **check_params)\u001b[0m\n\u001b[0;32m    631\u001b[0m         out \u001b[38;5;241m=\u001b[39m X, y\n\u001b[0;32m    632\u001b[0m \u001b[38;5;28;01melif\u001b[39;00m \u001b[38;5;129;01mnot\u001b[39;00m no_val_X \u001b[38;5;129;01mand\u001b[39;00m no_val_y:\n\u001b[1;32m--> 633\u001b[0m     out \u001b[38;5;241m=\u001b[39m \u001b[43mcheck_array\u001b[49m\u001b[43m(\u001b[49m\u001b[43mX\u001b[49m\u001b[43m,\u001b[49m\u001b[43m \u001b[49m\u001b[43minput_name\u001b[49m\u001b[38;5;241;43m=\u001b[39;49m\u001b[38;5;124;43m\"\u001b[39;49m\u001b[38;5;124;43mX\u001b[39;49m\u001b[38;5;124;43m\"\u001b[39;49m\u001b[43m,\u001b[49m\u001b[43m \u001b[49m\u001b[38;5;241;43m*\u001b[39;49m\u001b[38;5;241;43m*\u001b[39;49m\u001b[43mcheck_params\u001b[49m\u001b[43m)\u001b[49m\n\u001b[0;32m    634\u001b[0m \u001b[38;5;28;01melif\u001b[39;00m no_val_X \u001b[38;5;129;01mand\u001b[39;00m \u001b[38;5;129;01mnot\u001b[39;00m no_val_y:\n\u001b[0;32m    635\u001b[0m     out \u001b[38;5;241m=\u001b[39m _check_y(y, \u001b[38;5;241m*\u001b[39m\u001b[38;5;241m*\u001b[39mcheck_params)\n",
      "File \u001b[1;32mc:\\Users\\crcam\\AppData\\Local\\Programs\\Python\\Python312\\Lib\\site-packages\\sklearn\\utils\\validation.py:1012\u001b[0m, in \u001b[0;36mcheck_array\u001b[1;34m(array, accept_sparse, accept_large_sparse, dtype, order, copy, force_all_finite, ensure_2d, allow_nd, ensure_min_samples, ensure_min_features, estimator, input_name)\u001b[0m\n\u001b[0;32m   1009\u001b[0m \u001b[38;5;28;01mif\u001b[39;00m ensure_2d:\n\u001b[0;32m   1010\u001b[0m     \u001b[38;5;66;03m# If input is scalar raise error\u001b[39;00m\n\u001b[0;32m   1011\u001b[0m     \u001b[38;5;28;01mif\u001b[39;00m array\u001b[38;5;241m.\u001b[39mndim \u001b[38;5;241m==\u001b[39m \u001b[38;5;241m0\u001b[39m:\n\u001b[1;32m-> 1012\u001b[0m         \u001b[38;5;28;01mraise\u001b[39;00m \u001b[38;5;167;01mValueError\u001b[39;00m(\n\u001b[0;32m   1013\u001b[0m             \u001b[38;5;124m\"\u001b[39m\u001b[38;5;124mExpected 2D array, got scalar array instead:\u001b[39m\u001b[38;5;130;01m\\n\u001b[39;00m\u001b[38;5;124marray=\u001b[39m\u001b[38;5;132;01m{}\u001b[39;00m\u001b[38;5;124m.\u001b[39m\u001b[38;5;130;01m\\n\u001b[39;00m\u001b[38;5;124m\"\u001b[39m\n\u001b[0;32m   1014\u001b[0m             \u001b[38;5;124m\"\u001b[39m\u001b[38;5;124mReshape your data either using array.reshape(-1, 1) if \u001b[39m\u001b[38;5;124m\"\u001b[39m\n\u001b[0;32m   1015\u001b[0m             \u001b[38;5;124m\"\u001b[39m\u001b[38;5;124myour data has a single feature or array.reshape(1, -1) \u001b[39m\u001b[38;5;124m\"\u001b[39m\n\u001b[0;32m   1016\u001b[0m             \u001b[38;5;124m\"\u001b[39m\u001b[38;5;124mif it contains a single sample.\u001b[39m\u001b[38;5;124m\"\u001b[39m\u001b[38;5;241m.\u001b[39mformat(array)\n\u001b[0;32m   1017\u001b[0m         )\n\u001b[0;32m   1018\u001b[0m     \u001b[38;5;66;03m# If input is 1D raise error\u001b[39;00m\n\u001b[0;32m   1019\u001b[0m     \u001b[38;5;28;01mif\u001b[39;00m array\u001b[38;5;241m.\u001b[39mndim \u001b[38;5;241m==\u001b[39m \u001b[38;5;241m1\u001b[39m:\n\u001b[0;32m   1020\u001b[0m         \u001b[38;5;66;03m# If input is a Series-like object (eg. pandas Series or polars Series)\u001b[39;00m\n",
      "\u001b[1;31mValueError\u001b[0m: Expected 2D array, got scalar array instead:\narray=2024.\nReshape your data either using array.reshape(-1, 1) if your data has a single feature or array.reshape(1, -1) if it contains a single sample."
     ]
    }
   ],
   "source": [
    "from models.emission import emission\n",
    "\n",
    "print(emission.annual_avg())\n",
    "emission.annual_projection(2024)"
   ]
  },
  {
   "cell_type": "markdown",
   "metadata": {},
   "source": [
    "# Write Document 📒\n"
   ]
  },
  {
   "cell_type": "code",
   "execution_count": null,
   "metadata": {},
   "outputs": [],
   "source": [
    "from docxtpl import * \n"
   ]
  },
  {
   "cell_type": "code",
   "execution_count": null,
   "metadata": {},
   "outputs": [],
   "source": [
    "#assembly proxy object \n",
    "ctx:dict[str,any] = {\n",
    "    #about this project\n",
    "    \"project_name\": project.title,\n",
    "    \"project_type\" : project.technology[0],\n",
    "    \"project_size\":\"*test\",\n",
    "    \"size_unit\":\"kW\",\n",
    "    \"total_cost\": project.bucket_list(Currency.CLP)[\"cost\"],\n",
    "    #site\n",
    "    \"building_name\" : project.building.name,\n",
    "    \"city\": project.building.city\n",
    "}"
   ]
  },
  {
   "cell_type": "code",
   "execution_count": null,
   "metadata": {},
   "outputs": [],
   "source": [
    "from docxtpl import DocxTemplate\n",
    "doc = DocxTemplate(\"templates/memory_template.docx\")\n",
    "doc.render(ctx)\n",
    "doc.save(f\"build/reporte_{project.building.city}_{project.building.name}.docx\")\n",
    "\n",
    "project.get_context('generación')"
   ]
  }
 ],
 "metadata": {
  "kernelspec": {
   "display_name": "Python 3",
   "language": "python",
   "name": "python3"
  },
  "language_info": {
   "codemirror_mode": {
    "name": "ipython",
    "version": 3
   },
   "file_extension": ".py",
   "mimetype": "text/x-python",
   "name": "python",
   "nbconvert_exporter": "python",
   "pygments_lexer": "ipython3",
   "version": "3.12.0"
  }
 },
 "nbformat": 4,
 "nbformat_minor": 2
}
