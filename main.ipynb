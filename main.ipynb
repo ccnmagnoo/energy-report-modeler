{
 "cells": [
  {
   "cell_type": "code",
   "execution_count": 1,
   "metadata": {},
   "outputs": [
    {
     "ename": "ModuleNotFoundError",
     "evalue": "No module named 'docxtpl'",
     "output_type": "error",
     "traceback": [
      "\u001b[1;31m---------------------------------------------------------------------------\u001b[0m",
      "\u001b[1;31mModuleNotFoundError\u001b[0m                       Traceback (most recent call last)",
      "\u001b[1;32md:\\DevApp\\energy-report-modeler\\main.ipynb Cell 1\u001b[0m line \u001b[0;36m1\n\u001b[1;32m----> <a href='vscode-notebook-cell:/d%3A/DevApp/energy-report-modeler/main.ipynb#W0sZmlsZQ%3D%3D?line=0'>1</a>\u001b[0m \u001b[39mfrom\u001b[39;00m \u001b[39mdocxtpl\u001b[39;00m \u001b[39mimport\u001b[39;00m \u001b[39m*\u001b[39m \n\u001b[0;32m      <a href='vscode-notebook-cell:/d%3A/DevApp/energy-report-modeler/main.ipynb#W0sZmlsZQ%3D%3D?line=1'>2</a>\u001b[0m \u001b[39mfrom\u001b[39;00m \u001b[39mtyping\u001b[39;00m \u001b[39mimport\u001b[39;00m Dict\n",
      "\u001b[1;31mModuleNotFoundError\u001b[0m: No module named 'docxtpl'"
     ]
    }
   ],
   "source": [
    "from docxtpl import * \n",
    "from typing import Dict"
   ]
  },
  {
   "cell_type": "markdown",
   "metadata": {},
   "source": [
    "# Site references"
   ]
  },
  {
   "cell_type": "code",
   "execution_count": null,
   "metadata": {},
   "outputs": [],
   "source": [
    "#cspell:disable\n",
    "PROJECT_INFO:Dict[str,any] = {\n",
    "    'name':'Proyecto Fotovoltaico CESFAM San Pejerrey',\n",
    "    'type':{\n",
    "        'tech':'Fotovoltaico',\n",
    "        'size':100,\n",
    "        'unit':'kWp',\n",
    "        'surface':1000\n",
    "        },\n",
    "    'building':{\n",
    "        'name':'CESFAM El Pejerrey',\n",
    "        'address':'Calle Falsa 124',\n",
    "        'city':'Quillota'\n",
    "    },\n",
    "    'geolocation':{\n",
    "        'latitude':-33.0,\n",
    "        'longitude':-70.0,\n",
    "        'altitude':0,\n",
    "    },\n",
    "}\n",
    "\n"
   ]
  }
 ],
 "metadata": {
  "kernelspec": {
   "display_name": "Python 3",
   "language": "python",
   "name": "python3"
  },
  "language_info": {
   "codemirror_mode": {
    "name": "ipython",
    "version": 3
   },
   "file_extension": ".py",
   "mimetype": "text/x-python",
   "name": "python",
   "nbconvert_exporter": "python",
   "pygments_lexer": "ipython3",
   "version": "3.12.0b4"
  }
 },
 "nbformat": 4,
 "nbformat_minor": 2
}
