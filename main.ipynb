{
 "cells": [
  {
   "cell_type": "code",
   "execution_count": null,
   "metadata": {},
   "outputs": [],
   "source": [
    "from docxtpl import "
   ]
  },
  {
   "cell_type": "markdown",
   "metadata": {},
   "source": [
    "# Site references"
   ]
  },
  {
   "cell_type": "code",
   "execution_count": null,
   "metadata": {},
   "outputs": [],
   "source": [
    "#cspell:disabl\n",
    "PROJECT_INFO = {\n",
    "    'name':'Proyecto Fotovoltaico',\n",
    "    'type':{\n",
    "        'tech':'Fotovoltaico',\n",
    "        'size':100,\n",
    "        'unit':'kWp'\n",
    "        },\n",
    "    'building':{\n",
    "        'name':'CESFAM El Pejerrey',\n",
    "        'address':'Calle Falsa 124',\n",
    "        'city':'Quillota'\n",
    "    },\n",
    "    'location':{\n",
    "        'latitude':-33.0,\n",
    "        'longitude':-70.0,\n",
    "        'altitude':0,\n",
    "    },\n",
    "}\n",
    "\n"
   ]
  }
 ],
 "metadata": {
  "language_info": {
   "name": "python"
  }
 },
 "nbformat": 4,
 "nbformat_minor": 2
}
