{
 "cells": [
  {
   "cell_type": "code",
   "execution_count": null,
   "metadata": {},
   "outputs": [],
   "source": [
    "from docxtpl import * \n",
    "from typing import Dict"
   ]
  },
  {
   "cell_type": "markdown",
   "metadata": {},
   "source": [
    "# Site references"
   ]
  },
  {
   "cell_type": "code",
   "execution_count": null,
   "metadata": {},
   "outputs": [],
   "source": [
    "#cspell:disable\n",
    "PROJECT_INFO:Dict[str,any] = {\n",
    "    'name':'Proyecto Fotovoltaico CESFAM San Pejerrey',\n",
    "    'type':{\n",
    "        'tech':'Fotovoltaico',\n",
    "        'size':100,\n",
    "        'unit':'kWp',\n",
    "        'surface':1000\n",
    "        },\n",
    "    'building':{\n",
    "        'name':'CESFAM El Pejerrey',\n",
    "        'address':'Calle Falsa 124',\n",
    "        'city':'Quillota'\n",
    "    },\n",
    "    'geolocation':{\n",
    "        'latitude':-33.0,\n",
    "        'longitude':-70.0,\n",
    "        'altitude':0,\n",
    "    },\n",
    "}\n",
    "\n"
   ]
  }
 ],
 "metadata": {
  "language_info": {
   "name": "python"
  }
 },
 "nbformat": 4,
 "nbformat_minor": 2
}
