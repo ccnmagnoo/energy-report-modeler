{
 "cells": [
  {
   "cell_type": "code",
   "execution_count": 1,
   "metadata": {},
   "outputs": [
    {
     "name": "stdout",
     "output_type": "stream",
     "text": [
      "Requirement already satisfied: pandas in c:\\users\\crcam\\appdata\\local\\programs\\python\\python312\\lib\\site-packages (2.2.2)\n",
      "Requirement already satisfied: numpy>=1.26.0 in c:\\users\\crcam\\appdata\\local\\programs\\python\\python312\\lib\\site-packages (from pandas) (1.26.4)\n",
      "Requirement already satisfied: python-dateutil>=2.8.2 in c:\\users\\crcam\\appdata\\roaming\\python\\python312\\site-packages (from pandas) (2.9.0.post0)\n",
      "Requirement already satisfied: pytz>=2020.1 in c:\\users\\crcam\\appdata\\local\\programs\\python\\python312\\lib\\site-packages (from pandas) (2024.1)\n",
      "Requirement already satisfied: tzdata>=2022.7 in c:\\users\\crcam\\appdata\\local\\programs\\python\\python312\\lib\\site-packages (from pandas) (2024.1)\n",
      "Requirement already satisfied: six>=1.5 in c:\\users\\crcam\\appdata\\roaming\\python\\python312\\site-packages (from python-dateutil>=2.8.2->pandas) (1.16.0)\n",
      "Note: you may need to restart the kernel to use updated packages.\n",
      "Requirement already satisfied: python-dotenv in c:\\users\\crcam\\appdata\\local\\programs\\python\\python312\\lib\\site-packages (1.0.1)\n",
      "Note: you may need to restart the kernel to use updated packages.\n",
      "Requirement already satisfied: scikit-learn in c:\\users\\crcam\\appdata\\local\\programs\\python\\python312\\lib\\site-packages (1.4.2)\n",
      "Requirement already satisfied: numpy>=1.19.5 in c:\\users\\crcam\\appdata\\local\\programs\\python\\python312\\lib\\site-packages (from scikit-learn) (1.26.4)\n",
      "Requirement already satisfied: scipy>=1.6.0 in c:\\users\\crcam\\appdata\\local\\programs\\python\\python312\\lib\\site-packages (from scikit-learn) (1.13.0)\n",
      "Requirement already satisfied: joblib>=1.2.0 in c:\\users\\crcam\\appdata\\local\\programs\\python\\python312\\lib\\site-packages (from scikit-learn) (1.4.0)\n",
      "Requirement already satisfied: threadpoolctl>=2.0.0 in c:\\users\\crcam\\appdata\\local\\programs\\python\\python312\\lib\\site-packages (from scikit-learn) (3.4.0)\n",
      "Note: you may need to restart the kernel to use updated packages.\n",
      "Requirement already satisfied: sun_position_calculator in c:\\users\\crcam\\appdata\\local\\programs\\python\\python312\\lib\\site-packages (1.0.0)\n",
      "Note: you may need to restart the kernel to use updated packages.\n",
      "Requirement already satisfied: requests in c:\\users\\crcam\\appdata\\local\\programs\\python\\python312\\lib\\site-packages (2.31.0)\n",
      "Requirement already satisfied: charset-normalizer<4,>=2 in c:\\users\\crcam\\appdata\\local\\programs\\python\\python312\\lib\\site-packages (from requests) (3.3.2)\n",
      "Requirement already satisfied: idna<4,>=2.5 in c:\\users\\crcam\\appdata\\local\\programs\\python\\python312\\lib\\site-packages (from requests) (3.7)\n",
      "Requirement already satisfied: urllib3<3,>=1.21.1 in c:\\users\\crcam\\appdata\\local\\programs\\python\\python312\\lib\\site-packages (from requests) (2.2.1)\n",
      "Requirement already satisfied: certifi>=2017.4.17 in c:\\users\\crcam\\appdata\\local\\programs\\python\\python312\\lib\\site-packages (from requests) (2024.2.2)\n",
      "Note: you may need to restart the kernel to use updated packages.\n",
      "Requirement already satisfied: docxtpl in c:\\users\\crcam\\appdata\\local\\programs\\python\\python312\\lib\\site-packages (0.16.8)\n",
      "Requirement already satisfied: six in c:\\users\\crcam\\appdata\\roaming\\python\\python312\\site-packages (from docxtpl) (1.16.0)\n",
      "Requirement already satisfied: python-docx in c:\\users\\crcam\\appdata\\local\\programs\\python\\python312\\lib\\site-packages (from docxtpl) (1.1.0)\n",
      "Requirement already satisfied: docxcompose in c:\\users\\crcam\\appdata\\local\\programs\\python\\python312\\lib\\site-packages (from docxtpl) (1.4.0)\n",
      "Requirement already satisfied: jinja2 in c:\\users\\crcam\\appdata\\local\\programs\\python\\python312\\lib\\site-packages (from docxtpl) (3.1.3)\n",
      "Requirement already satisfied: lxml in c:\\users\\crcam\\appdata\\local\\programs\\python\\python312\\lib\\site-packages (from docxtpl) (5.2.1)\n",
      "Requirement already satisfied: setuptools in c:\\users\\crcam\\appdata\\local\\programs\\python\\python312\\lib\\site-packages (from docxcompose->docxtpl) (69.5.1)\n",
      "Requirement already satisfied: babel in c:\\users\\crcam\\appdata\\local\\programs\\python\\python312\\lib\\site-packages (from docxcompose->docxtpl) (2.14.0)\n",
      "Requirement already satisfied: typing-extensions in c:\\users\\crcam\\appdata\\local\\programs\\python\\python312\\lib\\site-packages (from python-docx->docxtpl) (4.11.0)\n",
      "Requirement already satisfied: MarkupSafe>=2.0 in c:\\users\\crcam\\appdata\\local\\programs\\python\\python312\\lib\\site-packages (from jinja2->docxtpl) (2.1.5)\n",
      "Note: you may need to restart the kernel to use updated packages.\n"
     ]
    }
   ],
   "source": [
    "%pip install pandas\n",
    "%pip install python-dotenv\n",
    "%pip install -U scikit-learn\n",
    "%pip install sun_position_calculator\n",
    "%pip install requests\n",
    "%pip install docxtpl"
   ]
  },
  {
   "cell_type": "code",
   "execution_count": 2,
   "metadata": {},
   "outputs": [
    {
     "name": "stdout",
     "output_type": "stream",
     "text": [
      "Currency.CLP exchange ratios load status: True\n"
     ]
    }
   ],
   "source": [
    "\n",
    "from typing import Dict\n",
    "\n",
    "\n",
    "from models.econometrics import Cost, Currency\n",
    "\n",
    "import math\n",
    "from typing import Callable\n",
    "from models.components import Component\n",
    "from models.econometrics import Cost\n",
    "from models.geometry import Orientation\n",
    "from models.photovoltaic import Photovoltaic"
   ]
  },
  {
   "cell_type": "code",
   "execution_count": 3,
   "metadata": {},
   "outputs": [],
   "source": [
    "from dotenv import dotenv_values\n",
    "config = dotenv_values(\".env.local\")"
   ]
  },
  {
   "cell_type": "markdown",
   "metadata": {},
   "source": [
    "# Building references"
   ]
  },
  {
   "cell_type": "markdown",
   "metadata": {},
   "source": [
    "## Currencies values"
   ]
  },
  {
   "cell_type": "code",
   "execution_count": 4,
   "metadata": {},
   "outputs": [
    {
     "name": "stdout",
     "output_type": "stream",
     "text": [
      "set $1 Peso Chileno... on USD$0.00103 \n",
      "set $1 UF............. on USD$38.42513 \n",
      "set $1 UTM............ on USD$67.30618 \n",
      "set $1 Euro........... on USD$1.06558 \n",
      "set $1 Pound.......... on USD$1.23698 \n",
      "set $1 Real........... on USD$0.19200 \n"
     ]
    }
   ],
   "source": [
    "import requests # type: ignore\n",
    "import json\n",
    "#currency values\n",
    "\n",
    "# national units https://mindicador.cl/api\n",
    "query_factor:requests.Response = requests.get('https://mindicador.cl/api',timeout=1000)\n",
    "ratios_cl = json.loads(query_factor.text)\n",
    "usd_clp:float = ratios_cl['dolar']['valor']\n",
    "Cost.set_exchange(Currency.CLP,usd_clp)\n",
    "Cost.set_exchange(Currency.UF,usd_clp/ratios_cl['uf']['valor']) # 1 dolar in UF\n",
    "Cost.set_exchange(Currency.UTM,usd_clp/ratios_cl['utm']['valor']) # 1 dolar in Utm\n",
    "\n",
    "# exchange rates https://app.freecurrencyapi.com/dashboard\n",
    "query_exchange:requests.Response = requests.get(config[\"CURRENCY_API_KEY\"],timeout=1000)\n",
    "\n",
    "currency_ratios = json.loads(query_exchange.text)\n",
    "Cost.set_exchange(Currency.EUR,currency_ratios['data']['EUR'])\n",
    "Cost.set_exchange(Currency.GBP,currency_ratios['data']['GBP'])\n",
    "Cost.set_exchange(Currency.BRL,currency_ratios['data']['BRL'])\n"
   ]
  },
  {
   "cell_type": "markdown",
   "metadata": {},
   "source": [
    "## Address and general info🌎"
   ]
  },
  {
   "cell_type": "code",
   "execution_count": 5,
   "metadata": {},
   "outputs": [
    {
     "name": "stdout",
     "output_type": "stream",
     "text": [
      "api request URL https://power.larc.nasa.gov/api/temporal/hourly/point?Time=LST&parameters=T2M,ALLSKY_SFC_SW_DNI,ALLSKY_SFC_SW_DIFF,ALLSKY_SRF_ALB,SZA,WS10M&community=RE&latitude=-33.861702&longitude=-71.657839&start=20230101&end=20230102&format=JSON\n"
     ]
    }
   ],
   "source": [
    "#cspell:disable\n",
    "\n",
    "\n",
    "#init proyect\n",
    "from models.components import Tech\n",
    "from models.geometry import GeoPosition\n",
    "from models.inventory import Building, Project\n",
    "\n",
    "project:Project = Project(\n",
    "    title='Sistema Fotovoltaico OnGrid-Mixto',\n",
    "    building = Building(\n",
    "        geolocation=GeoPosition(latitude=-33.861702,longitude=-71.657839),\n",
    "        name='Posta de Salud Rural Bucalemu',\n",
    "        address='Ruta G-80-I km 30 sn, Localidad Bucalemu,\\nSanto Domingo',\n",
    "        city='Santo Domingo'),\n",
    "    technology= [Tech.PHOTOVOLTAIC]\n",
    "    )\n",
    "\n",
    "# psr_sanenrique:Project = Project(\n",
    "#     title='Sistema Fotovoltaico OnGrid-Mixto PSR San Enrique, Santo Domingo',\n",
    "#     building = Building(\n",
    "#         geolocation=GeoPosition(latitude=-33.9081421,longitude=-71.7159192),\n",
    "#         name='Posta de Salud Rural de San Enrique',\n",
    "#         address='Ruta G-866 km 0 sn, Localidad San Enrique, Santo Domingo',\n",
    "#         city='Santo Domingo'),\n",
    "#     technology= [Tech.PHOTOVOLTAIC]\n",
    "#     )\n",
    "\n"
   ]
  },
  {
   "cell_type": "code",
   "execution_count": null,
   "metadata": {},
   "outputs": [],
   "source": [
    "project.weather.get_data().sample(10)"
   ]
  },
  {
   "cell_type": "markdown",
   "metadata": {},
   "source": [
    "# Integration "
   ]
  },
  {
   "cell_type": "markdown",
   "metadata": {},
   "source": [
    "## Energy Consumptions🔌"
   ]
  },
  {
   "cell_type": "code",
   "execution_count": 7,
   "metadata": {},
   "outputs": [
    {
     "name": "stdout",
     "output_type": "stream",
     "text": [
      "Currency.CLP exchange ratios load status: True\n",
      "Currency.CLP exchange ratios load status: True\n",
      "Currency.CLP exchange ratios load status: True\n",
      "Currency.CLP exchange ratios load status: True\n",
      "Currency.CLP exchange ratios load status: True\n",
      "Currency.CLP exchange ratios load status: True\n",
      "Currency.CLP exchange ratios load status: True\n",
      "Currency.CLP exchange ratios load status: True\n",
      "Currency.CLP exchange ratios load status: True\n"
     ]
    }
   ],
   "source": [
    "from models.consumption import ElectricityBill, Energetic\n",
    "project.building.add_consumptions(description=\"main\",energetic=Energetic.ELI,consumption=[\n",
    "    ElectricityBill(450,\"30-12-2022\",cost=71400),\n",
    "    ElectricityBill(497,\"30-01-2023\",cost=80800),\n",
    "    ElectricityBill(450,\"28-02-2023\",cost=71400),\n",
    "    ElectricityBill(475,\"30-03-2023\",cost=77400),\n",
    "    ElectricityBill(475,\"30-04-2023\",cost=77400),\n",
    "    ElectricityBill(520,\"30-05-2023\",cost=93400),\n",
    "    ElectricityBill(654,\"30-06-2023\",cost=122100),\n",
    "    ElectricityBill(820,\"30-07-2023\",cost=140800),\n",
    "    ElectricityBill(549,\"31-10-2023\",cost=100000),\n",
    "])"
   ]
  },
  {
   "cell_type": "code",
   "execution_count": 8,
   "metadata": {},
   "outputs": [
    {
     "name": "stdout",
     "output_type": "stream",
     "text": [
      "boundaries in month 8 : 820 <-> 549\n",
      "boundaries in month 9 : 684.5 <-> 549\n",
      "boundaries in month 11 : 549 <-> 450\n"
     ]
    },
    {
     "data": {
      "text/html": [
       "<div>\n",
       "<style scoped>\n",
       "    .dataframe tbody tr th:only-of-type {\n",
       "        vertical-align: middle;\n",
       "    }\n",
       "\n",
       "    .dataframe tbody tr th {\n",
       "        vertical-align: top;\n",
       "    }\n",
       "\n",
       "    .dataframe thead th {\n",
       "        text-align: right;\n",
       "    }\n",
       "</style>\n",
       "<table border=\"1\" class=\"dataframe\">\n",
       "  <thead>\n",
       "    <tr style=\"text-align: right;\">\n",
       "      <th></th>\n",
       "      <th>month</th>\n",
       "      <th>energy</th>\n",
       "    </tr>\n",
       "  </thead>\n",
       "  <tbody>\n",
       "    <tr>\n",
       "      <th>0</th>\n",
       "      <td>1</td>\n",
       "      <td>497.00</td>\n",
       "    </tr>\n",
       "    <tr>\n",
       "      <th>1</th>\n",
       "      <td>2</td>\n",
       "      <td>450.00</td>\n",
       "    </tr>\n",
       "    <tr>\n",
       "      <th>2</th>\n",
       "      <td>3</td>\n",
       "      <td>475.00</td>\n",
       "    </tr>\n",
       "    <tr>\n",
       "      <th>3</th>\n",
       "      <td>4</td>\n",
       "      <td>475.00</td>\n",
       "    </tr>\n",
       "    <tr>\n",
       "      <th>4</th>\n",
       "      <td>5</td>\n",
       "      <td>520.00</td>\n",
       "    </tr>\n",
       "    <tr>\n",
       "      <th>5</th>\n",
       "      <td>6</td>\n",
       "      <td>654.00</td>\n",
       "    </tr>\n",
       "    <tr>\n",
       "      <th>6</th>\n",
       "      <td>7</td>\n",
       "      <td>820.00</td>\n",
       "    </tr>\n",
       "    <tr>\n",
       "      <th>7</th>\n",
       "      <td>8</td>\n",
       "      <td>684.50</td>\n",
       "    </tr>\n",
       "    <tr>\n",
       "      <th>8</th>\n",
       "      <td>9</td>\n",
       "      <td>616.75</td>\n",
       "    </tr>\n",
       "    <tr>\n",
       "      <th>9</th>\n",
       "      <td>10</td>\n",
       "      <td>549.00</td>\n",
       "    </tr>\n",
       "    <tr>\n",
       "      <th>10</th>\n",
       "      <td>11</td>\n",
       "      <td>499.50</td>\n",
       "    </tr>\n",
       "    <tr>\n",
       "      <th>11</th>\n",
       "      <td>12</td>\n",
       "      <td>450.00</td>\n",
       "    </tr>\n",
       "  </tbody>\n",
       "</table>\n",
       "</div>"
      ],
      "text/plain": [
       "    month  energy\n",
       "0       1  497.00\n",
       "1       2  450.00\n",
       "2       3  475.00\n",
       "3       4  475.00\n",
       "4       5  520.00\n",
       "5       6  654.00\n",
       "6       7  820.00\n",
       "7       8  684.50\n",
       "8       9  616.75\n",
       "9      10  549.00\n",
       "10     11  499.50\n",
       "11     12  450.00"
      ]
     },
     "execution_count": 8,
     "metadata": {},
     "output_type": "execute_result"
    }
   ],
   "source": [
    "project.building.consumptions['main'].forecast()"
   ]
  },
  {
   "cell_type": "markdown",
   "metadata": {},
   "source": [
    "## Machine Components 🎡"
   ]
  },
  {
   "cell_type": "code",
   "execution_count": 9,
   "metadata": {},
   "outputs": [
    {
     "name": "stdout",
     "output_type": "stream",
     "text": [
      "Currency.CLP exchange ratios load status: True\n",
      "inside cost pv :  245990.0 Currency.CLP\n",
      "Currency.CLP exchange ratios load status: True\n",
      "inside cost pv :  245990.0 Currency.CLP\n",
      "Currency.EUR exchange ratios load status: True\n",
      "Currency.CLP exchange ratios load status: True\n",
      "Currency.CLP exchange ratios load status: True\n",
      "Currency.CLP exchange ratios load status: True\n",
      "Currency.UF exchange ratios load status: True\n",
      "Currency.CLP exchange ratios load status: True\n"
     ]
    }
   ],
   "source": [
    "#cspell: disable\n",
    "\n",
    "#PV COST MODEL, inscludes price clp per watt, including cost of planel, inverter, instalation and infraestructure.\n",
    "pv_log_model_on_grid:Callable[[float],float] = lambda size_w: math.floor(-152.6*math.log(size_w)+2605.9) # clp/w\n",
    "pv_log_model_off_grid:Callable[[float],float] = lambda size_w: math.floor(-414.7*math.log(size_w)+6143.9) # clp/w\n",
    "#PV linear COST MODEL, inscludes price clp per watt,just panel.\n",
    "pv_linear:Callable[[float],float] = lambda size_w: 245990/655\n",
    "\n",
    "#clean previous load\n",
    "project.components = {}\n",
    "from IPython.display import clear_output\n",
    "\n",
    "from models.photovoltaic import Length, PvTechnicalSheet\n",
    "clear_output(wait=True)\n",
    "\n",
    "# assembly projects components\n",
    "project.add_component(\n",
    "    'generación',\n",
    "    Photovoltaic(project.weather,'Módulo Primario A',\n",
    "                reference='https://www.tiendatecnored.cl/modulo-fotovoltaico-650w-canadian-solar.html',\n",
    "                quantity=5,\n",
    "                cost=None,\n",
    "                cost_model=pv_linear,\n",
    "                orientation=Orientation(15,270-16.46),\n",
    "                technical_sheet=PvTechnicalSheet(power=655,area=(130.3,238.4,Length.CM)),\n",
    "                ),\n",
    "    Photovoltaic(project.weather,'Módulo Secundario B',\n",
    "                reference='https://www.tiendatecnored.cl/modulo-fotovoltaico-650w-canadian-solar.html',\n",
    "                quantity=5,\n",
    "                cost=None,\n",
    "                cost_model=pv_linear,\n",
    "                orientation=Orientation(15,16.46),\n",
    "                technical_sheet=PvTechnicalSheet(power=655,area=(130.3,238.4,Length.CM)),\n",
    "                )\n",
    "    )\n",
    "\n",
    "project.add_component(\n",
    "    'auxiliar',\n",
    "    Component('inversor de 7kW',\n",
    "                model='Voltronic 7kW 48V',\n",
    "                reference='https://solarbex.com/comprar/inversor-hibrido-7kw-48v-voltronic/',\n",
    "                specification='Híbrido 7kW Monofásico',\n",
    "                cost_per_unit=Cost(1255,Currency.EUR)),\n",
    "    Component('Controlador de Carga',\n",
    "                model='Enertik 80A 12/24V',\n",
    "                specification='1000W to 2000 24V output',\n",
    "                cost_per_unit=Cost(101600,Currency.CLP)),\n",
    "    Component('medidor bidireccional',\n",
    "                model='Elster AS1440',\n",
    "                specification='Trifasico',\n",
    "                cost_per_unit=Cost(306990,Currency.CLP)),\n",
    "    Component('almacenamiento',\n",
    "                model='MP NP12-200',\n",
    "                specification='Betería 12V 200Ah',\n",
    "                reference='https://www.tiendatecnored.cl/bateria-gel-ciclo-profundo-12v-200ah.html',\n",
    "                cost_per_unit=Cost(204889,Currency.CLP),\n",
    "                quantity=10,\n",
    "                )\n",
    "    )\n",
    "\n",
    "project.add_component(\n",
    "    'obras',\n",
    "    Component(description='instalación eléctrica',\n",
    "            specification='H/P eléctrico',\n",
    "            cost_per_unit=Cost(1,currency=Currency.UF),\n",
    "            quantity=100,\n",
    "            ),\n",
    "    Component(description='estructura de soporte',\n",
    "            specification='elementos fijación',\n",
    "            cost_per_unit=Cost((4*800+11400/4+4*700+4000+500)),\n",
    "            quantity=24\n",
    "            )\n",
    ")\n"
   ]
  },
  {
   "cell_type": "code",
   "execution_count": 10,
   "metadata": {},
   "outputs": [
    {
     "name": "stdout",
     "output_type": "stream",
     "text": [
      "Currency.CLP exchange ratios load status: True\n",
      "Currency.CLP exchange ratios load status: True\n",
      "Currency.EUR exchange ratios load status: True\n",
      "Currency.CLP exchange ratios load status: True\n",
      "Currency.CLP exchange ratios load status: True\n",
      "Currency.CLP exchange ratios load status: True\n",
      "Currency.UF exchange ratios load status: True\n",
      "Currency.CLP exchange ratios load status: True\n",
      "estimado 11249543.55 on grid 8279200 off grid 16368450 linear 2459900.0\n"
     ]
    }
   ],
   "source": [
    "# psr_bucalemu.components['generación'][1].nominal_power()\n",
    "#pv_log_model(1500) #clp/w\n",
    "\n",
    "bucket_list = project.bucket_list(Currency.CLP)\n",
    "    \n",
    "#unitary price comparison\n",
    "print(\n",
    "    'estimado',bucket_list['cost'],\n",
    "    'on grid',pv_log_model_on_grid(655*10)*655*10,\n",
    "    'off grid',pv_log_model_off_grid(655*10)*655*10,\n",
    "    'linear',pv_linear(655*10)*655*10)"
   ]
  },
  {
   "cell_type": "code",
   "execution_count": 11,
   "metadata": {},
   "outputs": [
    {
     "name": "stderr",
     "output_type": "stream",
     "text": [
      "d:\\Dev\\energy-report-modeler\\models\\photovoltaic.py:209: FutureWarning: Downcasting object dtype arrays on .fillna, .ffill, .bfill is deprecated and will change in a future version. Call result.infer_objects(copy=False) instead. To opt-in to the future behavior, set `pd.set_option('future.no_silent_downcasting', True)`\n",
      "  irr.fillna(0.0,inplace=True)\n",
      "d:\\Dev\\energy-report-modeler\\models\\photovoltaic.py:209: FutureWarning: Downcasting object dtype arrays on .fillna, .ffill, .bfill is deprecated and will change in a future version. Call result.infer_objects(copy=False) instead. To opt-in to the future behavior, set `pd.set_option('future.no_silent_downcasting', True)`\n",
      "  irr.fillna(0.0,inplace=True)\n"
     ]
    },
    {
     "data": {
      "text/html": [
       "<div>\n",
       "<style scoped>\n",
       "    .dataframe tbody tr th:only-of-type {\n",
       "        vertical-align: middle;\n",
       "    }\n",
       "\n",
       "    .dataframe tbody tr th {\n",
       "        vertical-align: top;\n",
       "    }\n",
       "\n",
       "    .dataframe thead th {\n",
       "        text-align: right;\n",
       "    }\n",
       "</style>\n",
       "<table border=\"1\" class=\"dataframe\">\n",
       "  <thead>\n",
       "    <tr style=\"text-align: right;\">\n",
       "      <th></th>\n",
       "      <th>month</th>\n",
       "      <th>day</th>\n",
       "      <th>System_capacity_KW</th>\n",
       "    </tr>\n",
       "  </thead>\n",
       "  <tbody>\n",
       "    <tr>\n",
       "      <th>0</th>\n",
       "      <td>01</td>\n",
       "      <td>01</td>\n",
       "      <td>57.618322</td>\n",
       "    </tr>\n",
       "    <tr>\n",
       "      <th>1</th>\n",
       "      <td>01</td>\n",
       "      <td>02</td>\n",
       "      <td>62.105034</td>\n",
       "    </tr>\n",
       "    <tr>\n",
       "      <th>2</th>\n",
       "      <td>12</td>\n",
       "      <td>31</td>\n",
       "      <td>0.000000</td>\n",
       "    </tr>\n",
       "  </tbody>\n",
       "</table>\n",
       "</div>"
      ],
      "text/plain": [
       "  month day  System_capacity_KW\n",
       "0    01  01           57.618322\n",
       "1    01  02           62.105034\n",
       "2    12  31            0.000000"
      ]
     },
     "execution_count": 11,
     "metadata": {},
     "output_type": "execute_result"
    }
   ],
   "source": [
    "# psr_bucalemu.get_energy_generation('generación')\n",
    "project.get_energy('generación')[['month','day','System_capacity_KW']].groupby(['month','day'],as_index=False).sum()"
   ]
  },
  {
   "cell_type": "code",
   "execution_count": 12,
   "metadata": {},
   "outputs": [
    {
     "data": {
      "text/html": [
       "<div>\n",
       "<style scoped>\n",
       "    .dataframe tbody tr th:only-of-type {\n",
       "        vertical-align: middle;\n",
       "    }\n",
       "\n",
       "    .dataframe tbody tr th {\n",
       "        vertical-align: top;\n",
       "    }\n",
       "\n",
       "    .dataframe thead th {\n",
       "        text-align: right;\n",
       "    }\n",
       "</style>\n",
       "<table border=\"1\" class=\"dataframe\">\n",
       "  <thead>\n",
       "    <tr style=\"text-align: right;\">\n",
       "      <th></th>\n",
       "      <th>year</th>\n",
       "      <th>emission</th>\n",
       "    </tr>\n",
       "  </thead>\n",
       "  <tbody>\n",
       "    <tr>\n",
       "      <th>0</th>\n",
       "      <td>2018</td>\n",
       "      <td>0.418742</td>\n",
       "    </tr>\n",
       "    <tr>\n",
       "      <th>1</th>\n",
       "      <td>2019</td>\n",
       "      <td>0.405575</td>\n",
       "    </tr>\n",
       "    <tr>\n",
       "      <th>2</th>\n",
       "      <td>2020</td>\n",
       "      <td>0.383400</td>\n",
       "    </tr>\n",
       "    <tr>\n",
       "      <th>3</th>\n",
       "      <td>2021</td>\n",
       "      <td>0.390708</td>\n",
       "    </tr>\n",
       "    <tr>\n",
       "      <th>4</th>\n",
       "      <td>2022</td>\n",
       "      <td>0.300608</td>\n",
       "    </tr>\n",
       "    <tr>\n",
       "      <th>5</th>\n",
       "      <td>2023</td>\n",
       "      <td>0.242117</td>\n",
       "    </tr>\n",
       "  </tbody>\n",
       "</table>\n",
       "</div>"
      ],
      "text/plain": [
       "   year  emission\n",
       "0  2018  0.418742\n",
       "1  2019  0.405575\n",
       "2  2020  0.383400\n",
       "3  2021  0.390708\n",
       "4  2022  0.300608\n",
       "5  2023  0.242117"
      ]
     },
     "execution_count": 12,
     "metadata": {},
     "output_type": "execute_result"
    }
   ],
   "source": [
    "from models.emission import emission\n",
    "\n",
    "emission.annual_projection(2024)\n",
    "emission.annual_avg()\n"
   ]
  },
  {
   "cell_type": "markdown",
   "metadata": {},
   "source": [
    "# Write Document 📒\n"
   ]
  },
  {
   "cell_type": "code",
   "execution_count": 13,
   "metadata": {},
   "outputs": [],
   "source": [
    "from docxtpl import * \n"
   ]
  },
  {
   "cell_type": "code",
   "execution_count": 14,
   "metadata": {},
   "outputs": [
    {
     "name": "stdout",
     "output_type": "stream",
     "text": [
      "Currency.CLP exchange ratios load status: True\n",
      "Currency.CLP exchange ratios load status: True\n",
      "Currency.EUR exchange ratios load status: True\n",
      "Currency.CLP exchange ratios load status: True\n",
      "Currency.CLP exchange ratios load status: True\n",
      "Currency.CLP exchange ratios load status: True\n",
      "Currency.UF exchange ratios load status: True\n",
      "Currency.CLP exchange ratios load status: True\n"
     ]
    }
   ],
   "source": [
    "#assembly proxy object \n",
    "ctx:dict[str,any] = {\n",
    "    #about this project\n",
    "    \"project_name\": project.title,\n",
    "    \"project_type\" : project.technology[0],\n",
    "    \"project_size\":\"*test\",\n",
    "    \"size_unit\":\"kW\",\n",
    "    \"total_cost\": project.bucket_list(Currency.CLP)[\"cost\"],\n",
    "    #site\n",
    "    \"building_name\" : project.building.name,\n",
    "    \"city\": project.building.city\n",
    "}"
   ]
  },
  {
   "cell_type": "code",
   "execution_count": 15,
   "metadata": {},
   "outputs": [
    {
     "ename": "FileNotFoundError",
     "evalue": "[Errno 2] No such file or directory: 'build/reporte_Santo Domingo_Posta de Salud Rural Bucalemu.docx'",
     "output_type": "error",
     "traceback": [
      "\u001b[1;31m---------------------------------------------------------------------------\u001b[0m",
      "\u001b[1;31mFileNotFoundError\u001b[0m                         Traceback (most recent call last)",
      "Cell \u001b[1;32mIn[15], line 4\u001b[0m\n\u001b[0;32m      2\u001b[0m doc \u001b[38;5;241m=\u001b[39m DocxTemplate(\u001b[38;5;124m\"\u001b[39m\u001b[38;5;124mtemplates/memory_template.docx\u001b[39m\u001b[38;5;124m\"\u001b[39m)\n\u001b[0;32m      3\u001b[0m doc\u001b[38;5;241m.\u001b[39mrender(ctx)\n\u001b[1;32m----> 4\u001b[0m \u001b[43mdoc\u001b[49m\u001b[38;5;241;43m.\u001b[39;49m\u001b[43msave\u001b[49m\u001b[43m(\u001b[49m\u001b[38;5;124;43mf\u001b[39;49m\u001b[38;5;124;43m\"\u001b[39;49m\u001b[38;5;124;43mbuild/reporte_\u001b[39;49m\u001b[38;5;132;43;01m{\u001b[39;49;00m\u001b[43mproject\u001b[49m\u001b[38;5;241;43m.\u001b[39;49m\u001b[43mbuilding\u001b[49m\u001b[38;5;241;43m.\u001b[39;49m\u001b[43mcity\u001b[49m\u001b[38;5;132;43;01m}\u001b[39;49;00m\u001b[38;5;124;43m_\u001b[39;49m\u001b[38;5;132;43;01m{\u001b[39;49;00m\u001b[43mproject\u001b[49m\u001b[38;5;241;43m.\u001b[39;49m\u001b[43mbuilding\u001b[49m\u001b[38;5;241;43m.\u001b[39;49m\u001b[43mname\u001b[49m\u001b[38;5;132;43;01m}\u001b[39;49;00m\u001b[38;5;124;43m.docx\u001b[39;49m\u001b[38;5;124;43m\"\u001b[39;49m\u001b[43m)\u001b[49m\n\u001b[0;32m      6\u001b[0m project\u001b[38;5;241m.\u001b[39mget_context(\u001b[38;5;124m'\u001b[39m\u001b[38;5;124mgeneración\u001b[39m\u001b[38;5;124m'\u001b[39m)\n",
      "File \u001b[1;32mc:\\Users\\crcam\\AppData\\Local\\Programs\\Python\\Python312\\Lib\\site-packages\\docxtpl\\template.py:753\u001b[0m, in \u001b[0;36mDocxTemplate.save\u001b[1;34m(self, filename, *args, **kwargs)\u001b[0m\n\u001b[0;32m    751\u001b[0m     \u001b[38;5;28mself\u001b[39m\u001b[38;5;241m.\u001b[39mdocx \u001b[38;5;241m=\u001b[39m Document(\u001b[38;5;28mself\u001b[39m\u001b[38;5;241m.\u001b[39mtemplate_file)\n\u001b[0;32m    752\u001b[0m \u001b[38;5;28mself\u001b[39m\u001b[38;5;241m.\u001b[39mpre_processing()\n\u001b[1;32m--> 753\u001b[0m \u001b[38;5;28;43mself\u001b[39;49m\u001b[38;5;241;43m.\u001b[39;49m\u001b[43mdocx\u001b[49m\u001b[38;5;241;43m.\u001b[39;49m\u001b[43msave\u001b[49m\u001b[43m(\u001b[49m\u001b[43mfilename\u001b[49m\u001b[43m,\u001b[49m\u001b[43m \u001b[49m\u001b[38;5;241;43m*\u001b[39;49m\u001b[43margs\u001b[49m\u001b[43m,\u001b[49m\u001b[43m \u001b[49m\u001b[38;5;241;43m*\u001b[39;49m\u001b[38;5;241;43m*\u001b[39;49m\u001b[43mkwargs\u001b[49m\u001b[43m)\u001b[49m\n\u001b[0;32m    754\u001b[0m \u001b[38;5;28mself\u001b[39m\u001b[38;5;241m.\u001b[39mpost_processing(filename)\n\u001b[0;32m    755\u001b[0m \u001b[38;5;28mself\u001b[39m\u001b[38;5;241m.\u001b[39mis_saved \u001b[38;5;241m=\u001b[39m \u001b[38;5;28;01mTrue\u001b[39;00m\n",
      "File \u001b[1;32mc:\\Users\\crcam\\AppData\\Local\\Programs\\Python\\Python312\\Lib\\site-packages\\docx\\document.py:151\u001b[0m, in \u001b[0;36mDocument.save\u001b[1;34m(self, path_or_stream)\u001b[0m\n\u001b[0;32m    145\u001b[0m \u001b[38;5;28;01mdef\u001b[39;00m \u001b[38;5;21msave\u001b[39m(\u001b[38;5;28mself\u001b[39m, path_or_stream: \u001b[38;5;28mstr\u001b[39m \u001b[38;5;241m|\u001b[39m IO[\u001b[38;5;28mbytes\u001b[39m]):\n\u001b[0;32m    146\u001b[0m \u001b[38;5;250m    \u001b[39m\u001b[38;5;124;03m\"\"\"Save this document to `path_or_stream`.\u001b[39;00m\n\u001b[0;32m    147\u001b[0m \n\u001b[0;32m    148\u001b[0m \u001b[38;5;124;03m    `path_or_stream` can be either a path to a filesystem location (a string) or a\u001b[39;00m\n\u001b[0;32m    149\u001b[0m \u001b[38;5;124;03m    file-like object.\u001b[39;00m\n\u001b[0;32m    150\u001b[0m \u001b[38;5;124;03m    \"\"\"\u001b[39;00m\n\u001b[1;32m--> 151\u001b[0m     \u001b[38;5;28;43mself\u001b[39;49m\u001b[38;5;241;43m.\u001b[39;49m\u001b[43m_part\u001b[49m\u001b[38;5;241;43m.\u001b[39;49m\u001b[43msave\u001b[49m\u001b[43m(\u001b[49m\u001b[43mpath_or_stream\u001b[49m\u001b[43m)\u001b[49m\n",
      "File \u001b[1;32mc:\\Users\\crcam\\AppData\\Local\\Programs\\Python\\Python312\\Lib\\site-packages\\docx\\parts\\document.py:106\u001b[0m, in \u001b[0;36mDocumentPart.save\u001b[1;34m(self, path_or_stream)\u001b[0m\n\u001b[0;32m    103\u001b[0m \u001b[38;5;28;01mdef\u001b[39;00m \u001b[38;5;21msave\u001b[39m(\u001b[38;5;28mself\u001b[39m, path_or_stream):\n\u001b[0;32m    104\u001b[0m \u001b[38;5;250m    \u001b[39m\u001b[38;5;124;03m\"\"\"Save this document to `path_or_stream`, which can be either a path to a\u001b[39;00m\n\u001b[0;32m    105\u001b[0m \u001b[38;5;124;03m    filesystem location (a string) or a file-like object.\"\"\"\u001b[39;00m\n\u001b[1;32m--> 106\u001b[0m     \u001b[38;5;28;43mself\u001b[39;49m\u001b[38;5;241;43m.\u001b[39;49m\u001b[43mpackage\u001b[49m\u001b[38;5;241;43m.\u001b[39;49m\u001b[43msave\u001b[49m\u001b[43m(\u001b[49m\u001b[43mpath_or_stream\u001b[49m\u001b[43m)\u001b[49m\n",
      "File \u001b[1;32mc:\\Users\\crcam\\AppData\\Local\\Programs\\Python\\Python312\\Lib\\site-packages\\docx\\opc\\package.py:151\u001b[0m, in \u001b[0;36mOpcPackage.save\u001b[1;34m(self, pkg_file)\u001b[0m\n\u001b[0;32m    149\u001b[0m \u001b[38;5;28;01mfor\u001b[39;00m part \u001b[38;5;129;01min\u001b[39;00m \u001b[38;5;28mself\u001b[39m\u001b[38;5;241m.\u001b[39mparts:\n\u001b[0;32m    150\u001b[0m     part\u001b[38;5;241m.\u001b[39mbefore_marshal()\n\u001b[1;32m--> 151\u001b[0m \u001b[43mPackageWriter\u001b[49m\u001b[38;5;241;43m.\u001b[39;49m\u001b[43mwrite\u001b[49m\u001b[43m(\u001b[49m\u001b[43mpkg_file\u001b[49m\u001b[43m,\u001b[49m\u001b[43m \u001b[49m\u001b[38;5;28;43mself\u001b[39;49m\u001b[38;5;241;43m.\u001b[39;49m\u001b[43mrels\u001b[49m\u001b[43m,\u001b[49m\u001b[43m \u001b[49m\u001b[38;5;28;43mself\u001b[39;49m\u001b[38;5;241;43m.\u001b[39;49m\u001b[43mparts\u001b[49m\u001b[43m)\u001b[49m\n",
      "File \u001b[1;32mc:\\Users\\crcam\\AppData\\Local\\Programs\\Python\\Python312\\Lib\\site-packages\\docx\\opc\\pkgwriter.py:27\u001b[0m, in \u001b[0;36mPackageWriter.write\u001b[1;34m(pkg_file, pkg_rels, parts)\u001b[0m\n\u001b[0;32m     23\u001b[0m \u001b[38;5;129m@staticmethod\u001b[39m\n\u001b[0;32m     24\u001b[0m \u001b[38;5;28;01mdef\u001b[39;00m \u001b[38;5;21mwrite\u001b[39m(pkg_file, pkg_rels, parts):\n\u001b[0;32m     25\u001b[0m \u001b[38;5;250m    \u001b[39m\u001b[38;5;124;03m\"\"\"Write a physical package (.pptx file) to `pkg_file` containing `pkg_rels` and\u001b[39;00m\n\u001b[0;32m     26\u001b[0m \u001b[38;5;124;03m    `parts` and a content types stream based on the content types of the parts.\"\"\"\u001b[39;00m\n\u001b[1;32m---> 27\u001b[0m     phys_writer \u001b[38;5;241m=\u001b[39m \u001b[43mPhysPkgWriter\u001b[49m\u001b[43m(\u001b[49m\u001b[43mpkg_file\u001b[49m\u001b[43m)\u001b[49m\n\u001b[0;32m     28\u001b[0m     PackageWriter\u001b[38;5;241m.\u001b[39m_write_content_types_stream(phys_writer, parts)\n\u001b[0;32m     29\u001b[0m     PackageWriter\u001b[38;5;241m.\u001b[39m_write_pkg_rels(phys_writer, pkg_rels)\n",
      "File \u001b[1;32mc:\\Users\\crcam\\AppData\\Local\\Programs\\Python\\Python312\\Lib\\site-packages\\docx\\opc\\phys_pkg.py:109\u001b[0m, in \u001b[0;36m_ZipPkgWriter.__init__\u001b[1;34m(self, pkg_file)\u001b[0m\n\u001b[0;32m    107\u001b[0m \u001b[38;5;28;01mdef\u001b[39;00m \u001b[38;5;21m__init__\u001b[39m(\u001b[38;5;28mself\u001b[39m, pkg_file):\n\u001b[0;32m    108\u001b[0m     \u001b[38;5;28msuper\u001b[39m(_ZipPkgWriter, \u001b[38;5;28mself\u001b[39m)\u001b[38;5;241m.\u001b[39m\u001b[38;5;21m__init__\u001b[39m()\n\u001b[1;32m--> 109\u001b[0m     \u001b[38;5;28mself\u001b[39m\u001b[38;5;241m.\u001b[39m_zipf \u001b[38;5;241m=\u001b[39m \u001b[43mZipFile\u001b[49m\u001b[43m(\u001b[49m\u001b[43mpkg_file\u001b[49m\u001b[43m,\u001b[49m\u001b[43m \u001b[49m\u001b[38;5;124;43m\"\u001b[39;49m\u001b[38;5;124;43mw\u001b[39;49m\u001b[38;5;124;43m\"\u001b[39;49m\u001b[43m,\u001b[49m\u001b[43m \u001b[49m\u001b[43mcompression\u001b[49m\u001b[38;5;241;43m=\u001b[39;49m\u001b[43mZIP_DEFLATED\u001b[49m\u001b[43m)\u001b[49m\n",
      "File \u001b[1;32mc:\\Users\\crcam\\AppData\\Local\\Programs\\Python\\Python312\\Lib\\zipfile\\__init__.py:1331\u001b[0m, in \u001b[0;36mZipFile.__init__\u001b[1;34m(self, file, mode, compression, allowZip64, compresslevel, strict_timestamps, metadata_encoding)\u001b[0m\n\u001b[0;32m   1329\u001b[0m \u001b[38;5;28;01mwhile\u001b[39;00m \u001b[38;5;28;01mTrue\u001b[39;00m:\n\u001b[0;32m   1330\u001b[0m     \u001b[38;5;28;01mtry\u001b[39;00m:\n\u001b[1;32m-> 1331\u001b[0m         \u001b[38;5;28mself\u001b[39m\u001b[38;5;241m.\u001b[39mfp \u001b[38;5;241m=\u001b[39m \u001b[43mio\u001b[49m\u001b[38;5;241;43m.\u001b[39;49m\u001b[43mopen\u001b[49m\u001b[43m(\u001b[49m\u001b[43mfile\u001b[49m\u001b[43m,\u001b[49m\u001b[43m \u001b[49m\u001b[43mfilemode\u001b[49m\u001b[43m)\u001b[49m\n\u001b[0;32m   1332\u001b[0m     \u001b[38;5;28;01mexcept\u001b[39;00m \u001b[38;5;167;01mOSError\u001b[39;00m:\n\u001b[0;32m   1333\u001b[0m         \u001b[38;5;28;01mif\u001b[39;00m filemode \u001b[38;5;129;01min\u001b[39;00m modeDict:\n",
      "\u001b[1;31mFileNotFoundError\u001b[0m: [Errno 2] No such file or directory: 'build/reporte_Santo Domingo_Posta de Salud Rural Bucalemu.docx'"
     ]
    }
   ],
   "source": [
    "from docxtpl import DocxTemplate\n",
    "doc = DocxTemplate(\"templates/memory_template.docx\")\n",
    "doc.render(ctx)\n",
    "doc.save(f\"build/reporte_{project.building.city}_{project.building.name}.docx\")\n",
    "\n",
    "project.get_context('generación')"
   ]
  }
 ],
 "metadata": {
  "kernelspec": {
   "display_name": "Python 3",
   "language": "python",
   "name": "python3"
  },
  "language_info": {
   "codemirror_mode": {
    "name": "ipython",
    "version": 3
   },
   "file_extension": ".py",
   "mimetype": "text/x-python",
   "name": "python",
   "nbconvert_exporter": "python",
   "pygments_lexer": "ipython3",
   "version": "3.12.3"
  }
 },
 "nbformat": 4,
 "nbformat_minor": 2
}
