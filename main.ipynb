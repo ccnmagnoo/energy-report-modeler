{
 "cells": [
  {
   "cell_type": "code",
   "execution_count": null,
   "metadata": {},
   "outputs": [],
   "source": [
    "%pip install pandas \n",
    "%pip install python-dotenv\n",
    "%pip install -U scikit-learn\n",
    "%pip install sun_position_calculator\n",
    "%pip install requests\n",
    "%pip install docxtpl\n",
    "%pip install matplotlib\n",
    "%pip install tabulate\n",
    "%pip install pyxirr\n",
    "%pip install openpyxl"
   ]
  },
  {
   "cell_type": "code",
   "execution_count": 1,
   "metadata": {},
   "outputs": [],
   "source": [
    "#local models\n",
    "from typing import Dict\n",
    "from models.econometrics import Cost, Currency\n",
    "from models.components import Component\n",
    "from models.econometrics import Cost\n",
    "from models.geometry import Orientation\n",
    "from models.photovoltaic import Photovoltaic\n",
    "import pandas as pd"
   ]
  },
  {
   "cell_type": "code",
   "execution_count": null,
   "metadata": {},
   "outputs": [],
   "source": [
    "#local env variables\n",
    "from dotenv import dotenv_values\n",
    "config = dotenv_values(\".env.local\")"
   ]
  },
  {
   "cell_type": "markdown",
   "metadata": {},
   "source": [
    "# Building references"
   ]
  },
  {
   "cell_type": "markdown",
   "metadata": {},
   "source": [
    "## Address and general info🌎"
   ]
  },
  {
   "cell_type": "code",
   "execution_count": 2,
   "metadata": {},
   "outputs": [
    {
     "name": "stdout",
     "output_type": "stream",
     "text": [
      "getting weather data...\n",
      "api request URL https://power.larc.nasa.gov/api/temporal/hourly/point?Time=LST&parameters=T2M,ALLSKY_SFC_SW_DNI,ALLSKY_SFC_SW_DIFF,ALLSKY_SRF_ALB,SZA,WS10M&community=RE&latitude=-33.861702&longitude=-71.657839&start=20230101&end=20231231&format=JSON\n",
      "getting currencies data...\n",
      "set $1 Peso Chileno... on USD$0.00 \n",
      "set $1 UF............. on USD$40.09 \n",
      "set $1 UTM............ on USD$70.29 \n",
      "set $1 Euro........... on USD$1.08 \n",
      "set $1 Pound.......... on USD$1.25 \n",
      "set $1 Real........... on USD$0.19 \n",
      "adding consumptions data...\n"
     ]
    }
   ],
   "source": [
    "#cspell:disable\n",
    "\n",
    "\n",
    "#init proyect\n",
    "from models.components import Tech\n",
    "from models.consumption import Energetic\n",
    "from models.inventory import Building, Project\n",
    "\n",
    "project:Project = Project(\n",
    "    title='Sistema Fotovoltaico OnGrid-Mixto',\n",
    "    building = Building(\n",
    "        geolocation=(-33.861702,-71.657839),\n",
    "        name='Posta de Salud Rural Bucalemu',\n",
    "        address='Ruta G-80-I km 30 sn, Localidad Bucalemu,\\nSanto Domingo',\n",
    "        city='Santo Domingo'),\n",
    "    technology= [Tech.PHOTOVOLTAIC],\n",
    "    consumption= {\n",
    "        'description':'main',\n",
    "        'energetic':Energetic.ELI,\n",
    "        'cost_increment':7/100,\n",
    "        'consumption':[\n",
    "            (450,\"30-12-2022\",71400),\n",
    "            (497,\"30-01-2023\",80800),\n",
    "            (450,\"28-02-2023\",71400),\n",
    "            (475,\"30-03-2023\",77400),\n",
    "            (475,\"30-04-2023\",77400),\n",
    "            (520,\"30-05-2023\",93400),\n",
    "            (654,\"30-06-2023\",122100),\n",
    "            (820,\"30-07-2023\",140800),\n",
    "            (549,\"31-10-2023\",100000),  \n",
    "            ],\n",
    "        }\n",
    "    )"
   ]
  },
  {
   "cell_type": "markdown",
   "metadata": {},
   "source": [
    "# Integration "
   ]
  },
  {
   "cell_type": "markdown",
   "metadata": {},
   "source": [
    "## Energy Consumptions🔌"
   ]
  },
  {
   "cell_type": "code",
   "execution_count": null,
   "metadata": {},
   "outputs": [],
   "source": [
    "#project.building.consumptions['main'].forecast()\n",
    "#project.building.consumption_forecast(['main','sec'])\n",
    "from pandas import DataFrame\n",
    "forecast:DataFrame = project.building.consumptions['main'].forecast(cost_increment=5/100)\n",
    "base = pd.DataFrame.from_dict(project.building.consumptions['main'].base())\n",
    "forecast"
   ]
  },
  {
   "cell_type": "markdown",
   "metadata": {},
   "source": [
    "## Machine Components 🎡"
   ]
  },
  {
   "cell_type": "code",
   "execution_count": null,
   "metadata": {},
   "outputs": [],
   "source": [
    "#cspell: disable\n",
    "\n",
    "#clean previous load\n",
    "project.components = {}\n",
    "from IPython.display import clear_output\n",
    "\n",
    "from models.photovoltaic import Length, PvTechnicalSheet\n",
    "clear_output(wait=True)\n",
    "\n",
    "# assembly projects components\n",
    "project.add_component(\n",
    "    'generación',\n",
    "    Photovoltaic(project.weather,'Módulo Primario FV A',\n",
    "                reference='https://www.tiendatecnored.cl/modulo-fotovoltaico-650w-canadian-solar.html',\n",
    "                specification='Solar Panel PV 650W 48V',\n",
    "                quantity=3,\n",
    "                cost=None,\n",
    "                orientation=Orientation(15,270-16.46),\n",
    "                technical_sheet=PvTechnicalSheet(power=655,area=(130.3,238.4,Length.CM)),\n",
    "                ),\n",
    "    Photovoltaic(project.weather,'Módulo Secundario FV B',\n",
    "                reference='https://www.tiendatecnored.cl/modulo-fotovoltaico-650w-canadian-solar.html',\n",
    "                specification='Solar Panel 650W 48V',\n",
    "                quantity=4,\n",
    "                cost=None,\n",
    "                orientation=Orientation(15,16.46),\n",
    "                technical_sheet=PvTechnicalSheet(power=655,area=(130.3,238.4,Length.CM)),\n",
    "                ),\n",
    "    generator=True\n",
    "    )\n",
    "\n",
    "project.add_component(\n",
    "    'auxiliar',\n",
    "    Component('Inversor Híbrido',\n",
    "                model='Voltronic 5kW 48V',\n",
    "                reference='https://solarbex.com/comprar/inversor-hibrido-5kw-48v-axpert/',\n",
    "                specification='Híbrido 5kW Monofásico',\n",
    "                cost_per_unit=Cost(869,Currency.EUR)),\n",
    "    Component('Controlador de Carga',\n",
    "                model='Enertik 80A 12/24V',\n",
    "                specification='1000W to 2000 24V output',\n",
    "                cost_per_unit=Cost(101600,Currency.CLP)),\n",
    "    Component('medidor bidireccional',\n",
    "                model='Elster AS1440',\n",
    "                specification='Trifasico',\n",
    "                cost_per_unit=Cost(306990,Currency.CLP)),\n",
    "    Component('almacenamiento',\n",
    "                model='MP NP12-200',\n",
    "                specification='Batería 12V 200Ah',\n",
    "                reference='https://www.tiendatecnored.cl/bateria-gel-ciclo-profundo-12v-200ah.html',\n",
    "                cost_per_unit=Cost(204889,Currency.CLP),\n",
    "                quantity=4,\n",
    "                )\n",
    "    )\n",
    "\n",
    "project.add_component(\n",
    "    'obras',\n",
    "    Component(description='instalación eléctrica',\n",
    "            specification='H/P eléctrico',\n",
    "            cost_per_unit=Cost(1,currency=Currency.UF),\n",
    "            quantity=8*5,\n",
    "            ),\n",
    "    Component(description='estructura de soporte',\n",
    "            specification='elementos fijación',\n",
    "            cost_per_unit=Cost((4*800+11400/4+4*700+4000+500)),\n",
    "            quantity=24\n",
    "            )\n",
    ")\n"
   ]
  },
  {
   "cell_type": "code",
   "execution_count": null,
   "metadata": {},
   "outputs": [],
   "source": [
    "# psr_bucalemu.components['generación'][1].nominal_power()\n",
    "#pv_log_model(1500) #clp/w\n",
    "\n",
    "bucket = project.bucket_list(Currency.CLP)\n",
    "bucket_df:DataFrame = bucket['bucket']\n"
   ]
  },
  {
   "cell_type": "code",
   "execution_count": null,
   "metadata": {},
   "outputs": [],
   "source": [
    "# psr_bucalemu.get_energy_generation('generación')\n",
    "project.energy_production()#[['month','day','System_capacity_KW']].groupby(['month','day'],as_index=False).sum()\n",
    "production_array = list(map(lambda it:f'{it['System_capacity_KW'].sum():.2f} kWh',project.production_array()))"
   ]
  },
  {
   "cell_type": "code",
   "execution_count": null,
   "metadata": {},
   "outputs": [],
   "source": [
    "#performance\n",
    "\n",
    "performance = project.performance(consumptions=['main'],cost_increment=7/100)\n",
    "production_performance = performance[['month','consumption','generation','netbilling','savings']]\n",
    "benefits_performance = performance[['month','unit_cost','benefits']]\n",
    "performance"
   ]
  },
  {
   "cell_type": "markdown",
   "metadata": {},
   "source": [
    "## Saving results on EXCEL ❎"
   ]
  },
  {
   "cell_type": "code",
   "execution_count": null,
   "metadata": {},
   "outputs": [],
   "source": [
    "data_to_file:dict[str,DataFrame] = {\n",
    "    'clima':project.weather.get_data(),\n",
    "    'capacidad':project.energy_production(),\n",
    "    'performance':performance,\n",
    "}\n",
    "\n",
    "for key,data in data_to_file.items():\n",
    "    with pd.ExcelWriter(f'build/calc_{project.building.city}_{project.building.name}_{key}.xlsx') as writer:\n",
    "        data.to_excel(writer,sheet_name='result')"
   ]
  },
  {
   "cell_type": "markdown",
   "metadata": {},
   "source": [
    "# Write Document 📒\n"
   ]
  },
  {
   "cell_type": "code",
   "execution_count": null,
   "metadata": {},
   "outputs": [],
   "source": [
    "from docxtpl import DocxTemplate,RichText\n",
    "from datetime import datetime\n",
    "from uuid import uuid1\n",
    "#init doc\n",
    "#assembly proxy object \n",
    "doc = DocxTemplate(\"templates/memory_template.docx\")"
   ]
  },
  {
   "cell_type": "markdown",
   "metadata": {},
   "source": [
    "## Write params and tables"
   ]
  },
  {
   "cell_type": "code",
   "execution_count": null,
   "metadata": {},
   "outputs": [],
   "source": [
    "#hyperlinks\n",
    "gmaps = RichText()\n",
    "gmaps.add('ver maps',url_id=doc.build_url_id(project.weather.geo_position.gmaps),bold=True,underline=True)"
   ]
  },
  {
   "cell_type": "code",
   "execution_count": null,
   "metadata": {},
   "outputs": [],
   "source": [
    "#loading context\n",
    "#cspell: disable\n",
    "ctx:dict[str,any] = {\n",
    "    #report\n",
    "    \"report_date\":datetime.now().strftime(\"%a, %d de %B %Y\"),\n",
    "    \"report_version\":\"ver.\"+str(uuid1()).split('-')[0],\n",
    "    #site\n",
    "    \"project\":project,\n",
    "    \"gmaps\":gmaps,\n",
    "    \n",
    "    #about this project\n",
    "    \"project_type\" : project.technology[0].value.capitalize(),\n",
    "    \"project_size\":f\"{project.nominal_power[0]:.2f} kW\",\n",
    "    \"total_cost\": f\"CLP$ {project.bucket_list(Currency.CLP)[\"cost\"]:,.0f}\",\n",
    "    #benefits\n",
    "    \"annual_benefits\": f\"CLP$ {performance['benefits'].sum():,.0f}\",\n",
    "    \"energy_production\": f\"{performance['generation'].sum():.0f} kWh/año\",\n",
    "    \"energy_netbilling\": f\"{performance['netbilling'].sum():.0f} kWh/año\",\n",
    "    \"energy_savings\": f\"{performance['savings'].sum():.0f} kWh/año\",\n",
    "    #emissions\n",
    "    \"emission_reduction\":f\"{performance['CO2 kg'].sum():,.2f} kg CO2\",\n",
    "    \"emission_forecast\":f'{project.emissions.annual_projection(2024):.4f} Ton CO2/MWh',\n",
    "    \"table_emission_historic\":project.emissions.annual_avg().round(4).to_markdown(index=False),\n",
    "    \"table_emission_reduction\":performance[['month','CO2 kg']].round(2).rename(columns={'month':'mes'}).to_markdown(index=False),\n",
    "    \n",
    "    #consumptions\n",
    "        ##base\n",
    "    \"table_base_consumptions\":\n",
    "        base.rename(columns={\n",
    "                \"energy\": \"proyectado kWh\",\n",
    "                \"month\":'mes',\n",
    "                'unit_cost':'costo $CLP/kWh'\n",
    "                }).to_markdown(index=False),\n",
    "        ##projected or future\n",
    "    \"cost_increment\":f\"{project.building.consumptions['main'].get_cost_increment*100:.2f} %\",\n",
    "    \"forecast_consumption\":f\"{forecast['energy'].sum()} kWh/año\",\n",
    "    \"table_forecast_consumptions\":\n",
    "        forecast.rename(columns={\n",
    "                \"energy\": \"proyectado kWh\",\n",
    "                \"month\":'mes',\n",
    "                'unit_cost':'costo $CLP/kWh'\n",
    "                }).to_markdown(index=False),\n",
    "    #components\n",
    "    \"table_components\":bucket_df\n",
    "            [['description','details','quantity','cost_after_tax']]\n",
    "            .rename(columns={\n",
    "                'description':'descripción',\n",
    "                'details':'técnico',\n",
    "                'quantity':'cantidad',\n",
    "                'cost_after_tax':'costo bruto'\n",
    "            })\n",
    "            .to_markdown(index=False),\n",
    "    \"table_energy_components\":bucket_df[bucket_df['gloss']=='generación'][['description','details','quantity']]\n",
    "    .rename(columns={\n",
    "                'description':'descripción',\n",
    "                'details':'detalle',\n",
    "                'quantity':'cantidad'\n",
    "            })\n",
    "    .to_markdown(index=False),\n",
    "    #production\n",
    "    \"table_production_array\":production_array,\n",
    "    \"table_production_performance\":production_performance\n",
    "    .rename(columns={\n",
    "            'month':'mes',\n",
    "            'consumption':'demanda',\n",
    "            'generation':'generación',\n",
    "            'savings':'ahorro',\n",
    "            }).round(2).to_markdown(index=False),\n",
    "    #economics\n",
    "    \"eco\":project.economical_analysis(Currency.CLP,format=True),\n",
    "    \"eco_num\":project.economical_analysis(Currency.CLP,format=False),\n",
    "\n",
    "}\n",
    "#render to doc\n",
    "doc.render(ctx)\n",
    "\n",
    "#ctx#project.get_context('generación')"
   ]
  },
  {
   "cell_type": "markdown",
   "metadata": {},
   "source": [
    "## Insert Plots 📊"
   ]
  },
  {
   "cell_type": "code",
   "execution_count": null,
   "metadata": {},
   "outputs": [],
   "source": [
    "#dep\n",
    "import matplotlib.pyplot as plt\n",
    "PATH = 'build/'"
   ]
  },
  {
   "cell_type": "code",
   "execution_count": null,
   "metadata": {},
   "outputs": [],
   "source": [
    "#plot_consumption_forecast\n",
    "p = plt.subplot()\n",
    "p.plot(forecast['month'],forecast['energy'],linewidth=3)\n",
    "p.set_xlabel('mes'), p.set_ylabel('consumo [kWH]')\n",
    "plt.savefig(PATH+'plot_consumption_forecast'+'.png',dpi=300)"
   ]
  },
  {
   "cell_type": "code",
   "execution_count": null,
   "metadata": {},
   "outputs": [],
   "source": [
    "# plot_irradiance\n",
    "plt.figure(figsize=(10,4))\n",
    "p = plt.subplot()\n",
    "w = project.weather.get_data()\n",
    "g= w[['month','day','ALLSKY_SFC_SW_DNI','ALLSKY_SFC_SW_DIFF']].groupby(['month','day'],as_index=False).mean()\n",
    "p.plot(\n",
    "    g.index.values,\n",
    "    g['ALLSKY_SFC_SW_DNI'].values,\n",
    "    label='directa',\n",
    "    linewidth=.75\n",
    "    )\n",
    "p.plot(\n",
    "    g.index.values,\n",
    "    g['ALLSKY_SFC_SW_DIFF'].values,\n",
    "    label='difusa',\n",
    "    linewidth=.75\n",
    "    )\n",
    "p.set_xlabel('dia N'), p.set_ylabel('irradiación media por día W/m2')\n",
    "plt.legend()\n",
    "plt.savefig(PATH+'plot_irradiance'+'.png',dpi=350)\n"
   ]
  },
  {
   "cell_type": "code",
   "execution_count": null,
   "metadata": {},
   "outputs": [],
   "source": [
    "# plot_temperature\n",
    "plt.figure(figsize=(10,4))\n",
    "p = plt.subplot()\n",
    "w = project.weather.get_data()\n",
    "g_max= w[['month','day','T2M',]].groupby(['month','day'],as_index=False).max()\n",
    "g_min= w[['month','day','T2M',]].groupby(['month','day'],as_index=False).min()\n",
    "g_men= w[['month','day','T2M',]].groupby(['month','day'],as_index=False).mean()\n",
    "p.plot(\n",
    "    g_men.index,\n",
    "    g_men['T2M'],\n",
    "    label='T° media [°C]',\n",
    "    linewidth=.75,\n",
    "    )\n",
    "p.fill_between(\n",
    "    g_men.index,\n",
    "    g_max['T2M'],\n",
    "    g_min['T2M'],\n",
    "    alpha=.5,\n",
    "    color='orange',\n",
    "    label='T [°C] max/min'\n",
    "    )\n",
    "\n",
    "p.set_xlabel('dia N'), p.set_ylabel('Temp Promedio [°C]')\n",
    "plt.legend()\n",
    "plt.savefig(PATH+'plot_temperature'+'.png',dpi=350)"
   ]
  },
  {
   "cell_type": "code",
   "execution_count": null,
   "metadata": {},
   "outputs": [],
   "source": [
    "#plot_components\n",
    "import numpy as np\n",
    "\n",
    "\n",
    "p = plt.subplot()\n",
    "colors = plt.get_cmap('Blues')(np.linspace(0.2, 0.7, bucket_df.index.size))\n",
    "p.pie(\n",
    "    bucket_df['cost_after_tax'],\n",
    "    labels = bucket_df['description'],\n",
    "    colors=colors,\n",
    "    autopct='%1.1f%%'\n",
    "    )\n",
    "\n",
    "plt.savefig(PATH+'plot_components'+'.png',dpi=300)"
   ]
  },
  {
   "cell_type": "code",
   "execution_count": null,
   "metadata": {},
   "outputs": [],
   "source": [
    "#plot_components_irr\n",
    "\n",
    "modules = project.production_array()\n",
    "\n",
    "fig,axs = plt.subplots(2,1,layout='constrained')\n",
    "fig.dpi = 300\n",
    "fig.set_size_inches(9,7)\n",
    "\n",
    "for i,module in enumerate(modules):\n",
    "    \n",
    "    #pivot table\n",
    "    pivot = module.fillna(0).pivot_table(index='month',columns='hour',values='IRR_incident')\n",
    "    #meshgrid\n",
    "    X,Y = np.meshgrid(pivot.columns,pivot.index)\n",
    "    Z = pivot.values\n",
    "    levels = np.linspace(0,1000,20)\n",
    "    cs= axs[i].contourf(X,Y,Z,levels=levels,cmap='plasma')\n",
    "    plt.colorbar(cs)\n",
    "    \n",
    "    axs[i].set_xlabel(f'24H (módulo {1+i})')\n",
    "    axs[i].set_ylabel('Mes')\n",
    "\n",
    "fig.suptitle('Irradiación Incidente media horaria [kW/m2]')\n",
    "plt.savefig('build/plot_components_irr',dpi=305)"
   ]
  },
  {
   "cell_type": "code",
   "execution_count": null,
   "metadata": {},
   "outputs": [],
   "source": [
    "#plot_components_production\n",
    "#source\n",
    "modules = project.production_array()\n",
    "#plotter\n",
    "plt.figure(figsize=(10,6))\n",
    "axs = plt.subplot()\n",
    "\n",
    "for i,module in enumerate(modules):  \n",
    "    #pivot table\n",
    "    group = module[['month','day','System_capacity_KW']].groupby(['month'],as_index=False).sum()\n",
    "    #meshgrid\n",
    "    axs.plot(group.index,group['System_capacity_KW'],label=f'modulo {i+1}')\n",
    "    axs.set_xlabel('mes N')\n",
    "    axs.set_ylabel('Generación kWh/mes')\n",
    "    \n",
    "    for i, value in enumerate(group['System_capacity_KW'].round(0).values):\n",
    "        plt.text(group.index[i], group['System_capacity_KW'][i], value, ha='center', va='bottom')\n",
    "    \n",
    "plt.legend()\n",
    "plt.savefig(PATH+'plot_components_production'+'.png',dpi=300)"
   ]
  },
  {
   "cell_type": "code",
   "execution_count": null,
   "metadata": {},
   "outputs": [],
   "source": [
    "#plot_production_performance\n",
    "plt.figure(figsize=(10,5),dpi=300)\n",
    "p = plt.subplot()\n",
    "x = production_performance['month']\n",
    "p.plot(x,production_performance['consumption'],'o--',label='demanda')\n",
    "p.plot(x,production_performance['generation'],label='generación',linewidth=4)\n",
    "sv=p.bar(x,production_performance['savings'],label='ahorro',width=0.5)\n",
    "nb= p.bar(x,production_performance['netbilling'],label='netbilling',width=0.4)\n",
    "p.bar_label(sv,label_type='center',fmt='%.0f',color='w')\n",
    "p.bar_label(nb,label_type='edge',fmt='%.0f', color='orange')\n",
    "\n",
    "p.set_xlabel('mes'), p.set_ylabel('energía [kWH]')\n",
    "plt.legend()\n",
    "plt.savefig(PATH+'plot_production_performance'+'.png',dpi=300)\n"
   ]
  },
  {
   "cell_type": "code",
   "execution_count": null,
   "metadata": {},
   "outputs": [],
   "source": [
    "#plot_performance_frequency\n",
    "\n",
    "plt.figure(dpi=300,layout='constrained')\n",
    "fig,p = plt.subplots()\n",
    "fig.set_size_inches(8,5)\n",
    "fig.set_dpi(300)\n",
    "x = project.energy_production()['hour']\n",
    "y = project.energy_production()['System_capacity_KW']\n",
    "hb = p.hexbin(x,y,gridsize=12,cmap='plasma')\n",
    "plt.colorbar(hb)\n",
    "\n",
    "p.set_xlabel('Horario'), p.set_ylabel('Potencia [kW]')\n",
    "fig.legend()\n",
    "plt.savefig(PATH+'plot_performance_frequency'+'.png',dpi=300)"
   ]
  },
  {
   "cell_type": "code",
   "execution_count": null,
   "metadata": {},
   "outputs": [],
   "source": [
    "#plot_flux\n",
    "#cspell: disable\n",
    "plt.figure(figsize=(10,4),dpi=300)\n",
    "data = DataFrame({\"flujo\":ctx['eco_num']['flux'],\"acumulado\":ctx['eco_num']['accumulated']})\n",
    "p = plt.subplot()\n",
    "bar=p.bar(data.index,data['flujo']/1000,width=.8,label='flujo')\n",
    "line=p.plot(data.index,data['acumulado']/1000,color='orange',marker='o',linewidth=3,label='flujo acumulado')\n",
    "p.bar_label(bar,label_type='center',fmt='%.0f',color='w')\n",
    "p.set_xlabel('año'), p.set_ylabel('utilidades Miles$CLP',)\n",
    "\n",
    "for i, value in enumerate(data['acumulado'].round(0).values):\n",
    "    plt.text(data.index[i], (data['acumulado']/1000)[i], f'{value/1000:.0f}', ha='center', va='bottom',color='#045993',)\n",
    "plt.legend()     \n",
    "plt.savefig(PATH+'plot_flux'+'.png',dpi=300)"
   ]
  },
  {
   "cell_type": "code",
   "execution_count": null,
   "metadata": {},
   "outputs": [],
   "source": [
    "#set into doc\n",
    "plot_list = [\n",
    "    'plot_consumption_forecast',\n",
    "    'plot_irradiance',\n",
    "    'plot_temperature',\n",
    "    'plot_components',\n",
    "    'plot_components_irr',\n",
    "    'plot_components_production',\n",
    "    'plot_production_performance',\n",
    "    'plot_performance_frequency',\n",
    "    'plot_flux',\n",
    "]\n",
    "\n",
    "for plot in plot_list:\n",
    "    doc.replace_pic(plot,f'build/{plot}.png')\n",
    "    print('replaced plot:',plot)"
   ]
  },
  {
   "cell_type": "code",
   "execution_count": null,
   "metadata": {},
   "outputs": [],
   "source": [
    "doc.save(f\"build/reporte_{project.building.city}_{project.building.name}.docx\")"
   ]
  }
 ],
 "metadata": {
  "kernelspec": {
   "display_name": "Python 3",
   "language": "python",
   "name": "python3"
  },
  "language_info": {
   "codemirror_mode": {
    "name": "ipython",
    "version": 3
   },
   "file_extension": ".py",
   "mimetype": "text/x-python",
   "name": "python",
   "nbconvert_exporter": "python",
   "pygments_lexer": "ipython3",
   "version": "3.12.3"
  }
 },
 "nbformat": 4,
 "nbformat_minor": 2
}
