{
 "cells": [
  {
   "cell_type": "code",
   "execution_count": 1,
   "metadata": {},
   "outputs": [],
   "source": [
    "from docxtpl import * \n",
    "from typing import Dict"
   ]
  },
  {
   "cell_type": "markdown",
   "metadata": {},
   "source": [
    "# Site references"
   ]
  },
  {
   "cell_type": "code",
   "execution_count": 4,
   "metadata": {},
   "outputs": [
    {
     "data": {
      "text/plain": [
       "987929.1304347826"
      ]
     },
     "execution_count": 4,
     "metadata": {},
     "output_type": "execute_result"
    }
   ],
   "source": [
    "#currency values\n",
    "\n",
    "from models.econometrics import Cost, Currency\n",
    "\n",
    "#reference 1 is USD\n",
    "Cost.set_exchange(Currency.CLP,908.72)\n",
    "Cost.set_exchange(Currency.EUR,0.92)\n",
    "\n",
    "cost_inverter = Cost(1000,Currency.EUR)\n",
    "cost_inverter.cost_after_tax(Currency.CLP)\n",
    "\n",
    "# exchange rates https://app.freecurrencyapi.com/dashboard\n"
   ]
  },
  {
   "cell_type": "code",
   "execution_count": null,
   "metadata": {},
   "outputs": [],
   "source": [
    "#cspell:disable\n",
    "\n",
    "\n",
    "#init proyect\n",
    "from models.components import Tech\n",
    "from models.geometry import GeoPosition\n",
    "from models.inventory import Building, Project\n",
    "\n",
    "psr_bucalemu:Project = Project(\n",
    "    building = Building(\n",
    "        geolocation=GeoPosition(latitude=-33.861702,longitude=-71.657839),\n",
    "        name='Posta de Salud Rural Bucalemu',\n",
    "        address='Ruta G-80-I km 30 sn, Localidad Bucalemu, Santo Domingo',\n",
    "        city='Santo Domingo'),\n",
    "    technology= [Tech.PHOTOVOLTAIC]\n",
    "    )\n",
    "\n",
    "\n",
    "# psr_sanenrique:Project = Project(\n",
    "#     building = Building(\n",
    "#         geolocation=GeoPosition(latitude=-33.9081421,longitude=-71.7159192),\n",
    "#         name='Posta de Salud Rural de San Enrique',\n",
    "#         address='Ruta G-866 km 0 sn, Localidad San Enrique, Santo Domingo',\n",
    "#         city='Santo Domingo'),\n",
    "#     technology= [Tech.PHOTOVOLTAIC]\n",
    "#     )\n",
    "\n"
   ]
  },
  {
   "cell_type": "code",
   "execution_count": null,
   "metadata": {
    "vscode": {
     "languageId": "powershell"
    }
   },
   "outputs": [],
   "source": [
    "psr_bucalemu.weather.get_data().head(24)"
   ]
  },
  {
   "cell_type": "markdown",
   "metadata": {},
   "source": [
    "# Integration components"
   ]
  },
  {
   "cell_type": "code",
   "execution_count": null,
   "metadata": {},
   "outputs": [],
   "source": [
    "\n",
    "from models.components import Component\n",
    "from models.econometrics import Cost\n",
    "from models.photovoltaic import Photovoltaic\n",
    "#cspell: disable\n",
    "\n",
    "# assembly projects components\n",
    "psr_bucalemu.add_component(\n",
    "    'generación',\n",
    "    Photovoltaic(psr_bucalemu.weather,'Módulo A Principal',power=250,quantity=40),\n",
    "    Photovoltaic(psr_bucalemu.weather,'Módulo Secundario B',power=250,quantity=20)\n",
    "    )\n",
    "\n",
    "psr_bucalemu.add_component(\n",
    "    'auxiliar',\n",
    "    Component('inversor de 5kW'),\n",
    "    Component('regulador'),\n",
    "    )\n",
    "psr_bucalemu.add_component(\n",
    "    'mano de obra',\n",
    "    Component('instalación','eléctrica',None,Cost(100000)),\n",
    "    Component('obras menores','habilitación de espacios',None,Cost(100000))\n",
    ")"
   ]
  },
  {
   "cell_type": "code",
   "execution_count": null,
   "metadata": {},
   "outputs": [],
   "source": [
    "psr_bucalemu.components"
   ]
  }
 ],
 "metadata": {
  "kernelspec": {
   "display_name": "Python 3",
   "language": "python",
   "name": "python3"
  },
  "language_info": {
   "codemirror_mode": {
    "name": "ipython",
    "version": 3
   },
   "file_extension": ".py",
   "mimetype": "text/x-python",
   "name": "python",
   "nbconvert_exporter": "python",
   "pygments_lexer": "ipython3",
   "version": "3.12.0"
  }
 },
 "nbformat": 4,
 "nbformat_minor": 2
}
