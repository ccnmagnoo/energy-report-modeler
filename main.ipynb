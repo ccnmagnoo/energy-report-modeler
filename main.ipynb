{
 "cells": [
  {
   "cell_type": "code",
   "execution_count": 1,
   "metadata": {},
   "outputs": [],
   "source": [
    "from docxtpl import * \n",
    "from typing import Dict"
   ]
  },
  {
   "cell_type": "markdown",
   "metadata": {},
   "source": [
    "# Site references"
   ]
  },
  {
   "cell_type": "code",
   "execution_count": 2,
   "metadata": {},
   "outputs": [
    {
     "name": "stdout",
     "output_type": "stream",
     "text": [
      "api request URL https://power.larc.nasa.gov/api/temporal/hourly/point?Time=LST&parameters=T2M,ALLSKY_SFC_SW_DNI,ALLSKY_SFC_SW_DIFF,ALLSKY_SRF_ALB,SZA,WS10M&community=RE&latitude=-33&longitude=-70&start=20230101&end=20230102&format=JSON\n"
     ]
    }
   ],
   "source": [
    "#cspell:disable\n",
    "from models.components import Tech\n",
    "from models.geometry import GeoPosition\n",
    "from models.inventory import Building, Project\n",
    "from models.econometrics import Cost\n",
    "\n",
    "#init proyect\n",
    "project:Project = Project(\n",
    "    building = Building(\n",
    "        geolocation=GeoPosition(latitude=-33,longitude=-70),\n",
    "        name='Cesfam Pimpim',\n",
    "        address='calle falsa 123',\n",
    "        city='Valparaíso'),\n",
    "    technology= [Tech.PHOTOVOLTAIC]\n",
    "    ) "
   ]
  },
  {
   "cell_type": "code",
   "execution_count": 3,
   "metadata": {},
   "outputs": [
    {
     "data": {
      "text/html": [
       "<div>\n",
       "<style scoped>\n",
       "    .dataframe tbody tr th:only-of-type {\n",
       "        vertical-align: middle;\n",
       "    }\n",
       "\n",
       "    .dataframe tbody tr th {\n",
       "        vertical-align: top;\n",
       "    }\n",
       "\n",
       "    .dataframe thead th {\n",
       "        text-align: right;\n",
       "    }\n",
       "</style>\n",
       "<table border=\"1\" class=\"dataframe\">\n",
       "  <thead>\n",
       "    <tr style=\"text-align: right;\">\n",
       "      <th></th>\n",
       "      <th>date</th>\n",
       "      <th>T2M</th>\n",
       "      <th>ALLSKY_SFC_SW_DNI</th>\n",
       "      <th>ALLSKY_SFC_SW_DIFF</th>\n",
       "      <th>ALLSKY_SRF_ALB</th>\n",
       "      <th>SZA</th>\n",
       "      <th>WS10M</th>\n",
       "      <th>year</th>\n",
       "      <th>month</th>\n",
       "      <th>day</th>\n",
       "      <th>hour</th>\n",
       "    </tr>\n",
       "  </thead>\n",
       "  <tbody>\n",
       "    <tr>\n",
       "      <th>5</th>\n",
       "      <td>2023-01-01 00:00:00</td>\n",
       "      <td>-5.18</td>\n",
       "      <td>0.00</td>\n",
       "      <td>0.00</td>\n",
       "      <td>None</td>\n",
       "      <td>None</td>\n",
       "      <td>0.79</td>\n",
       "      <td>2023</td>\n",
       "      <td>01</td>\n",
       "      <td>01</td>\n",
       "      <td>00</td>\n",
       "    </tr>\n",
       "    <tr>\n",
       "      <th>26</th>\n",
       "      <td>2023-01-01 21:00:00</td>\n",
       "      <td>-3.13</td>\n",
       "      <td>0.00</td>\n",
       "      <td>0.00</td>\n",
       "      <td>None</td>\n",
       "      <td>None</td>\n",
       "      <td>1.45</td>\n",
       "      <td>2023</td>\n",
       "      <td>01</td>\n",
       "      <td>01</td>\n",
       "      <td>21</td>\n",
       "    </tr>\n",
       "    <tr>\n",
       "      <th>44</th>\n",
       "      <td>2023-01-02 15:00:00</td>\n",
       "      <td>7.01</td>\n",
       "      <td>611.77</td>\n",
       "      <td>212.16</td>\n",
       "      <td>0.13</td>\n",
       "      <td>50.87</td>\n",
       "      <td>6.58</td>\n",
       "      <td>2023</td>\n",
       "      <td>01</td>\n",
       "      <td>02</td>\n",
       "      <td>15</td>\n",
       "    </tr>\n",
       "    <tr>\n",
       "      <th>12</th>\n",
       "      <td>2023-01-01 07:00:00</td>\n",
       "      <td>3.77</td>\n",
       "      <td>754.67</td>\n",
       "      <td>150.46</td>\n",
       "      <td>0.12</td>\n",
       "      <td>55.73</td>\n",
       "      <td>4.86</td>\n",
       "      <td>2023</td>\n",
       "      <td>01</td>\n",
       "      <td>01</td>\n",
       "      <td>07</td>\n",
       "    </tr>\n",
       "    <tr>\n",
       "      <th>35</th>\n",
       "      <td>2023-01-02 06:00:00</td>\n",
       "      <td>2.95</td>\n",
       "      <td>777.72</td>\n",
       "      <td>99.09</td>\n",
       "      <td>0.13</td>\n",
       "      <td>68.25</td>\n",
       "      <td>2.69</td>\n",
       "      <td>2023</td>\n",
       "      <td>01</td>\n",
       "      <td>02</td>\n",
       "      <td>06</td>\n",
       "    </tr>\n",
       "  </tbody>\n",
       "</table>\n",
       "</div>"
      ],
      "text/plain": [
       "                  date   T2M  ALLSKY_SFC_SW_DNI  ALLSKY_SFC_SW_DIFF  \\\n",
       "5  2023-01-01 00:00:00 -5.18               0.00                0.00   \n",
       "26 2023-01-01 21:00:00 -3.13               0.00                0.00   \n",
       "44 2023-01-02 15:00:00  7.01             611.77              212.16   \n",
       "12 2023-01-01 07:00:00  3.77             754.67              150.46   \n",
       "35 2023-01-02 06:00:00  2.95             777.72               99.09   \n",
       "\n",
       "   ALLSKY_SRF_ALB    SZA  WS10M  year month day hour  \n",
       "5            None   None   0.79  2023    01  01   00  \n",
       "26           None   None   1.45  2023    01  01   21  \n",
       "44           0.13  50.87   6.58  2023    01  02   15  \n",
       "12           0.12  55.73   4.86  2023    01  01   07  \n",
       "35           0.13  68.25   2.69  2023    01  02   06  "
      ]
     },
     "execution_count": 3,
     "metadata": {},
     "output_type": "execute_result"
    }
   ],
   "source": [
    "project.weather.get_data().sample(5)"
   ]
  },
  {
   "cell_type": "code",
   "execution_count": null,
   "metadata": {},
   "outputs": [],
   "source": []
  }
 ],
 "metadata": {
  "kernelspec": {
   "display_name": "Python 3",
   "language": "python",
   "name": "python3"
  },
  "language_info": {
   "codemirror_mode": {
    "name": "ipython",
    "version": 3
   },
   "file_extension": ".py",
   "mimetype": "text/x-python",
   "name": "python",
   "nbconvert_exporter": "python",
   "pygments_lexer": "ipython3",
   "version": "3.12.0"
  }
 },
 "nbformat": 4,
 "nbformat_minor": 2
}
