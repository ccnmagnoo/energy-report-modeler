{
 "cells": [
  {
   "cell_type": "code",
   "execution_count": 1,
   "metadata": {},
   "outputs": [
    {
     "name": "stdout",
     "output_type": "stream",
     "text": [
      "Note: you may need to restart the kernel to use updated packages.Requirement already satisfied: pandas in c:\\users\\crcam\\appdata\\local\\programs\\python\\python312\\lib\\site-packages (2.1.3)\n",
      "Requirement already satisfied: numpy<2,>=1.26.0 in c:\\users\\crcam\\appdata\\local\\programs\\python\\python312\\lib\\site-packages (from pandas) (1.26.2)\n",
      "Requirement already satisfied: python-dateutil>=2.8.2 in c:\\users\\crcam\\appdata\\local\\programs\\python\\python312\\lib\\site-packages (from pandas) (2.8.2)\n",
      "Requirement already satisfied: pytz>=2020.1 in c:\\users\\crcam\\appdata\\local\\programs\\python\\python312\\lib\\site-packages (from pandas) (2023.3.post1)\n",
      "Requirement already satisfied: tzdata>=2022.1 in c:\\users\\crcam\\appdata\\local\\programs\\python\\python312\\lib\\site-packages (from pandas) (2023.3)\n",
      "Requirement already satisfied: six>=1.5 in c:\\users\\crcam\\appdata\\local\\programs\\python\\python312\\lib\\site-packages (from python-dateutil>=2.8.2->pandas) (1.16.0)\n",
      "\n"
     ]
    },
    {
     "name": "stderr",
     "output_type": "stream",
     "text": [
      "\n",
      "[notice] A new release of pip is available: 24.1.2 -> 24.2\n",
      "[notice] To update, run: python.exe -m pip install --upgrade pip\n"
     ]
    },
    {
     "name": "stdout",
     "output_type": "stream",
     "text": [
      "Note: you may need to restart the kernel to use updated packages.Requirement already satisfied: python-dotenv in c:\\users\\crcam\\appdata\\local\\programs\\python\\python312\\lib\\site-packages (1.0.1)\n",
      "\n"
     ]
    },
    {
     "name": "stderr",
     "output_type": "stream",
     "text": [
      "\n",
      "[notice] A new release of pip is available: 24.1.2 -> 24.2\n",
      "[notice] To update, run: python.exe -m pip install --upgrade pip\n"
     ]
    },
    {
     "name": "stdout",
     "output_type": "stream",
     "text": [
      "Requirement already satisfied: scikit-learn in c:\\users\\crcam\\appdata\\local\\programs\\python\\python312\\lib\\site-packages (1.5.1)\n",
      "Requirement already satisfied: numpy>=1.19.5 in c:\\users\\crcam\\appdata\\local\\programs\\python\\python312\\lib\\site-packages (from scikit-learn) (1.26.2)\n",
      "Requirement already satisfied: scipy>=1.6.0 in c:\\users\\crcam\\appdata\\local\\programs\\python\\python312\\lib\\site-packages (from scikit-learn) (1.13.0)\n",
      "Requirement already satisfied: joblib>=1.2.0 in c:\\users\\crcam\\appdata\\local\\programs\\python\\python312\\lib\\site-packages (from scikit-learn) (1.4.0)\n",
      "Requirement already satisfied: threadpoolctl>=3.1.0 in c:\\users\\crcam\\appdata\\local\\programs\\python\\python312\\lib\\site-packages (from scikit-learn) (3.4.0)\n",
      "Note: you may need to restart the kernel to use updated packages.\n"
     ]
    },
    {
     "name": "stderr",
     "output_type": "stream",
     "text": [
      "\n",
      "[notice] A new release of pip is available: 24.1.2 -> 24.2\n",
      "[notice] To update, run: python.exe -m pip install --upgrade pip\n"
     ]
    }
   ],
   "source": [
    "%pip install pandas \n",
    "%pip install python-dotenv\n",
    "%pip install -U scikit-learn\n",
    "%pip install sun_position_calculator\n",
    "%pip install requests\n",
    "%pip install docxtpl\n",
    "%pip install matplotlib\n",
    "%pip install tabulate\n",
    "%pip install pyxirr\n",
    "%pip install openpyxl\n",
    "%pip install folium"
   ]
  },
  {
   "cell_type": "code",
   "execution_count": null,
   "metadata": {},
   "outputs": [],
   "source": [
    "#local models\n",
    "from typing import Dict\n",
    "from models.econometrics import Cost, Currency\n",
    "from models.components import Component\n",
    "from models.econometrics import Cost\n",
    "from models.geometry import Orientation\n",
    "from models.photovoltaic import Photovoltaic\n",
    "\n",
    "\n",
    "#init project\n",
    "from models.components import Tech\n",
    "from models.consumption import Energetic\n",
    "from models.inventory import Building, Project\n",
    "import pandas as pd"
   ]
  },
  {
   "cell_type": "code",
   "execution_count": null,
   "metadata": {},
   "outputs": [],
   "source": [
    "#local env variables\n",
    "from dotenv import dotenv_values\n",
    "config = dotenv_values(\".env.local\")"
   ]
  },
  {
   "cell_type": "markdown",
   "metadata": {},
   "source": [
    "# Building references"
   ]
  },
  {
   "cell_type": "markdown",
   "metadata": {},
   "source": [
    "## Address and general info🌎"
   ]
  },
  {
   "cell_type": "markdown",
   "metadata": {},
   "source": [
    "## Energy Consumptions🔌"
   ]
  },
  {
   "cell_type": "code",
   "execution_count": null,
   "metadata": {},
   "outputs": [],
   "source": [
    "#cspell:disable\n",
    "\n",
    "\n",
    "project:Project = Project(\n",
    "    title='Sistema Fotovoltaico OnGrid-Mixto',\n",
    "    building = Building(\n",
    "        geolocation=(-33.613019, -71.444142),\n",
    "        name='PSR Leyda',\n",
    "        address='Camino Antiguo S.A. , Sector Leyda,\\nSan Antonio',\n",
    "        city='San Antonio'),\n",
    "    technology= [Tech.PHOTOVOLTAIC],\n",
    "    consumption= {\n",
    "        'description':'main',\n",
    "        'energetic':Energetic.ELI,\n",
    "        'cost_increment':7/100,\n",
    "        'consumption':[\n",
    "            (344,\"02-06-2024\",61388),\n",
    "            (266,\"02-05-2024\",43945),\n",
    "            (204,\"02-04-2024\",34033),\n",
    "            (179,\"02-03-2024\",30033),\n",
    "            (156,\"03-02-2024\",26400),\n",
    "            (160,\"01-01-2024\",26643),\n",
    "            (229,\"02-12-2023\",37242),\n",
    "            (210,\"03-11-2023\",34257),\n",
    "            (304,\"02-10-2023\",48940),\n",
    "            (211,\"02-09-2023\",34392),\n",
    "            (308,\"01-08-2023\",49558),\n",
    "            (308,\"01-07-2023\",59950),\n",
    "            ],\n",
    "        }\n",
    "    )"
   ]
  },
  {
   "cell_type": "markdown",
   "metadata": {},
   "source": [
    "# Integration "
   ]
  },
  {
   "cell_type": "markdown",
   "metadata": {},
   "source": [
    "## Machine Components 🎡"
   ]
  },
  {
   "cell_type": "code",
   "execution_count": null,
   "metadata": {},
   "outputs": [],
   "source": [
    "#cspell: disable\n",
    "\n",
    "#clean previous load\n",
    "project.components = {}\n",
    "from IPython.display import clear_output\n",
    "\n",
    "from models.energy_storage import Battery\n",
    "from models.photovoltaic import Length, PvTechnicalSheet\n",
    "clear_output(wait=True)\n",
    "\n",
    "# assembly projects components\n",
    "project.add_component(\n",
    "    'generación',\n",
    "    Photovoltaic(project.weather,'Módulo Primario FV A',\n",
    "                reference='https://www.tiendatecnored.cl/modulo-fotovoltaico-650w-canadian-solar.html',\n",
    "                specification='Solar Panel PV 650W 48V',\n",
    "                quantity=6,\n",
    "                cost=Cost(208437,Currency.CLP),\n",
    "                orientation=Orientation(34,103),\n",
    "                technical_sheet=PvTechnicalSheet(power=655,area=(130.3,238.4,Length.CM)),\n",
    "                ),\n",
    "    Photovoltaic(project.weather,'Módulo Secundario FV B',\n",
    "                reference='https://www.tiendatecnored.cl/modulo-fotovoltaico-650w-canadian-solar.html',\n",
    "                specification='Solar Panel 650W 48V',\n",
    "                quantity=6,\n",
    "                cost=Cost(208437,Currency.CLP),\n",
    "                orientation=Orientation(34,283),\n",
    "                technical_sheet=PvTechnicalSheet(power=655,area=(130.3,238.4,Length.CM)),\n",
    "                ),\n",
    "    generator=True\n",
    "    )\n",
    "\n",
    "project.add_component(\n",
    "    'auxiliar',\n",
    "    Component('Inversor Híbrido',\n",
    "                model='Voltronic 5kW 48V',\n",
    "                reference='https://solarbex.com/comprar/inversor-hibrido-5kw-48v-axpert/',\n",
    "                specification='Híbrido 5kW Monofásico',\n",
    "                cost_per_unit=Cost(869,Currency.EUR)),\n",
    "    Component('Controlador de Carga',\n",
    "                model='Enertik 80A 12/24V',\n",
    "                specification='1000W to 2000 24V output',\n",
    "                cost_per_unit=Cost(101600,Currency.CLP)),\n",
    "    Component('medidor bidireccional',\n",
    "                model='Elster AS1440',\n",
    "                specification='Trifasico',\n",
    "                cost_per_unit=Cost(306990,Currency.CLP)),\n",
    "    # Battery('almacenamiento',\n",
    "    #             model='MP GEL12-250',\n",
    "    #             reference='https://www.tiendatecnored.cl/bateria-gel-ciclo-profundo-12v-250ah.html',\n",
    "    #             cost_per_unit=Cost(305990,Currency.CLP),\n",
    "    #             volt=12,\n",
    "    #             charge=250,\n",
    "    #             demand=project.building.consumption_forecast(['main'])['energy'].to_list(),\n",
    "    #             hours_autonomy=6,\n",
    "    #             use_regime='8/7',\n",
    "    #             )\n",
    "    )\n",
    "\n",
    "project.add_component(\n",
    "    'obras',\n",
    "    Component(description='instalación eléctrica',\n",
    "            specification='H/P eléctrico',\n",
    "            cost_per_unit=Cost(1,currency=Currency.UF),\n",
    "            quantity=7*5,\n",
    "            ),\n",
    "    Component(description='estructura de soporte',\n",
    "            specification='elementos fijación',\n",
    "            cost_per_unit=Cost((4*800+11400/4+4*700+4000+500)),\n",
    "            quantity=12*4\n",
    "            )\n",
    ")\n"
   ]
  },
  {
   "cell_type": "markdown",
   "metadata": {},
   "source": [
    "# Write Document 📒\n"
   ]
  },
  {
   "cell_type": "code",
   "execution_count": null,
   "metadata": {},
   "outputs": [],
   "source": [
    "import os\n",
    "PATH = 'build/'+f'r_{project.building.city.lower()[:3]}_{project.building.name}/'\n",
    "\n",
    "if not os.path.exists(PATH):\n",
    "    #create\n",
    "    os.makedirs(PATH)"
   ]
  },
  {
   "cell_type": "markdown",
   "metadata": {},
   "source": [
    "### Saving results on EXCEL ❎"
   ]
  },
  {
   "cell_type": "code",
   "execution_count": null,
   "metadata": {},
   "outputs": [],
   "source": [
    "from models.plotter import toTable\n",
    "toTable(project,PATH)"
   ]
  },
  {
   "cell_type": "markdown",
   "metadata": {},
   "source": [
    "### Generate Context->Doc📄✍️"
   ]
  },
  {
   "cell_type": "code",
   "execution_count": null,
   "metadata": {},
   "outputs": [],
   "source": [
    "from docxtpl import DocxTemplate # type: ignore\n",
    "#init doc\n",
    "#assembly proxy object \n",
    "memory_report = DocxTemplate(\"templates/memory_template.docx\")\n",
    "bidding_report = DocxTemplate(\"templates/bidding_template.docx\")"
   ]
  },
  {
   "cell_type": "markdown",
   "metadata": {},
   "source": [
    "## Write params and tables"
   ]
  },
  {
   "cell_type": "code",
   "execution_count": null,
   "metadata": {},
   "outputs": [],
   "source": [
    "#loading context\n",
    "#cspell: disable\n",
    "memory_report.render(project.context(template=memory_report))\n",
    "bidding_report.render(project.context(template=bidding_report))\n"
   ]
  },
  {
   "cell_type": "markdown",
   "metadata": {},
   "source": [
    "## Insert Plots 📊"
   ]
  },
  {
   "cell_type": "code",
   "execution_count": null,
   "metadata": {},
   "outputs": [],
   "source": [
    "#dep\n",
    "from models.plotter import plotter\n",
    "plotter(project,PATH)"
   ]
  },
  {
   "cell_type": "code",
   "execution_count": null,
   "metadata": {},
   "outputs": [],
   "source": [
    "#set into doc\n",
    "plot_list = [\n",
    "    'plot_consumption_forecast',\n",
    "    'plot_irradiance',\n",
    "    'plot_temperature',\n",
    "    'plot_components',\n",
    "    'plot_components_irr',\n",
    "    'plot_components_production',\n",
    "    'plot_production_performance',\n",
    "    'plot_performance_frequency',\n",
    "    'plot_flux',\n",
    "]\n",
    "\n",
    "for plot in plot_list:\n",
    "    memory_report.replace_pic(plot,PATH+f'{plot}.png')\n",
    "    print('replaced plot:',plot)"
   ]
  },
  {
   "cell_type": "code",
   "execution_count": null,
   "metadata": {},
   "outputs": [],
   "source": [
    "memory_report.save(PATH+f\"reporte_memoria_calculo.docx\")\n",
    "bidding_report.save(PATH+f\"reporte_pliegos_técnicos.docx\")"
   ]
  }
 ],
 "metadata": {
  "kernelspec": {
   "display_name": "Python 3",
   "language": "python",
   "name": "python3"
  },
  "language_info": {
   "codemirror_mode": {
    "name": "ipython",
    "version": 3
   },
   "file_extension": ".py",
   "mimetype": "text/x-python",
   "name": "python",
   "nbconvert_exporter": "python",
   "pygments_lexer": "ipython3",
   "version": "3.12.0"
  }
 },
 "nbformat": 4,
 "nbformat_minor": 2
}
