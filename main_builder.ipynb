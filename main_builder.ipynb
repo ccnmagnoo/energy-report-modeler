{
 "cells": [
  {
   "cell_type": "code",
   "execution_count": 1,
   "metadata": {},
   "outputs": [],
   "source": [
    "#local env variables\n",
    "#first time? run on terminal : pip install -r requirements.txt\n",
    "from dotenv import dotenv_values\n",
    "config = dotenv_values(\".env.local\")"
   ]
  },
  {
   "cell_type": "markdown",
   "metadata": {},
   "source": [
    "# Building references"
   ]
  },
  {
   "cell_type": "markdown",
   "metadata": {},
   "source": [
    "### Config👾"
   ]
  },
  {
   "cell_type": "code",
   "execution_count": null,
   "metadata": {},
   "outputs": [],
   "source": [
    "#cspell:disable\n",
    "from models.inventory import Project\n",
    "### Import Data 💾\n",
    "from source.vlp_ssvsa import data\n",
    "\n",
    "### init project\n",
    "project:Project = Project(**data['project'])"
   ]
  },
  {
   "cell_type": "markdown",
   "metadata": {},
   "source": [
    "### Consumptions && bills 🔌"
   ]
  },
  {
   "cell_type": "code",
   "execution_count": 3,
   "metadata": {},
   "outputs": [],
   "source": [
    "project.building.add_consumptions(**data['consumptions'])"
   ]
  },
  {
   "cell_type": "markdown",
   "metadata": {},
   "source": [
    "# Integration "
   ]
  },
  {
   "cell_type": "markdown",
   "metadata": {},
   "source": [
    "### Machine Components 🎡"
   ]
  },
  {
   "cell_type": "code",
   "execution_count": null,
   "metadata": {},
   "outputs": [],
   "source": [
    "#cspell: disable\n",
    "from IPython.display import clear_output\n",
    "\n",
    "#clean previous load\n",
    "clear_output(wait=True)\n",
    "project.components = {}\n",
    "\n",
    "# assembly projects components\n",
    "project.add_generator(*data['components']['generator'])\n",
    "#nominal power\n",
    "pj_power = project.nominal_power\n",
    "# Energy process\n",
    "project.add_component(*data['components']['install'])\n",
    "# BESS & Storage\n",
    "project.add_storage(*data['components']['storage'])\n",
    "# obras y accesorios\n",
    "project.add_component(*data['components']['accesories'])\n",
    "#Define bucket overloads\n",
    "project.bucket.set_overloads(**data['components']['overloads'])"
   ]
  },
  {
   "cell_type": "markdown",
   "metadata": {},
   "source": [
    "# Write Document 📒\n"
   ]
  },
  {
   "cell_type": "code",
   "execution_count": null,
   "metadata": {},
   "outputs": [],
   "source": [
    "from models.plotter import generate_docs\n",
    "generate_docs(project)"
   ]
  },
  {
   "cell_type": "markdown",
   "metadata": {},
   "source": []
  }
 ],
 "metadata": {
  "kernelspec": {
   "display_name": "Python 3",
   "language": "python",
   "name": "python3"
  },
  "language_info": {
   "codemirror_mode": {
    "name": "ipython",
    "version": 3
   },
   "file_extension": ".py",
   "mimetype": "text/x-python",
   "name": "python",
   "nbconvert_exporter": "python",
   "pygments_lexer": "ipython3",
   "version": "3.13.0"
  }
 },
 "nbformat": 4,
 "nbformat_minor": 2
}
