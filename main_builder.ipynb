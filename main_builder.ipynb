{
 "cells": [
  {
   "cell_type": "code",
   "execution_count": 22,
   "metadata": {},
   "outputs": [],
   "source": [
    "#local env variables\n",
    "#first time? run on terminal : pip install -r requirements.txt\n",
    "from dotenv import dotenv_values\n",
    "config = dotenv_values(\".env.local\")"
   ]
  },
  {
   "cell_type": "markdown",
   "metadata": {},
   "source": [
    "# Building references"
   ]
  },
  {
   "cell_type": "markdown",
   "metadata": {},
   "source": [
    "### Config👾"
   ]
  },
  {
   "cell_type": "code",
   "execution_count": 23,
   "metadata": {},
   "outputs": [
    {
     "name": "stdout",
     "output_type": "stream",
     "text": [
      "getting weather data...\n",
      "api request URL https://power.larc.nasa.gov/api/temporal/hourly/point?Time=LST&parameters=T2M,ALLSKY_SFC_SW_DNI,ALLSKY_SFC_SW_DIFF,ALLSKY_SRF_ALB,SZA,WS10M&community=RE&latitude=-33.04401&longitude=-71.62143&start=20230101&end=20231231&format=JSON\n",
      "getting currencies data...\n",
      "set $1 Pesos chileno.. on USD$0.00 \n",
      "set $1 UF............. on USD$38.21 \n",
      "set $1 UTM............ on USD$67.04 \n",
      "set $1 Euro........... on USD$1.03 \n",
      "set $1 Pound.......... on USD$1.25 \n",
      "set $1 Real........... on USD$0.16 \n"
     ]
    }
   ],
   "source": [
    "#cspell:disable\n",
    "from models.inventory import Project\n",
    "### Import Data 💾\n",
    "from source.vlp_ssvsa import data\n",
    "\n",
    "### init project\n",
    "project:Project = Project(**data['project'])"
   ]
  },
  {
   "cell_type": "markdown",
   "metadata": {},
   "source": [
    "### Consumptions && bills 🔌"
   ]
  },
  {
   "cell_type": "code",
   "execution_count": 24,
   "metadata": {},
   "outputs": [],
   "source": [
    "project.building.add_consumptions(**data['consumptions'])"
   ]
  },
  {
   "cell_type": "markdown",
   "metadata": {},
   "source": [
    "# Integration "
   ]
  },
  {
   "cell_type": "markdown",
   "metadata": {},
   "source": [
    "### Machine Components 🎡"
   ]
  },
  {
   "cell_type": "code",
   "execution_count": 25,
   "metadata": {},
   "outputs": [
    {
     "name": "stdout",
     "output_type": "stream",
     "text": [
      "inside cost pv :  208547.06 Currency.CLP\n",
      "inside cost pv :  208547.06 Currency.CLP\n"
     ]
    }
   ],
   "source": [
    "#cspell: disable\n",
    "from IPython.display import clear_output\n",
    "\n",
    "#clean previous load\n",
    "clear_output(wait=True)\n",
    "project.components = {}\n",
    "\n",
    "# assembly projects components\n",
    "project.add_generator(*data['components']['generator'])\n",
    "#nominal power\n",
    "pj_power = project.nominal_power\n",
    "# Energy process\n",
    "project.add_component(*data['components']['install'])\n",
    "# BESS & Storage\n",
    "project.add_storage(*data['components']['storage'])\n",
    "# obras y accesorios\n",
    "project.add_component(*data['components']['accesories'])\n",
    "#Define bucket overloads\n",
    "project.bucket.set_overloads(**data['components']['overloads'])"
   ]
  },
  {
   "cell_type": "markdown",
   "metadata": {},
   "source": [
    "# Write Document 📒\n"
   ]
  },
  {
   "cell_type": "code",
   "execution_count": null,
   "metadata": {},
   "outputs": [],
   "source": [
    "from models.plotter import generate_docs\n",
    "generate_docs(project)"
   ]
  },
  {
   "cell_type": "markdown",
   "metadata": {},
   "source": []
  }
 ],
 "metadata": {
  "kernelspec": {
   "display_name": "Python 3",
   "language": "python",
   "name": "python3"
  },
  "language_info": {
   "codemirror_mode": {
    "name": "ipython",
    "version": 3
   },
   "file_extension": ".py",
   "mimetype": "text/x-python",
   "name": "python",
   "nbconvert_exporter": "python",
   "pygments_lexer": "ipython3",
   "version": "3.13.0"
  }
 },
 "nbformat": 4,
 "nbformat_minor": 2
}
