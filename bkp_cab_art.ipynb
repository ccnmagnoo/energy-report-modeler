{
 "cells": [
  {
   "cell_type": "code",
   "execution_count": 1,
   "metadata": {},
   "outputs": [],
   "source": [
    "%pip install pandas \n",
    "%pip install python-dotenv\n",
    "%pip install -U scikit-learn\n",
    "%pip install sun_position_calculator\n",
    "%pip install requests\n",
    "%pip install docxtpl\n",
    "%pip install matplotlib\n",
    "%pip install tabulate\n",
    "%pip install pyxirr\n",
    "%pip install openpyxl"
   ]
  },
  {
   "cell_type": "code",
   "execution_count": null,
   "metadata": {},
   "outputs": [],
   "source": [
    "#local models\n",
    "from typing import Dict\n",
    "from models.econometrics import Cost, Currency\n",
    "from models.components import Component\n",
    "from models.econometrics import Cost\n",
    "from models.geometry import Orientation\n",
    "from models.photovoltaic import Photovoltaic\n",
    "\n",
    "\n",
    "#init project\n",
    "from models.components import Tech\n",
    "from models.consumption import Energetic\n",
    "from models.inventory import Building, Project\n",
    "import pandas as pd"
   ]
  },
  {
   "cell_type": "code",
   "execution_count": null,
   "metadata": {},
   "outputs": [],
   "source": [
    "#local env variables\n",
    "from dotenv import dotenv_values\n",
    "config = dotenv_values(\".env.local\")"
   ]
  },
  {
   "cell_type": "markdown",
   "metadata": {},
   "source": [
    "# Building references"
   ]
  },
  {
   "cell_type": "markdown",
   "metadata": {},
   "source": [
    "## Address and general info🌎"
   ]
  },
  {
   "cell_type": "code",
   "execution_count": null,
   "metadata": {},
   "outputs": [],
   "source": [
    "#cspell:disable\n",
    "\n",
    "\n",
    "project:Project = Project(\n",
    "    title='Sistema Fotovoltaico OnGrid-Mixto',\n",
    "    building = Building(\n",
    "        geolocation=(-32.3943302,-71.0944392,47),\n",
    "        name='PSR Artificio',\n",
    "        address='Ruta E252, Localidad Artificio,\\nCabildo',\n",
    "        city='Cabildo'),\n",
    "    technology= [Tech.PHOTOVOLTAIC],\n",
    "    consumption= {\n",
    "        'description':'main',\n",
    "        'energetic':Energetic.ELI,\n",
    "        'cost_increment':7/100,\n",
    "        'consumption':[\n",
    "            (771,\"04-05-2023\",125994),\n",
    "            (913,\"05-06-2023\",148996),\n",
    "            (932,\"05-07-2023\",150762),\n",
    "            (897,\"03-08-2023\",138824),\n",
    "            (640,\"04-09-2023\",101493),\n",
    "            (1125,\"04-10-2023\",174228),\n",
    "            (811,\"06-11-2023\",125638),\n",
    "            (680,\"05-12-2023\",106945),\n",
    "            (672,\"04-01-2024\",104817),\n",
    "            (712,\"05-02-2024\",114916),\n",
    "            (707,\"05-03-2024\",116293),\n",
    "    \n",
    "            ],\n",
    "        }\n",
    "    )"
   ]
  },
  {
   "cell_type": "markdown",
   "metadata": {},
   "source": [
    "# Integration "
   ]
  },
  {
   "cell_type": "markdown",
   "metadata": {},
   "source": [
    "## Machine Components 🎡"
   ]
  },
  {
   "cell_type": "code",
   "execution_count": null,
   "metadata": {},
   "outputs": [],
   "source": [
    "#cspell: disable\n",
    "from libs.repository import repo\n",
    "\n",
    "#clean previous load\n",
    "project.components = {}\n",
    "from IPython.display import clear_output\n",
    "\n",
    "from models.energy_storage import Battery\n",
    "from models.photovoltaic import Length, PvTechnicalSheet\n",
    "clear_output(wait=True)\n",
    "\n",
    "# assembly projects components\n",
    "project.add_component(\n",
    "    'generación',\n",
    "    Photovoltaic(project.weather,'Módulo FV A',\n",
    "                reference='https://www.tiendatecnored.cl/modulo-fotovoltaico-650w-canadian-solar.html',\n",
    "                specification='Solar Panel PV 655W 48V',\n",
    "                quantity=7,\n",
    "                cost=None,\n",
    "                orientation=Orientation(15,120-90),\n",
    "                technical_sheet=PvTechnicalSheet(power=655,area=(130.3,238.4,Length.CM)),\n",
    "                ),\n",
    "    generator=True\n",
    "    )\n",
    "\n",
    "project.add_component(\n",
    "    'auxiliar',\n",
    "    repo['inverter']['Voltronic 5kW'],#inverter\n",
    "    Component('Controlador de Carga',\n",
    "                model='Enertik 80A 12/24V',\n",
    "                specification='1000W to 2000 24V output',\n",
    "                cost_per_unit=Cost(101600,Currency.CLP)),\n",
    "    Component('medidor bidireccional',\n",
    "                model='Elster AS1440',\n",
    "                specification='Trifasico',\n",
    "                cost_per_unit=Cost(306990,Currency.CLP)),\n",
    "    Battery('almacenamiento',\n",
    "                model='MP GEL12-250',\n",
    "                reference='https://www.tiendatecnored.cl/bateria-gel-ciclo-profundo-12v-250ah.html',\n",
    "                cost_per_unit=Cost(305990,Currency.CLP),\n",
    "                volt=12,\n",
    "                charge=250,\n",
    "                demand=project.building.consumption_forecast(['main'])['energy'].to_list(),\n",
    "                hours_autonomy=20,#hours\n",
    "                )\n",
    "    )\n",
    "\n",
    "project.add_component(\n",
    "    'obras',\n",
    "    Component(description='instalación eléctrica',\n",
    "            specification='H/P eléctrico',\n",
    "            cost_per_unit=Cost(1,currency=Currency.UF),\n",
    "            quantity=8*5,\n",
    "            ),\n",
    "    Component(description='estructura de soporte',\n",
    "            specification='elementos fijación',\n",
    "            cost_per_unit=Cost((4*800+11400/4+4*700+4000+500)),\n",
    "            quantity=7*4\n",
    "            )\n",
    ")\n"
   ]
  },
  {
   "cell_type": "markdown",
   "metadata": {},
   "source": [
    "# Write Document 📒\n"
   ]
  },
  {
   "cell_type": "code",
   "execution_count": null,
   "metadata": {},
   "outputs": [],
   "source": [
    "import os\n",
    "PATH = 'build/'+f'reporte_{project.building.name}/'\n",
    "\n",
    "if not os.path.exists(PATH):\n",
    "    #create\n",
    "    os.makedirs(PATH)"
   ]
  },
  {
   "cell_type": "markdown",
   "metadata": {},
   "source": [
    "### Saving results on EXCEL ❎"
   ]
  },
  {
   "cell_type": "code",
   "execution_count": null,
   "metadata": {},
   "outputs": [],
   "source": [
    "from models.plotter import toTable\n",
    "toTable(project,PATH)"
   ]
  },
  {
   "cell_type": "markdown",
   "metadata": {},
   "source": [
    "### Generate Context->Doc📄✍️"
   ]
  },
  {
   "cell_type": "code",
   "execution_count": null,
   "metadata": {},
   "outputs": [],
   "source": [
    "from docxtpl import DocxTemplate # type: ignore\n",
    "#init doc\n",
    "#assembly proxy object \n",
    "memory_report = DocxTemplate(\"templates/memory_template.docx\")\n",
    "bidding_report = DocxTemplate(\"templates/bidding_template.docx\")"
   ]
  },
  {
   "cell_type": "markdown",
   "metadata": {},
   "source": [
    "## Write params and tables"
   ]
  },
  {
   "cell_type": "code",
   "execution_count": null,
   "metadata": {},
   "outputs": [],
   "source": [
    "#loading context\n",
    "#cspell: disable\n",
    "memory_report.render(project.context(template=memory_report))\n",
    "bidding_report.render(project.context(template=bidding_report))\n"
   ]
  },
  {
   "cell_type": "markdown",
   "metadata": {},
   "source": [
    "## Insert Plots 📊"
   ]
  },
  {
   "cell_type": "code",
   "execution_count": null,
   "metadata": {},
   "outputs": [],
   "source": [
    "#dep\n",
    "from models.plotter import plotter\n",
    "plotter(project,PATH)"
   ]
  },
  {
   "cell_type": "code",
   "execution_count": null,
   "metadata": {},
   "outputs": [],
   "source": [
    "#set into doc\n",
    "plot_list = [\n",
    "    'plot_consumption_forecast',\n",
    "    'plot_irradiance',\n",
    "    'plot_temperature',\n",
    "    'plot_components',\n",
    "    'plot_components_irr',\n",
    "    'plot_components_production',\n",
    "    'plot_production_performance',\n",
    "    'plot_performance_frequency',\n",
    "    'plot_flux',\n",
    "]\n",
    "\n",
    "for plot in plot_list:\n",
    "    memory_report.replace_pic(plot,PATH+f'{plot}.png')\n",
    "    print('replaced plot:',plot)"
   ]
  },
  {
   "cell_type": "code",
   "execution_count": null,
   "metadata": {},
   "outputs": [],
   "source": [
    "memory_report.save(PATH+f\"reporte_memoria_calculo.docx\")\n",
    "bidding_report.save(PATH+f\"reporte_pliegos_técnicos.docx\")"
   ]
  }
 ],
 "metadata": {
  "kernelspec": {
   "display_name": "Python 3",
   "language": "python",
   "name": "python3"
  },
  "language_info": {
   "codemirror_mode": {
    "name": "ipython",
    "version": 3
   },
   "file_extension": ".py",
   "mimetype": "text/x-python",
   "name": "python",
   "nbconvert_exporter": "python",
   "pygments_lexer": "ipython3",
   "version": "3.12.0"
  }
 },
 "nbformat": 4,
 "nbformat_minor": 2
}
