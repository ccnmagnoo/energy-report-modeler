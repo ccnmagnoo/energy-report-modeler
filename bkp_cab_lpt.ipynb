{
 "cells": [
  {
   "cell_type": "code",
   "execution_count": 1,
   "metadata": {},
   "outputs": [
    {
     "name": "stdout",
     "output_type": "stream",
     "text": [
      "Requirement already satisfied: pandas in c:\\users\\crcam\\appdata\\local\\programs\\python\\python312\\lib\\site-packages (2.1.3)Note: you may need to restart the kernel to use updated packages.\n",
      "\n",
      "Requirement already satisfied: numpy<2,>=1.26.0 in c:\\users\\crcam\\appdata\\local\\programs\\python\\python312\\lib\\site-packages (from pandas) (1.26.2)\n",
      "Requirement already satisfied: python-dateutil>=2.8.2 in c:\\users\\crcam\\appdata\\local\\programs\\python\\python312\\lib\\site-packages (from pandas) (2.8.2)\n",
      "Requirement already satisfied: pytz>=2020.1 in c:\\users\\crcam\\appdata\\local\\programs\\python\\python312\\lib\\site-packages (from pandas) (2023.3.post1)\n",
      "Requirement already satisfied: tzdata>=2022.1 in c:\\users\\crcam\\appdata\\local\\programs\\python\\python312\\lib\\site-packages (from pandas) (2023.3)\n",
      "Requirement already satisfied: six>=1.5 in c:\\users\\crcam\\appdata\\local\\programs\\python\\python312\\lib\\site-packages (from python-dateutil>=2.8.2->pandas) (1.16.0)\n",
      "Requirement already satisfied: python-dotenv in c:\\users\\crcam\\appdata\\local\\programs\\python\\python312\\lib\\site-packages (1.0.1)\n",
      "Note: you may need to restart the kernel to use updated packages.\n",
      "Requirement already satisfied: scikit-learn in c:\\users\\crcam\\appdata\\local\\programs\\python\\python312\\lib\\site-packages (1.5.1)\n",
      "Requirement already satisfied: numpy>=1.19.5 in c:\\users\\crcam\\appdata\\local\\programs\\python\\python312\\lib\\site-packages (from scikit-learn) (1.26.2)\n",
      "Requirement already satisfied: scipy>=1.6.0 in c:\\users\\crcam\\appdata\\local\\programs\\python\\python312\\lib\\site-packages (from scikit-learn) (1.13.0)\n",
      "Requirement already satisfied: joblib>=1.2.0 in c:\\users\\crcam\\appdata\\local\\programs\\python\\python312\\lib\\site-packages (from scikit-learn) (1.4.0)\n",
      "Requirement already satisfied: threadpoolctl>=3.1.0 in c:\\users\\crcam\\appdata\\local\\programs\\python\\python312\\lib\\site-packages (from scikit-learn) (3.4.0)\n",
      "Note: you may need to restart the kernel to use updated packages.\n",
      "Requirement already satisfied: sun_position_calculator in c:\\users\\crcam\\appdata\\local\\programs\\python\\python312\\lib\\site-packages (1.0.0)\n",
      "Note: you may need to restart the kernel to use updated packages.\n",
      "Requirement already satisfied: requests in c:\\users\\crcam\\appdata\\local\\programs\\python\\python312\\lib\\site-packages (2.31.0)\n",
      "Requirement already satisfied: charset-normalizer<4,>=2 in c:\\users\\crcam\\appdata\\local\\programs\\python\\python312\\lib\\site-packages (from requests) (3.3.2)\n",
      "Requirement already satisfied: idna<4,>=2.5 in c:\\users\\crcam\\appdata\\local\\programs\\python\\python312\\lib\\site-packages (from requests) (3.6)\n",
      "Requirement already satisfied: urllib3<3,>=1.21.1 in c:\\users\\crcam\\appdata\\local\\programs\\python\\python312\\lib\\site-packages (from requests) (2.1.0)\n",
      "Requirement already satisfied: certifi>=2017.4.17 in c:\\users\\crcam\\appdata\\local\\programs\\python\\python312\\lib\\site-packages (from requests) (2023.11.17)\n",
      "Note: you may need to restart the kernel to use updated packages.\n",
      "Requirement already satisfied: docxtpl in c:\\users\\crcam\\appdata\\local\\programs\\python\\python312\\lib\\site-packages (0.16.7)Note: you may need to restart the kernel to use updated packages.\n",
      "\n",
      "Requirement already satisfied: six in c:\\users\\crcam\\appdata\\local\\programs\\python\\python312\\lib\\site-packages (from docxtpl) (1.16.0)\n",
      "Requirement already satisfied: python-docx in c:\\users\\crcam\\appdata\\local\\programs\\python\\python312\\lib\\site-packages (from docxtpl) (1.1.0)\n",
      "Requirement already satisfied: docxcompose in c:\\users\\crcam\\appdata\\local\\programs\\python\\python312\\lib\\site-packages (from docxtpl) (1.4.0)\n",
      "Requirement already satisfied: jinja2 in c:\\users\\crcam\\appdata\\local\\programs\\python\\python312\\lib\\site-packages (from docxtpl) (3.1.2)\n",
      "Requirement already satisfied: lxml in c:\\users\\crcam\\appdata\\local\\programs\\python\\python312\\lib\\site-packages (from docxtpl) (4.9.3)\n",
      "Requirement already satisfied: setuptools in c:\\users\\crcam\\appdata\\local\\programs\\python\\python312\\lib\\site-packages (from docxcompose->docxtpl) (69.0.2)\n",
      "Requirement already satisfied: babel in c:\\users\\crcam\\appdata\\local\\programs\\python\\python312\\lib\\site-packages (from docxcompose->docxtpl) (2.14.0)\n",
      "Requirement already satisfied: typing-extensions in c:\\users\\crcam\\appdata\\local\\programs\\python\\python312\\lib\\site-packages (from python-docx->docxtpl) (4.9.0)\n",
      "Requirement already satisfied: MarkupSafe>=2.0 in c:\\users\\crcam\\appdata\\local\\programs\\python\\python312\\lib\\site-packages (from jinja2->docxtpl) (2.1.3)\n",
      "Requirement already satisfied: matplotlib in c:\\users\\crcam\\appdata\\local\\programs\\python\\python312\\lib\\site-packages (3.8.4)\n",
      "Requirement already satisfied: contourpy>=1.0.1 in c:\\users\\crcam\\appdata\\local\\programs\\python\\python312\\lib\\site-packages (from matplotlib) (1.2.1)\n",
      "Requirement already satisfied: cycler>=0.10 in c:\\users\\crcam\\appdata\\local\\programs\\python\\python312\\lib\\site-packages (from matplotlib) (0.12.1)\n",
      "Requirement already satisfied: fonttools>=4.22.0 in c:\\users\\crcam\\appdata\\local\\programs\\python\\python312\\lib\\site-packages (from matplotlib) (4.51.0)\n",
      "Requirement already satisfied: kiwisolver>=1.3.1 in c:\\users\\crcam\\appdata\\local\\programs\\python\\python312\\lib\\site-packages (from matplotlib) (1.4.5)\n",
      "Requirement already satisfied: numpy>=1.21 in c:\\users\\crcam\\appdata\\local\\programs\\python\\python312\\lib\\site-packages (from matplotlib) (1.26.2)\n",
      "Requirement already satisfied: packaging>=20.0 in c:\\users\\crcam\\appdata\\roaming\\python\\python312\\site-packages (from matplotlib) (23.2)\n",
      "Requirement already satisfied: pillow>=8 in c:\\users\\crcam\\appdata\\local\\programs\\python\\python312\\lib\\site-packages (from matplotlib) (10.3.0)\n",
      "Requirement already satisfied: pyparsing>=2.3.1 in c:\\users\\crcam\\appdata\\local\\programs\\python\\python312\\lib\\site-packages (from matplotlib) (3.1.2)\n",
      "Requirement already satisfied: python-dateutil>=2.7 in c:\\users\\crcam\\appdata\\local\\programs\\python\\python312\\lib\\site-packages (from matplotlib) (2.8.2)\n",
      "Requirement already satisfied: six>=1.5 in c:\\users\\crcam\\appdata\\local\\programs\\python\\python312\\lib\\site-packages (from python-dateutil>=2.7->matplotlib) (1.16.0)\n",
      "Note: you may need to restart the kernel to use updated packages.\n",
      "Requirement already satisfied: tabulate in c:\\users\\crcam\\appdata\\local\\programs\\python\\python312\\lib\\site-packages (0.9.0)\n",
      "Note: you may need to restart the kernel to use updated packages.\n",
      "Requirement already satisfied: pyxirr in c:\\users\\crcam\\appdata\\local\\programs\\python\\python312\\lib\\site-packages (0.10.3)\n",
      "Note: you may need to restart the kernel to use updated packages.\n",
      "Requirement already satisfied: openpyxl in c:\\users\\crcam\\appdata\\local\\programs\\python\\python312\\lib\\site-packages (3.1.2)\n",
      "Requirement already satisfied: et-xmlfile in c:\\users\\crcam\\appdata\\local\\programs\\python\\python312\\lib\\site-packages (from openpyxl) (1.1.0)\n",
      "Note: you may need to restart the kernel to use updated packages.\n"
     ]
    }
   ],
   "source": [
    "%pip install pandas \n",
    "%pip install python-dotenv\n",
    "%pip install -U scikit-learn\n",
    "%pip install sun_position_calculator\n",
    "%pip install requests\n",
    "%pip install docxtpl\n",
    "%pip install matplotlib\n",
    "%pip install tabulate\n",
    "%pip install pyxirr\n",
    "%pip install openpyxl"
   ]
  },
  {
   "cell_type": "code",
   "execution_count": 2,
   "metadata": {},
   "outputs": [],
   "source": [
    "#local models\n",
    "from typing import Dict\n",
    "from models.econometrics import Cost, Currency\n",
    "from models.components import Component\n",
    "from models.econometrics import Cost\n",
    "from models.geometry import Orientation\n",
    "from models.photovoltaic import Photovoltaic\n",
    "\n",
    "\n",
    "#init project\n",
    "from models.components import Tech\n",
    "from models.consumption import Energetic\n",
    "from models.inventory import Building, Project\n",
    "import pandas as pd"
   ]
  },
  {
   "cell_type": "code",
   "execution_count": null,
   "metadata": {},
   "outputs": [],
   "source": [
    "#local env variables\n",
    "from dotenv import dotenv_values\n",
    "config = dotenv_values(\".env.local\")"
   ]
  },
  {
   "cell_type": "markdown",
   "metadata": {},
   "source": [
    "# Building references"
   ]
  },
  {
   "cell_type": "markdown",
   "metadata": {},
   "source": [
    "## Address and general info🌎"
   ]
  },
  {
   "cell_type": "code",
   "execution_count": null,
   "metadata": {},
   "outputs": [],
   "source": [
    "#cspell:disable\n",
    "\n",
    "\n",
    "project:Project = Project(\n",
    "    title='Sistema Fotovoltaico OnGrid-Mixto',\n",
    "    building = Building(\n",
    "        geolocation=(-32.48398797260914,-70.93171875606426),\n",
    "        name='PSR Sector Las Puertas',\n",
    "        address='Ruta E411, Sector Las Puertas,\\nCabildo',\n",
    "        city='Cabildo'),\n",
    "    technology= [Tech.PHOTOVOLTAIC],\n",
    "    consumption= {\n",
    "        'description':'main',\n",
    "        'energetic':Energetic.ELI,\n",
    "        'cost_increment':7/100,\n",
    "        'consumption':[\n",
    "            (158,\"11-03-2023\",25716),\n",
    "            (193,\"10-04-2023\",31097),\n",
    "            (514,\"10-05-2023\",80464),\n",
    "            (510,\"08-06-2023\",78502),\n",
    "            (615,\"11-07-2023\",90796),\n",
    "            (558,\"09-08-2023\",82515),\n",
    "            (428,\"08-09-2023\",63626),\n",
    "            (272,\"07-10-2023\",48938),\n",
    "            (161,\"09-11-2023\",25386),\n",
    "            (110,\"10-12-2023\",16863),\n",
    "            (115,\"10-01-2024\",18882),\n",
    "            (115,\"09-02-2024\",20948),\n",
    "            ],\n",
    "        }\n",
    "    )"
   ]
  },
  {
   "cell_type": "markdown",
   "metadata": {},
   "source": [
    "# Integration "
   ]
  },
  {
   "cell_type": "markdown",
   "metadata": {},
   "source": [
    "## Machine Components 🎡"
   ]
  },
  {
   "cell_type": "markdown",
   "metadata": {},
   "source": []
  },
  {
   "cell_type": "code",
   "execution_count": null,
   "metadata": {},
   "outputs": [],
   "source": [
    "#cspell: disable\n",
    "from libs.repository import repo\n",
    "\n",
    "#clean previous load\n",
    "project.components = {}\n",
    "from IPython.display import clear_output\n",
    "\n",
    "from models.energy_storage import Battery\n",
    "from models.photovoltaic import Length, PvTechnicalSheet\n",
    "clear_output(wait=True)\n",
    "\n",
    "# assembly projects components\n",
    "project.add_component(\n",
    "    'generación',\n",
    "    Photovoltaic(project.weather,'Módulo FV A',\n",
    "                reference='https://www.tiendatecnored.cl/modulo-fotovoltaico-650w-canadian-solar.html',\n",
    "                specification='Solar Panel PV 655W 48V',\n",
    "                quantity=5,\n",
    "                cost=Cost(248171/1.19,Currency.CLP),\n",
    "                orientation=Orientation(25,66),\n",
    "                technical_sheet=PvTechnicalSheet(power=655,area=(130.3,238.4,Length.CM)),\n",
    "                ),\n",
    "    # Photovoltaic(project.weather,'Módulo FV B',\n",
    "    #             reference='https://www.tiendatecnored.cl/modulo-fotovoltaico-650w-canadian-solar.html',\n",
    "    #             specification='Solar Panel PV 655W 48V',\n",
    "    #             quantity=3,\n",
    "    #             cost=None,\n",
    "    #             orientation=Orientation(25,0),\n",
    "    #             technical_sheet=PvTechnicalSheet(power=655,area=(130.3,238.4,Length.CM)),\n",
    "    #             ),\n",
    "    generator=True\n",
    "    )\n",
    "\n",
    "project.add_component(\n",
    "    'auxiliar',\n",
    "    repo['inverter']['Huawei 2kW'],#inverter\n",
    "    Component('Controlador de Carga',\n",
    "                model='Enertik 80A 12/24V',\n",
    "                specification='1000W to 2000 24V output',\n",
    "                cost_per_unit=Cost(101600,Currency.CLP)),\n",
    "    Component('medidor bidireccional',\n",
    "                model='Elster AS1440',\n",
    "                specification='Trifasico',\n",
    "                cost_per_unit=Cost(306990,Currency.CLP)),\n",
    "    Battery('almacenamiento',\n",
    "                model='MP GEL12-250',\n",
    "                reference='https://www.tiendatecnored.cl/bateria-gel-ciclo-profundo-12v-250ah.html',\n",
    "                cost_per_unit=Cost(305990,Currency.CLP),\n",
    "                volt=12,\n",
    "                charge=250,\n",
    "                demand=project.building.consumption_forecast(['main'])['energy'].to_list(),\n",
    "                hours_autonomy=2,#hours\n",
    "                )\n",
    "    )\n",
    "\n",
    "project.add_component(\n",
    "    'obras',\n",
    "    Component(description='instalación eléctrica',\n",
    "            specification='H/P eléctrico',\n",
    "            cost_per_unit=Cost(1,currency=Currency.UF),\n",
    "            quantity=5*5,\n",
    "            ),\n",
    "    Component(description='estructura de soporte',\n",
    "            specification='elementos fijación',\n",
    "            cost_per_unit=Cost((4*800+11400/4+4*700+4000+500)),\n",
    "            quantity=5*4\n",
    "            )\n",
    ")\n"
   ]
  },
  {
   "cell_type": "markdown",
   "metadata": {},
   "source": [
    "# Write Document 📒\n"
   ]
  },
  {
   "cell_type": "code",
   "execution_count": null,
   "metadata": {},
   "outputs": [],
   "source": [
    "import os\n",
    "PATH = 'build/'+f'reporte_{project.building.name}/'\n",
    "\n",
    "if not os.path.exists(PATH):\n",
    "    #create\n",
    "    os.makedirs(PATH)"
   ]
  },
  {
   "cell_type": "markdown",
   "metadata": {},
   "source": [
    "### Saving results on EXCEL ❎"
   ]
  },
  {
   "cell_type": "code",
   "execution_count": null,
   "metadata": {},
   "outputs": [],
   "source": [
    "from models.plotter import toTable\n",
    "toTable(project,PATH)"
   ]
  },
  {
   "cell_type": "markdown",
   "metadata": {},
   "source": [
    "### Generate Context->Doc📄✍️"
   ]
  },
  {
   "cell_type": "code",
   "execution_count": null,
   "metadata": {},
   "outputs": [],
   "source": [
    "from docxtpl import DocxTemplate # type: ignore\n",
    "#init doc\n",
    "#assembly proxy object \n",
    "memory_report = DocxTemplate(\"templates/memory_template.docx\")\n",
    "bidding_report = DocxTemplate(\"templates/bidding_template.docx\")"
   ]
  },
  {
   "cell_type": "markdown",
   "metadata": {},
   "source": [
    "## Write params and tables"
   ]
  },
  {
   "cell_type": "code",
   "execution_count": null,
   "metadata": {},
   "outputs": [],
   "source": [
    "#loading context\n",
    "#cspell: disable\n",
    "memory_report.render(project.context(template=memory_report))\n",
    "bidding_report.render(project.context(template=bidding_report))\n"
   ]
  },
  {
   "cell_type": "code",
   "execution_count": null,
   "metadata": {},
   "outputs": [],
   "source": [
    "project.economical_analysis(Currency.CLP)"
   ]
  },
  {
   "cell_type": "markdown",
   "metadata": {},
   "source": [
    "## Insert Plots 📊"
   ]
  },
  {
   "cell_type": "code",
   "execution_count": null,
   "metadata": {},
   "outputs": [],
   "source": [
    "#dep\n",
    "from models.plotter import plotter\n",
    "plotter(project,PATH)"
   ]
  },
  {
   "cell_type": "code",
   "execution_count": null,
   "metadata": {},
   "outputs": [],
   "source": [
    "#set into doc\n",
    "plot_list = [\n",
    "    'plot_consumption_forecast',\n",
    "    'plot_irradiance',\n",
    "    'plot_temperature',\n",
    "    'plot_components',\n",
    "    'plot_components_irr',\n",
    "    'plot_components_production',\n",
    "    'plot_production_performance',\n",
    "    'plot_performance_frequency',\n",
    "    'plot_flux',\n",
    "]\n",
    "\n",
    "for plot in plot_list:\n",
    "    memory_report.replace_pic(plot,PATH+f'{plot}.png')\n",
    "    print('replaced plot:',plot)"
   ]
  },
  {
   "cell_type": "code",
   "execution_count": null,
   "metadata": {},
   "outputs": [],
   "source": [
    "memory_report.save(PATH+f\"reporte_memoria_calculo.docx\")\n",
    "bidding_report.save(PATH+f\"reporte_pliegos_técnicos.docx\")"
   ]
  }
 ],
 "metadata": {
  "kernelspec": {
   "display_name": "Python 3",
   "language": "python",
   "name": "python3"
  },
  "language_info": {
   "codemirror_mode": {
    "name": "ipython",
    "version": 3
   },
   "file_extension": ".py",
   "mimetype": "text/x-python",
   "name": "python",
   "nbconvert_exporter": "python",
   "pygments_lexer": "ipython3",
   "version": "3.12.0"
  }
 },
 "nbformat": 4,
 "nbformat_minor": 2
}
